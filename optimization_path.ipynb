{
 "cells": [
  {
   "cell_type": "code",
   "execution_count": 1,
   "metadata": {},
   "outputs": [],
   "source": [
    "import torch\n",
    "import torchvision\n",
    "import torchvision.transforms as transforms\n",
    "from tqdm import tqdm\n",
    "import numpy as np\n",
    "\n",
    "import matplotlib.pyplot as plt\n",
    "import model_cifar\n",
    "import copy\n",
    "from sklearn.decomposition import PCA\n",
    "from scipy.interpolate import griddata\n",
    "\n",
    "import plotly.graph_objects as go"
   ]
  },
  {
   "cell_type": "code",
   "execution_count": 2,
   "metadata": {},
   "outputs": [
    {
     "name": "stdout",
     "output_type": "stream",
     "text": [
      "Files already downloaded and verified\n",
      "Files already downloaded and verified\n"
     ]
    }
   ],
   "source": [
    "transform = transforms.Compose(\n",
    "    [transforms.ToTensor(),\n",
    "     transforms.Normalize((0.5, 0.5, 0.5), (0.5, 0.5, 0.5))])\n",
    "\n",
    "batch_size = 128\n",
    "\n",
    "trainset = torchvision.datasets.CIFAR10(root='./data', train=True,\n",
    "                                        download=True, transform=transform)\n",
    "trainloader = torch.utils.data.DataLoader(trainset, batch_size=batch_size,\n",
    "                                          shuffle=True)\n",
    "\n",
    "testset = torchvision.datasets.CIFAR10(root='./data', train=False,\n",
    "                                       download=True, transform=transform)\n",
    "testloader = torch.utils.data.DataLoader(testset, batch_size=512,\n",
    "                                         shuffle=False)\n",
    "\n",
    "device = torch.device(\"cuda:0\" if torch.cuda.is_available() else \"cpu\")"
   ]
  },
  {
   "cell_type": "code",
   "execution_count": 3,
   "metadata": {},
   "outputs": [],
   "source": [
    "def train_store_model_params(model, trainloader, epochs, trajecory_points_epoch, optimizer, scheduler,  criterion):\n",
    "    '''\n",
    "    Train the model and store the model parameters at the end of each epoch\n",
    "    \n",
    "    returns:\n",
    "        model_param: list of model parameters at the end of each epoch\n",
    "    '''\n",
    "    model_param = []\n",
    "    for epoch in range(epochs):\n",
    "        running_loss = 0.0\n",
    "        for i, data in enumerate(tqdm(trainloader, 0)):\n",
    "            # get the inputs; data is a list of [inputs, labels]\n",
    "            inputs, labels = data[0].to(device), data[1].to(device)\n",
    "\n",
    "            # zero the parameter gradients\n",
    "            optimizer.zero_grad()\n",
    "\n",
    "            # forward + backward + optimize\n",
    "            outputs = model(inputs)\n",
    "            loss = criterion(outputs, labels)\n",
    "            loss.backward()\n",
    "            optimizer.step()\n",
    "            \n",
    "            running_loss += loss.item()\n",
    "            if ((i+1) % trajecory_points_epoch == 0) and epochs-epoch < 10:\n",
    "                params = list(model.parameters())\n",
    "                params_vector = torch.nn.utils.parameters_to_vector(params).detach().cpu().numpy()\n",
    "                model_param.append(params_vector)\n",
    "        print('[%d, %5d] loss: %.3f' % (epoch + 1, i + 1, running_loss / len(trainloader)))\n",
    "        scheduler.step()\n",
    "        if epochs-epoch < 10:\n",
    "            params = list(model.parameters())\n",
    "            params_vector = torch.nn.utils.parameters_to_vector(params).detach().cpu().numpy()\n",
    "            model_param.append(params_vector)\n",
    "    return model_param\n"
   ]
  },
  {
   "cell_type": "code",
   "execution_count": 4,
   "metadata": {},
   "outputs": [],
   "source": [
    "def compute_PCA(trajectory, normalize=True):\n",
    "    '''\n",
    "    Perform PCA on the trajectory\n",
    "    \n",
    "    args:\n",
    "        trajectory: trajectory of model parameters (param_model, num_points)\n",
    "    \n",
    "    returns:\n",
    "        X_pca: transformed data\n",
    "    '''\n",
    "    center_trajectory = trajectory[:,:-1]\n",
    "    std_center_trajectory = np.std(center_trajectory, axis=1)\n",
    "    normalized_trajectory = center_trajectory / std_center_trajectory.reshape(-1, 1)\n",
    "    pca = PCA(n_components=2)\n",
    "    X_pca = pca.fit_transform(normalized_trajectory)\n",
    "    print(\"Explained Variance Ratio:\", pca.explained_variance_ratio_)\n",
    "    print(\"Transformed Data Shape:\", X_pca.shape)\n",
    "    if normalize:\n",
    "        X_pca[:,0] = X_pca[:,0] * std_center_trajectory\n",
    "        X_pca[:,1] = X_pca[:,1] * std_center_trajectory\n",
    "    return X_pca, pca\n"
   ]
  },
  {
   "cell_type": "code",
   "execution_count": 5,
   "metadata": {},
   "outputs": [],
   "source": [
    "def compute_loss_grid(x_steps, y_steps, X_pca, trajectory, model, criterion, testloader):\n",
    "    '''\n",
    "    Compute the loss grid\n",
    "    \n",
    "    args:\n",
    "        x_steps: steps in x direction np.array of shape (steps,)\n",
    "        y_steps: steps in y direction np.array of shape (steps,)\n",
    "        X_pca: transformed data \n",
    "        trajectory : List of model parameters\n",
    "        model: model\n",
    "        criterion: loss function\n",
    "        testloader: test data loader\n",
    "    \n",
    "    returns:\n",
    "        losses: loss grid np.array of shape (steps, steps) containing loss values a each grid point\n",
    "    '''\n",
    "    losses = np.zeros((len(x_steps), len(y_steps)))\n",
    "    inputs, labels = next(iter(testloader))\n",
    "    inputs, labels = inputs.to(device), labels.to(device)\n",
    "    # var_center_trajectory = np.var(trajectory[:-1].T, axis=1)\n",
    "    dir_one, dir_two = X_pca[:, 0] , X_pca[:, 1] \n",
    "    for i,alpha in enumerate(x_steps):\n",
    "        for j, beta in enumerate(y_steps):\n",
    "            new_params = copy.deepcopy(trajectory[-1])\n",
    "            new_params += alpha * dir_one + beta * dir_two\n",
    "            new_params = torch.from_numpy(new_params).to(device)\n",
    "            torch.nn.utils.vector_to_parameters(new_params, model.parameters())\n",
    "            with torch.no_grad():\n",
    "                loss = criterion(model(inputs), labels).item()\n",
    "                losses[i, j] = loss\n",
    "                print(f'i: {i}, j: {j}, loss: {loss}')\n",
    "    return losses\n",
    "\n",
    "def compute_accuracy_grid(x_steps, y_steps, X_pca, trajectory, model, testloader):\n",
    "    '''\n",
    "    Compute the accuracy grid\n",
    "    \n",
    "    args:\n",
    "        x_steps: steps in x direction np.array of shape (steps,)\n",
    "        y_steps: steps in y direction np.array of shape (steps,)\n",
    "        X_pca: transformed data \n",
    "        trajectory : List of model parameters\n",
    "        model: model\n",
    "        testloader: test data loader\n",
    "    \n",
    "    returns:\n",
    "        accuracies: accuracy grid np.array of shape (steps, steps) containing accuracy values a each grid point\n",
    "    '''\n",
    "    accuracies = np.zeros((len(x_steps), len(y_steps)))\n",
    "    inputs, labels = next(iter(testloader))\n",
    "    inputs, labels = inputs.to(device), labels.to(device)\n",
    "    dir_one, dir_two = X_pca[:, 0] , X_pca[:, 1] \n",
    "    for i,alpha in enumerate(x_steps):\n",
    "        for j, beta in enumerate(y_steps):\n",
    "            new_params = copy.deepcopy(trajectory[-1])\n",
    "            new_params += alpha * dir_one + beta * dir_two\n",
    "            new_params = torch.from_numpy(new_params).to(device)\n",
    "            torch.nn.utils.vector_to_parameters(new_params, model.parameters())\n",
    "            with torch.no_grad():\n",
    "                correct = 0\n",
    "                total = 0\n",
    "                for batch_id, data in enumerate(testloader):\n",
    "                    images, labels = data[0].to(device), data[1].to(device)\n",
    "                    outputs = model(images)\n",
    "                    _, predicted = torch.max(outputs.data, 1)\n",
    "                    total += labels.size(0)\n",
    "                    correct += (predicted == labels).sum().item()\n",
    "                    if batch_id == 2:\n",
    "                        break\n",
    "                accuracy = correct / total\n",
    "                accuracies[i, j] = accuracy\n",
    "                print(f'i: {i}, j: {j}, accuracy: {accuracy}')\n",
    "    return accuracies"
   ]
  },
  {
   "cell_type": "code",
   "execution_count": 6,
   "metadata": {},
   "outputs": [],
   "source": [
    "def project_trajectory_on_dir(dir_one, dir_two, trajectory):\n",
    "    '''\n",
    "    Project the trajectory on the two directions\n",
    "    \n",
    "    args:\n",
    "        dir_one: direction 1\n",
    "        dir_two: direction 2\n",
    "        trajectory: trajectory (num_param, num_points)\n",
    "    \n",
    "    returns:\n",
    "        projection_dir_one: projection on direction 1\n",
    "        projection_dir_two: projection on direction 2\n",
    "    '''\n",
    "    # var_center_trajectory = np.var(trajectory, axis=1) # (num_param, 1)\n",
    "    # dir_one = dir_one * var_center_trajectory # (num_param, 1)\n",
    "    # dir_two = dir_two * var_center_trajectory # (num_param, 1)\n",
    "    \n",
    "    norm_dir_one = np.linalg.norm(dir_one) # scalar\n",
    "    norm_dir_two = np.linalg.norm(dir_two) # scalar\n",
    "\n",
    "    projection_dir_one = trajectory.T @ dir_one / norm_dir_one # (num_points, 1)\n",
    "    projection_dir_two = trajectory.T @ dir_two / norm_dir_two # (num_points, 1)\n",
    "    \n",
    "    return projection_dir_one , projection_dir_two"
   ]
  },
  {
   "cell_type": "code",
   "execution_count": 7,
   "metadata": {},
   "outputs": [],
   "source": [
    "def plot_optimization_path_3d(loss_data, x_steps, y_steps, projection_dir_one, projection_dir_two, pca, z_axis = 'loss'):\n",
    "    X = x_steps\n",
    "    Y = y_steps\n",
    "\n",
    "    # Find the range of your z values\n",
    "    z_min, z_max = np.min(loss_data), np.max(loss_data)\n",
    "    \n",
    "    # # Create a grid of (x, y) coordinates for the landscape\n",
    "    grid_x, grid_y = np.meshgrid(X, Y)\n",
    "    # Interpolate the landscape values for the given (x, y) coordinates\n",
    "    z_values_interp = griddata(points = np.column_stack((grid_x.flatten(), grid_y.flatten()))\n",
    "                               , values = loss_data.flatten()\n",
    "                               , xi = np.column_stack((projection_dir_one, projection_dir_two))\n",
    "                               , method='linear')\n",
    "    # Create layout with adjusted scale\n",
    "    layout = go.Layout(\n",
    "        scene=dict(\n",
    "            aspectmode=\"manual\",  # Set aspect mode to manual\n",
    "            aspectratio=dict(x=1, y=1, z=0.6),  # Set aspect ratios for x, y, and z\n",
    "            zaxis=dict(range=[z_min, z_max ])  # Set the range for the z-axis\n",
    "        ),\n",
    "        width=800,  \n",
    "        height=800  \n",
    "    )\n",
    "    # mask point in projection direction outside of x_steps\n",
    "    mask = (projection_dir_one >= X[0]) & (projection_dir_one <= X[-1]) & (projection_dir_two >= Y[0]) & (projection_dir_two <= Y[-1])\n",
    "    projection_dir_one = projection_dir_one[mask]\n",
    "    projection_dir_two = projection_dir_two[mask]\n",
    "    z_values_interp = z_values_interp[mask]\n",
    "    \n",
    "    # Create figure without the trace_surface\n",
    "    fig = go.Figure(layout=layout)\n",
    "    # Add the surface trace to the figure\n",
    "    fig.add_trace(go.Surface(x=X, y=Y, z=loss_data, name='Loss Landscape', colorscale='Viridis',\n",
    "                             contours = {\n",
    "                                    \"z\": {\"show\": True, \"start\": z_min, \"end\": z_max, \"size\": 0.1, \"color\": 'white'}\n",
    "                             }))\n",
    "\n",
    "    # Add the scatter plot for the path with interpolated z values\n",
    "    trace_path = go.Scatter3d(x=projection_dir_one, y=projection_dir_two, z=z_values_interp.flatten(),\n",
    "                              mode='markers+lines', marker=dict(size=3, color='red'), line=dict(width=5, color='red'), name='Optimization Path')\n",
    "    \n",
    "    # Add the trace to the figure\n",
    "    fig.add_trace(trace_path)\n",
    "    fig.update_scenes(zaxis_title_text=z_axis)\n",
    "    fig.update_scenes(xaxis_title_text=f'Pca 1 var {pca.explained_variance_ratio_[0]:.2f}')\n",
    "    fig.update_scenes(yaxis_title_text=f'Pca 2 var {pca.explained_variance_ratio_[1]:.2f}')\n",
    "    #change x axis range\n",
    "    fig.update_layout(scene_xaxis_range=[X[0], X[-1]])\n",
    "    fig.update_layout(scene_yaxis_range=[Y[0], Y[-1]])\n",
    "    \n",
    "    fig.show()"
   ]
  },
  {
   "cell_type": "code",
   "execution_count": 8,
   "metadata": {},
   "outputs": [],
   "source": [
    "def plot_2D_optimization_path(loss_data, x_steps, y_steps, projection_dir_one, projection_dir_two, pca):\n",
    "    X = x_steps\n",
    "    Y = y_steps\n",
    "    \n",
    "    grid_x, grid_y = np.meshgrid(x_steps, y_steps)\n",
    "    z_interpoltae = griddata(points = np.column_stack((grid_x.flatten(), grid_y.flatten())),\n",
    "                             values = loss_data.flatten(), \n",
    "                             xi = np.column_stack((projection_dir_one, projection_dir_two)), \n",
    "                             method='linear')\n",
    "    # mask point in projection direction outside of x_steps\n",
    "    mask = (projection_dir_one >= X[0]) & (projection_dir_one <= X[-1]) & (projection_dir_two >= Y[0]) & (projection_dir_two <= Y[-1])\n",
    "    projection_dir_one = projection_dir_one[mask]\n",
    "    projection_dir_two = projection_dir_two[mask]\n",
    "    z_interpoltae = z_interpoltae[mask]\n",
    "    plt.contour(x_steps, y_steps, loss_data, levels=30)\n",
    "    plt.plot(projection_dir_one, projection_dir_two, 'r')\n",
    "    plt.xlabel(f'Pca 1 var {pca.explained_variance_ratio_[0]:.2f}')\n",
    "    plt.ylabel(f'Pca 2 var {pca.explained_variance_ratio_[1]:.2f}')\n",
    "    plt.show()"
   ]
  },
  {
   "cell_type": "code",
   "execution_count": 9,
   "metadata": {},
   "outputs": [],
   "source": [
    "resnet = model_cifar.ResNet56_noshort().to(device)\n",
    "optimizer = torch.optim.SGD(resnet.parameters(), lr=0.1, momentum=0.9, weight_decay=5e-4)\n",
    "criterion = torch.nn.CrossEntropyLoss()\n",
    "scheduler = torch.optim.lr_scheduler.StepLR(optimizer, step_size = 40, gamma=0.1)\n",
    "epochs = 40\n",
    "point_per_epoch = len(trainloader)//5"
   ]
  },
  {
   "cell_type": "code",
   "execution_count": 10,
   "metadata": {},
   "outputs": [
    {
     "name": "stderr",
     "output_type": "stream",
     "text": [
      "100%|██████████| 391/391 [00:51<00:00,  7.54it/s]\n"
     ]
    },
    {
     "name": "stdout",
     "output_type": "stream",
     "text": [
      "[1,   391] loss: 2.304\n"
     ]
    },
    {
     "name": "stderr",
     "output_type": "stream",
     "text": [
      "100%|██████████| 391/391 [00:42<00:00,  9.09it/s]\n"
     ]
    },
    {
     "name": "stdout",
     "output_type": "stream",
     "text": [
      "[2,   391] loss: 2.262\n"
     ]
    },
    {
     "name": "stderr",
     "output_type": "stream",
     "text": [
      "100%|██████████| 391/391 [00:42<00:00,  9.12it/s]\n"
     ]
    },
    {
     "name": "stdout",
     "output_type": "stream",
     "text": [
      "[3,   391] loss: 2.132\n"
     ]
    },
    {
     "name": "stderr",
     "output_type": "stream",
     "text": [
      "100%|██████████| 391/391 [00:42<00:00,  9.20it/s]\n"
     ]
    },
    {
     "name": "stdout",
     "output_type": "stream",
     "text": [
      "[4,   391] loss: 1.927\n"
     ]
    },
    {
     "name": "stderr",
     "output_type": "stream",
     "text": [
      "100%|██████████| 391/391 [00:42<00:00,  9.12it/s]\n"
     ]
    },
    {
     "name": "stdout",
     "output_type": "stream",
     "text": [
      "[5,   391] loss: 1.797\n"
     ]
    },
    {
     "name": "stderr",
     "output_type": "stream",
     "text": [
      "100%|██████████| 391/391 [00:43<00:00,  9.08it/s]\n"
     ]
    },
    {
     "name": "stdout",
     "output_type": "stream",
     "text": [
      "[6,   391] loss: 1.718\n"
     ]
    },
    {
     "name": "stderr",
     "output_type": "stream",
     "text": [
      "100%|██████████| 391/391 [00:42<00:00,  9.18it/s]\n"
     ]
    },
    {
     "name": "stdout",
     "output_type": "stream",
     "text": [
      "[7,   391] loss: 1.654\n"
     ]
    },
    {
     "name": "stderr",
     "output_type": "stream",
     "text": [
      "100%|██████████| 391/391 [00:43<00:00,  8.97it/s]\n"
     ]
    },
    {
     "name": "stdout",
     "output_type": "stream",
     "text": [
      "[8,   391] loss: 1.595\n"
     ]
    },
    {
     "name": "stderr",
     "output_type": "stream",
     "text": [
      "100%|██████████| 391/391 [00:43<00:00,  9.03it/s]\n"
     ]
    },
    {
     "name": "stdout",
     "output_type": "stream",
     "text": [
      "[9,   391] loss: 1.525\n"
     ]
    },
    {
     "name": "stderr",
     "output_type": "stream",
     "text": [
      "100%|██████████| 391/391 [00:43<00:00,  9.01it/s]\n"
     ]
    },
    {
     "name": "stdout",
     "output_type": "stream",
     "text": [
      "[10,   391] loss: 1.468\n"
     ]
    },
    {
     "name": "stderr",
     "output_type": "stream",
     "text": [
      "100%|██████████| 391/391 [00:42<00:00,  9.13it/s]\n"
     ]
    },
    {
     "name": "stdout",
     "output_type": "stream",
     "text": [
      "[11,   391] loss: 1.390\n"
     ]
    },
    {
     "name": "stderr",
     "output_type": "stream",
     "text": [
      "100%|██████████| 391/391 [00:43<00:00,  8.97it/s]\n"
     ]
    },
    {
     "name": "stdout",
     "output_type": "stream",
     "text": [
      "[12,   391] loss: 1.321\n"
     ]
    },
    {
     "name": "stderr",
     "output_type": "stream",
     "text": [
      "100%|██████████| 391/391 [00:42<00:00,  9.14it/s]\n"
     ]
    },
    {
     "name": "stdout",
     "output_type": "stream",
     "text": [
      "[13,   391] loss: 1.255\n"
     ]
    },
    {
     "name": "stderr",
     "output_type": "stream",
     "text": [
      "100%|██████████| 391/391 [00:43<00:00,  9.03it/s]\n"
     ]
    },
    {
     "name": "stdout",
     "output_type": "stream",
     "text": [
      "[14,   391] loss: 1.193\n"
     ]
    },
    {
     "name": "stderr",
     "output_type": "stream",
     "text": [
      "100%|██████████| 391/391 [00:42<00:00,  9.13it/s]\n"
     ]
    },
    {
     "name": "stdout",
     "output_type": "stream",
     "text": [
      "[15,   391] loss: 1.122\n"
     ]
    },
    {
     "name": "stderr",
     "output_type": "stream",
     "text": [
      "100%|██████████| 391/391 [00:42<00:00,  9.19it/s]\n"
     ]
    },
    {
     "name": "stdout",
     "output_type": "stream",
     "text": [
      "[16,   391] loss: 1.082\n"
     ]
    },
    {
     "name": "stderr",
     "output_type": "stream",
     "text": [
      "100%|██████████| 391/391 [00:42<00:00,  9.17it/s]\n"
     ]
    },
    {
     "name": "stdout",
     "output_type": "stream",
     "text": [
      "[17,   391] loss: 1.054\n"
     ]
    },
    {
     "name": "stderr",
     "output_type": "stream",
     "text": [
      "100%|██████████| 391/391 [00:42<00:00,  9.15it/s]\n"
     ]
    },
    {
     "name": "stdout",
     "output_type": "stream",
     "text": [
      "[18,   391] loss: 1.013\n"
     ]
    },
    {
     "name": "stderr",
     "output_type": "stream",
     "text": [
      "100%|██████████| 391/391 [00:42<00:00,  9.11it/s]\n"
     ]
    },
    {
     "name": "stdout",
     "output_type": "stream",
     "text": [
      "[19,   391] loss: 0.982\n"
     ]
    },
    {
     "name": "stderr",
     "output_type": "stream",
     "text": [
      "100%|██████████| 391/391 [00:43<00:00,  8.97it/s]\n"
     ]
    },
    {
     "name": "stdout",
     "output_type": "stream",
     "text": [
      "[20,   391] loss: 0.950\n"
     ]
    },
    {
     "name": "stderr",
     "output_type": "stream",
     "text": [
      "100%|██████████| 391/391 [00:43<00:00,  8.90it/s]\n"
     ]
    },
    {
     "name": "stdout",
     "output_type": "stream",
     "text": [
      "[21,   391] loss: 0.936\n"
     ]
    },
    {
     "name": "stderr",
     "output_type": "stream",
     "text": [
      "100%|██████████| 391/391 [00:43<00:00,  8.96it/s]\n"
     ]
    },
    {
     "name": "stdout",
     "output_type": "stream",
     "text": [
      "[22,   391] loss: 0.917\n"
     ]
    },
    {
     "name": "stderr",
     "output_type": "stream",
     "text": [
      "100%|██████████| 391/391 [00:43<00:00,  8.96it/s]\n"
     ]
    },
    {
     "name": "stdout",
     "output_type": "stream",
     "text": [
      "[23,   391] loss: 0.898\n"
     ]
    },
    {
     "name": "stderr",
     "output_type": "stream",
     "text": [
      "100%|██████████| 391/391 [00:43<00:00,  8.96it/s]\n"
     ]
    },
    {
     "name": "stdout",
     "output_type": "stream",
     "text": [
      "[24,   391] loss: 0.875\n"
     ]
    },
    {
     "name": "stderr",
     "output_type": "stream",
     "text": [
      "100%|██████████| 391/391 [00:43<00:00,  8.94it/s]\n"
     ]
    },
    {
     "name": "stdout",
     "output_type": "stream",
     "text": [
      "[25,   391] loss: 0.861\n"
     ]
    },
    {
     "name": "stderr",
     "output_type": "stream",
     "text": [
      "100%|██████████| 391/391 [00:43<00:00,  9.04it/s]\n"
     ]
    },
    {
     "name": "stdout",
     "output_type": "stream",
     "text": [
      "[26,   391] loss: 0.848\n"
     ]
    },
    {
     "name": "stderr",
     "output_type": "stream",
     "text": [
      "100%|██████████| 391/391 [00:43<00:00,  9.08it/s]\n"
     ]
    },
    {
     "name": "stdout",
     "output_type": "stream",
     "text": [
      "[27,   391] loss: 0.842\n"
     ]
    },
    {
     "name": "stderr",
     "output_type": "stream",
     "text": [
      "100%|██████████| 391/391 [00:43<00:00,  9.00it/s]\n"
     ]
    },
    {
     "name": "stdout",
     "output_type": "stream",
     "text": [
      "[28,   391] loss: 0.839\n"
     ]
    },
    {
     "name": "stderr",
     "output_type": "stream",
     "text": [
      "100%|██████████| 391/391 [00:43<00:00,  8.90it/s]\n"
     ]
    },
    {
     "name": "stdout",
     "output_type": "stream",
     "text": [
      "[29,   391] loss: 0.823\n"
     ]
    },
    {
     "name": "stderr",
     "output_type": "stream",
     "text": [
      "100%|██████████| 391/391 [00:43<00:00,  9.02it/s]\n"
     ]
    },
    {
     "name": "stdout",
     "output_type": "stream",
     "text": [
      "[30,   391] loss: 0.807\n"
     ]
    },
    {
     "name": "stderr",
     "output_type": "stream",
     "text": [
      "100%|██████████| 391/391 [00:42<00:00,  9.12it/s]\n"
     ]
    },
    {
     "name": "stdout",
     "output_type": "stream",
     "text": [
      "[31,   391] loss: 0.801\n"
     ]
    },
    {
     "name": "stderr",
     "output_type": "stream",
     "text": [
      "100%|██████████| 391/391 [00:43<00:00,  9.08it/s]\n"
     ]
    },
    {
     "name": "stdout",
     "output_type": "stream",
     "text": [
      "[32,   391] loss: 0.807\n"
     ]
    },
    {
     "name": "stderr",
     "output_type": "stream",
     "text": [
      "100%|██████████| 391/391 [00:43<00:00,  8.89it/s]\n"
     ]
    },
    {
     "name": "stdout",
     "output_type": "stream",
     "text": [
      "[33,   391] loss: 0.799\n"
     ]
    },
    {
     "name": "stderr",
     "output_type": "stream",
     "text": [
      "100%|██████████| 391/391 [00:42<00:00,  9.11it/s]\n"
     ]
    },
    {
     "name": "stdout",
     "output_type": "stream",
     "text": [
      "[34,   391] loss: 0.790\n"
     ]
    },
    {
     "name": "stderr",
     "output_type": "stream",
     "text": [
      "100%|██████████| 391/391 [00:43<00:00,  8.94it/s]\n"
     ]
    },
    {
     "name": "stdout",
     "output_type": "stream",
     "text": [
      "[35,   391] loss: 0.787\n"
     ]
    },
    {
     "name": "stderr",
     "output_type": "stream",
     "text": [
      "100%|██████████| 391/391 [00:43<00:00,  8.93it/s]\n"
     ]
    },
    {
     "name": "stdout",
     "output_type": "stream",
     "text": [
      "[36,   391] loss: 0.777\n"
     ]
    },
    {
     "name": "stderr",
     "output_type": "stream",
     "text": [
      "100%|██████████| 391/391 [00:43<00:00,  8.94it/s]\n"
     ]
    },
    {
     "name": "stdout",
     "output_type": "stream",
     "text": [
      "[37,   391] loss: 0.767\n"
     ]
    },
    {
     "name": "stderr",
     "output_type": "stream",
     "text": [
      "100%|██████████| 391/391 [00:43<00:00,  8.93it/s]\n"
     ]
    },
    {
     "name": "stdout",
     "output_type": "stream",
     "text": [
      "[38,   391] loss: 0.760\n"
     ]
    },
    {
     "name": "stderr",
     "output_type": "stream",
     "text": [
      "100%|██████████| 391/391 [00:43<00:00,  8.93it/s]\n"
     ]
    },
    {
     "name": "stdout",
     "output_type": "stream",
     "text": [
      "[39,   391] loss: 0.758\n"
     ]
    },
    {
     "name": "stderr",
     "output_type": "stream",
     "text": [
      "100%|██████████| 391/391 [00:43<00:00,  8.93it/s]"
     ]
    },
    {
     "name": "stdout",
     "output_type": "stream",
     "text": [
      "[40,   391] loss: 0.766\n"
     ]
    },
    {
     "name": "stderr",
     "output_type": "stream",
     "text": [
      "\n"
     ]
    }
   ],
   "source": [
    "trajectory = train_store_model_params(resnet, trainloader, epochs, point_per_epoch, optimizer, scheduler, criterion)"
   ]
  },
  {
   "cell_type": "code",
   "execution_count": 30,
   "metadata": {},
   "outputs": [],
   "source": [
    "# # save a numpy array \n",
    "np.save('trajectory_resnet56_noshort.npy', trajectory)\n",
    "# #save pytorch weights \n",
    "torch.save(resnet.state_dict(), 'resnet56_noshort_noshort.pth')\n",
    "# # resnet.load_state_dict(torch.load('resnet56.pth'))"
   ]
  },
  {
   "cell_type": "code",
   "execution_count": 50,
   "metadata": {},
   "outputs": [],
   "source": [
    "# load the numpy trajectory\n",
    "# trajectory = np.load('trajectory_resnet56_noshort.npy')\n",
    "# # # load the pytorch model\n",
    "# resnet = model_cifar.ResNet56_noshort().to(device)\n",
    "# resnet.load_state_dict(torch.load('resnet56_noshort.pth'))\n",
    "# print(f'trajectory shape: {trajectory.shape}')"
   ]
  },
  {
   "cell_type": "code",
   "execution_count": 46,
   "metadata": {},
   "outputs": [
    {
     "name": "stdout",
     "output_type": "stream",
     "text": [
      "Explained Variance Ratio: [0.72084986 0.09106076]\n",
      "Transformed Data Shape: (853018, 2)\n"
     ]
    }
   ],
   "source": [
    "trajectory = np.array(trajectory) # shape: (num_points, num_params)\n",
    "center_trajectory = np.array(trajectory) - trajectory[-1] # shape: (num_points, num_params)\n",
    "center_trajectory = center_trajectory.T # shape: (num_params, num_points)\n",
    "X_pca, pca = compute_PCA(center_trajectory, normalize=True)"
   ]
  },
  {
   "cell_type": "code",
   "execution_count": 47,
   "metadata": {},
   "outputs": [],
   "source": [
    "projected_dir_one, projected_dir_two = project_trajectory_on_dir(X_pca[:, 0], X_pca[:, 1], center_trajectory)"
   ]
  },
  {
   "cell_type": "code",
   "execution_count": 48,
   "metadata": {},
   "outputs": [
    {
     "data": {
      "text/plain": [
       "[<matplotlib.lines.Line2D at 0x29dc375e040>]"
      ]
     },
     "execution_count": 48,
     "metadata": {},
     "output_type": "execute_result"
    },
    {
     "data": {
      "image/png": "[encoded data removed]",
      "text/plain": [
       "<Figure size 640x480 with 1 Axes>"
      ]
     },
     "metadata": {},
     "output_type": "display_data"
    }
   ],
   "source": [
    "#plot the projected direction\n",
    "plt.plot(projected_dir_one)\n",
    "plt.plot(projected_dir_two, linestyle='--')"
   ]
  },
  {
   "cell_type": "code",
   "execution_count": 43,
   "metadata": {},
   "outputs": [],
   "source": [
    "steps = 30\n",
    "x_steps = np.linspace(-1/2, 10, steps)\n",
    "y_steps = np.linspace(-5, 5, steps)"
   ]
  },
  {
   "cell_type": "code",
   "execution_count": 44,
   "metadata": {},
   "outputs": [
    {
     "name": "stdout",
     "output_type": "stream",
     "text": [
      "i: 0, j: 0, loss: 3.2616348266601562\n",
      "i: 0, j: 1, loss: 3.435678243637085\n",
      "i: 0, j: 2, loss: 3.450719118118286\n",
      "i: 0, j: 3, loss: 3.5130369663238525\n",
      "i: 0, j: 4, loss: 3.4943487644195557\n",
      "i: 0, j: 5, loss: 3.4926347732543945\n",
      "i: 0, j: 6, loss: 3.3036696910858154\n",
      "i: 0, j: 7, loss: 3.2319488525390625\n",
      "i: 0, j: 8, loss: 3.1332802772521973\n",
      "i: 0, j: 9, loss: 2.989776611328125\n",
      "i: 0, j: 10, loss: 2.9681198596954346\n",
      "i: 0, j: 11, loss: 3.0780484676361084\n",
      "i: 0, j: 12, loss: 3.266296863555908\n",
      "i: 0, j: 13, loss: 3.482287883758545\n",
      "i: 0, j: 14, loss: 3.5150156021118164\n",
      "i: 0, j: 15, loss: 3.432154417037964\n",
      "i: 0, j: 16, loss: 3.432054042816162\n",
      "i: 0, j: 17, loss: 3.3584914207458496\n",
      "i: 0, j: 18, loss: 3.413689613342285\n",
      "i: 0, j: 19, loss: 3.4555740356445312\n",
      "i: 0, j: 20, loss: 3.518524646759033\n",
      "i: 0, j: 21, loss: 3.5294642448425293\n",
      "i: 0, j: 22, loss: 3.3731861114501953\n",
      "i: 0, j: 23, loss: 3.1127407550811768\n",
      "i: 0, j: 24, loss: 2.9774694442749023\n",
      "i: 0, j: 25, loss: 2.8533406257629395\n",
      "i: 0, j: 26, loss: 2.821608781814575\n",
      "i: 0, j: 27, loss: 2.757455348968506\n",
      "i: 0, j: 28, loss: 2.8025877475738525\n",
      "i: 0, j: 29, loss: 3.0493249893188477\n",
      "i: 1, j: 0, loss: 3.2790660858154297\n",
      "i: 1, j: 1, loss: 3.3186566829681396\n",
      "i: 1, j: 2, loss: 3.1897096633911133\n",
      "i: 1, j: 3, loss: 3.2150144577026367\n",
      "i: 1, j: 4, loss: 3.1848626136779785\n",
      "i: 1, j: 5, loss: 3.348687171936035\n",
      "i: 1, j: 6, loss: 3.1322274208068848\n",
      "i: 1, j: 7, loss: 3.1239371299743652\n",
      "i: 1, j: 8, loss: 3.082188367843628\n",
      "i: 1, j: 9, loss: 3.1042916774749756\n",
      "i: 1, j: 10, loss: 3.1841487884521484\n",
      "i: 1, j: 11, loss: 3.1705920696258545\n",
      "i: 1, j: 12, loss: 2.7844882011413574\n",
      "i: 1, j: 13, loss: 2.2153737545013428\n",
      "i: 1, j: 14, loss: 1.64804208278656\n",
      "i: 1, j: 15, loss: 1.259024739265442\n",
      "i: 1, j: 16, loss: 1.0804306268692017\n",
      "i: 1, j: 17, loss: 1.1360647678375244\n",
      "i: 1, j: 18, loss: 1.4061267375946045\n",
      "i: 1, j: 19, loss: 1.8083328008651733\n",
      "i: 1, j: 20, loss: 2.258960485458374\n",
      "i: 1, j: 21, loss: 2.6178853511810303\n",
      "i: 1, j: 22, loss: 2.841506242752075\n",
      "i: 1, j: 23, loss: 2.928894281387329\n",
      "i: 1, j: 24, loss: 2.9754445552825928\n",
      "i: 1, j: 25, loss: 3.002145528793335\n",
      "i: 1, j: 26, loss: 2.905565023422241\n",
      "i: 1, j: 27, loss: 2.7888855934143066\n",
      "i: 1, j: 28, loss: 2.9243383407592773\n",
      "i: 1, j: 29, loss: 2.9639129638671875\n",
      "i: 2, j: 0, loss: 3.1769015789031982\n",
      "i: 2, j: 1, loss: 3.2276265621185303\n",
      "i: 2, j: 2, loss: 3.0720162391662598\n",
      "i: 2, j: 3, loss: 3.0673110485076904\n",
      "i: 2, j: 4, loss: 3.1048433780670166\n",
      "i: 2, j: 5, loss: 3.1628894805908203\n",
      "i: 2, j: 6, loss: 3.0739965438842773\n",
      "i: 2, j: 7, loss: 3.1829776763916016\n",
      "i: 2, j: 8, loss: 3.3632171154022217\n",
      "i: 2, j: 9, loss: 3.363347053527832\n",
      "i: 2, j: 10, loss: 2.9990978240966797\n",
      "i: 2, j: 11, loss: 2.070895195007324\n",
      "i: 2, j: 12, loss: 1.2399119138717651\n",
      "i: 2, j: 13, loss: 0.8062681555747986\n",
      "i: 2, j: 14, loss: 0.6186738014221191\n",
      "i: 2, j: 15, loss: 0.5746839642524719\n",
      "i: 2, j: 16, loss: 0.6648164987564087\n",
      "i: 2, j: 17, loss: 0.9083337187767029\n",
      "i: 2, j: 18, loss: 1.3575551509857178\n",
      "i: 2, j: 19, loss: 1.9421417713165283\n",
      "i: 2, j: 20, loss: 2.4635300636291504\n",
      "i: 2, j: 21, loss: 2.854534864425659\n",
      "i: 2, j: 22, loss: 3.1822848320007324\n",
      "i: 2, j: 23, loss: 3.367002248764038\n",
      "i: 2, j: 24, loss: 3.1279942989349365\n",
      "i: 2, j: 25, loss: 2.843899965286255\n",
      "i: 2, j: 26, loss: 2.756910800933838\n",
      "i: 2, j: 27, loss: 2.7475826740264893\n",
      "i: 2, j: 28, loss: 2.8738656044006348\n",
      "i: 2, j: 29, loss: 2.995899200439453\n",
      "i: 3, j: 0, loss: 2.9492478370666504\n",
      "i: 3, j: 1, loss: 3.022157907485962\n",
      "i: 3, j: 2, loss: 3.0321109294891357\n",
      "i: 3, j: 3, loss: 3.104175329208374\n",
      "i: 3, j: 4, loss: 2.9570109844207764\n",
      "i: 3, j: 5, loss: 2.959299087524414\n",
      "i: 3, j: 6, loss: 2.9617621898651123\n",
      "i: 3, j: 7, loss: 3.2286486625671387\n",
      "i: 3, j: 8, loss: 3.3888587951660156\n",
      "i: 3, j: 9, loss: 3.116913318634033\n",
      "i: 3, j: 10, loss: 2.3917336463928223\n",
      "i: 3, j: 11, loss: 1.6422690153121948\n",
      "i: 3, j: 12, loss: 1.112436056137085\n",
      "i: 3, j: 13, loss: 0.8785108923912048\n",
      "i: 3, j: 14, loss: 0.8513110876083374\n",
      "i: 3, j: 15, loss: 1.0119705200195312\n",
      "i: 3, j: 16, loss: 1.432116985321045\n",
      "i: 3, j: 17, loss: 2.0112454891204834\n",
      "i: 3, j: 18, loss: 2.591156244277954\n",
      "i: 3, j: 19, loss: 3.1672372817993164\n",
      "i: 3, j: 20, loss: 3.610588550567627\n",
      "i: 3, j: 21, loss: 3.5106008052825928\n",
      "i: 3, j: 22, loss: 3.050041437149048\n",
      "i: 3, j: 23, loss: 2.802117109298706\n",
      "i: 3, j: 24, loss: 2.7227602005004883\n",
      "i: 3, j: 25, loss: 2.6675026416778564\n",
      "i: 3, j: 26, loss: 2.6499276161193848\n",
      "i: 3, j: 27, loss: 2.6247851848602295\n",
      "i: 3, j: 28, loss: 2.673992872238159\n",
      "i: 3, j: 29, loss: 2.7712273597717285\n",
      "i: 4, j: 0, loss: 3.1083271503448486\n"
     ]
    },
    {
     "ename": "KeyboardInterrupt",
     "evalue": "",
     "output_type": "error",
     "traceback": [
      "\u001b[1;31m---------------------------------------------------------------------------\u001b[0m",
      "\u001b[1;31mKeyboardInterrupt\u001b[0m                         Traceback (most recent call last)",
      "\u001b[1;32m~\\AppData\\Local\\Temp\\ipykernel_29468\\3087611158.py\u001b[0m in \u001b[0;36m<module>\u001b[1;34m\u001b[0m\n\u001b[1;32m----> 1\u001b[1;33m \u001b[0mlosses\u001b[0m \u001b[1;33m=\u001b[0m \u001b[0mcompute_loss_grid\u001b[0m\u001b[1;33m(\u001b[0m\u001b[0mx_steps\u001b[0m\u001b[1;33m,\u001b[0m \u001b[0my_steps\u001b[0m\u001b[1;33m,\u001b[0m \u001b[0mX_pca\u001b[0m\u001b[1;33m,\u001b[0m \u001b[0mtrajectory\u001b[0m\u001b[1;33m,\u001b[0m \u001b[0mresnet\u001b[0m\u001b[1;33m,\u001b[0m \u001b[0mcriterion\u001b[0m\u001b[1;33m,\u001b[0m \u001b[0mtestloader\u001b[0m\u001b[1;33m)\u001b[0m\u001b[1;33m\u001b[0m\u001b[1;33m\u001b[0m\u001b[0m\n\u001b[0m\u001b[0;32m      2\u001b[0m \u001b[1;31m# accuracies = compute_accuracy_grid(x_steps, y_steps, X_pca, trajectory, resnet, testloader)\u001b[0m\u001b[1;33m\u001b[0m\u001b[1;33m\u001b[0m\u001b[0m\n",
      "\u001b[1;32m~\\AppData\\Local\\Temp\\ipykernel_29468\\1665060836.py\u001b[0m in \u001b[0;36mcompute_loss_grid\u001b[1;34m(x_steps, y_steps, X_pca, trajectory, model, criterion, testloader)\u001b[0m\n\u001b[0;32m     27\u001b[0m             \u001b[0mtorch\u001b[0m\u001b[1;33m.\u001b[0m\u001b[0mnn\u001b[0m\u001b[1;33m.\u001b[0m\u001b[0mutils\u001b[0m\u001b[1;33m.\u001b[0m\u001b[0mvector_to_parameters\u001b[0m\u001b[1;33m(\u001b[0m\u001b[0mnew_params\u001b[0m\u001b[1;33m,\u001b[0m \u001b[0mmodel\u001b[0m\u001b[1;33m.\u001b[0m\u001b[0mparameters\u001b[0m\u001b[1;33m(\u001b[0m\u001b[1;33m)\u001b[0m\u001b[1;33m)\u001b[0m\u001b[1;33m\u001b[0m\u001b[1;33m\u001b[0m\u001b[0m\n\u001b[0;32m     28\u001b[0m             \u001b[1;32mwith\u001b[0m \u001b[0mtorch\u001b[0m\u001b[1;33m.\u001b[0m\u001b[0mno_grad\u001b[0m\u001b[1;33m(\u001b[0m\u001b[1;33m)\u001b[0m\u001b[1;33m:\u001b[0m\u001b[1;33m\u001b[0m\u001b[1;33m\u001b[0m\u001b[0m\n\u001b[1;32m---> 29\u001b[1;33m                 \u001b[0mloss\u001b[0m \u001b[1;33m=\u001b[0m \u001b[0mcriterion\u001b[0m\u001b[1;33m(\u001b[0m\u001b[0mmodel\u001b[0m\u001b[1;33m(\u001b[0m\u001b[0minputs\u001b[0m\u001b[1;33m)\u001b[0m\u001b[1;33m,\u001b[0m \u001b[0mlabels\u001b[0m\u001b[1;33m)\u001b[0m\u001b[1;33m.\u001b[0m\u001b[0mitem\u001b[0m\u001b[1;33m(\u001b[0m\u001b[1;33m)\u001b[0m\u001b[1;33m\u001b[0m\u001b[1;33m\u001b[0m\u001b[0m\n\u001b[0m\u001b[0;32m     30\u001b[0m                 \u001b[0mlosses\u001b[0m\u001b[1;33m[\u001b[0m\u001b[0mi\u001b[0m\u001b[1;33m,\u001b[0m \u001b[0mj\u001b[0m\u001b[1;33m]\u001b[0m \u001b[1;33m=\u001b[0m \u001b[0mloss\u001b[0m\u001b[1;33m\u001b[0m\u001b[1;33m\u001b[0m\u001b[0m\n\u001b[0;32m     31\u001b[0m                 \u001b[0mprint\u001b[0m\u001b[1;33m(\u001b[0m\u001b[1;34mf'i: {i}, j: {j}, loss: {loss}'\u001b[0m\u001b[1;33m)\u001b[0m\u001b[1;33m\u001b[0m\u001b[1;33m\u001b[0m\u001b[0m\n",
      "\u001b[1;31mKeyboardInterrupt\u001b[0m: "
     ]
    }
   ],
   "source": [
    "losses = compute_loss_grid(x_steps, y_steps, X_pca, trajectory, resnet, criterion, testloader)\n",
    "# accuracies = compute_accuracy_grid(x_steps, y_steps, X_pca, trajectory, resnet, testloader)"
   ]
  },
  {
   "cell_type": "code",
   "execution_count": 24,
   "metadata": {},
   "outputs": [
    {
     "data": {
      "application/vnd.plotly.v1+json": {
       "config": {
        "plotlyServerURL": "https://plot.ly"
       },
       "data": [
        {
         "colorscale": [
          [
           0,
           "#440154"
          ],
          [
           0.1111111111111111,
           "#482878"
          ],
          [
           0.2222222222222222,
           "#3e4989"
          ],
          [
           0.3333333333333333,
           "#31688e"
          ],
          [
           0.4444444444444444,
           "#26828e"
          ],
          [
           0.5555555555555556,
           "#1f9e89"
          ],
          [
           0.6666666666666666,
           "#35b779"
          ],
          [
           0.7777777777777778,
           "#6ece58"
          ],
          [
           0.8888888888888888,
           "#b5de2b"
          ],
          [
           1,
           "#fde725"
          ]
         ],
         "contours": {
          "z": {
           "color": "white",
           "end": 0.8561197916666666,
           "show": true,
           "size": 0.1,
           "start": 0.08235677083333333
          }
         },
         "name": "Loss Landscape",
         "type": "surface",
         "x": [
          -0.5,
          -0.3793103448275862,
          -0.2586206896551724,
          -0.13793103448275862,
          -0.017241379310344807,
          0.10344827586206895,
          0.22413793103448276,
          0.3448275862068966,
          0.4655172413793104,
          0.5862068965517242,
          0.7068965517241379,
          0.8275862068965518,
          0.9482758620689655,
          1.0689655172413794,
          1.1896551724137931,
          1.310344827586207,
          1.4310344827586208,
          1.5517241379310347,
          1.6724137931034484,
          1.793103448275862,
          1.9137931034482758,
          2.03448275862069,
          2.1551724137931036,
          2.2758620689655173,
          2.396551724137931,
          2.5172413793103448,
          2.637931034482759,
          2.7586206896551726,
          2.8793103448275863,
          3
         ],
         "y": [
          -3,
          -2.793103448275862,
          -2.586206896551724,
          -2.3793103448275863,
          -2.1724137931034484,
          -1.9655172413793103,
          -1.7586206896551724,
          -1.5517241379310345,
          -1.3448275862068966,
          -1.1379310344827587,
          -0.9310344827586206,
          -0.7241379310344827,
          -0.5172413793103448,
          -0.31034482758620685,
          -0.10344827586206895,
          0.10344827586206895,
          0.31034482758620685,
          0.5172413793103448,
          0.7241379310344827,
          0.9310344827586206,
          1.137931034482759,
          1.3448275862068968,
          1.5517241379310347,
          1.7586206896551726,
          1.9655172413793105,
          2.1724137931034484,
          2.3793103448275863,
          2.586206896551724,
          2.793103448275862,
          3
         ],
         "z": [
          [
           0.1064453125,
           0.09700520833333333,
           0.09342447916666667,
           0.0869140625,
           0.08756510416666667,
           0.103515625,
           0.10123697916666667,
           0.11165364583333333,
           0.115234375,
           0.1142578125,
           0.11783854166666667,
           0.12727864583333334,
           0.13020833333333334,
           0.13899739583333334,
           0.14485677083333334,
           0.14680989583333334,
           0.14453125,
           0.13932291666666666,
           0.13509114583333334,
           0.134765625,
           0.134765625,
           0.1337890625,
           0.13118489583333334,
           0.13313802083333334,
           0.13118489583333334,
           0.13053385416666666,
           0.12955729166666666,
           0.130859375,
           0.12825520833333334,
           0.12890625
          ],
          [
           0.10546875,
           0.10416666666666667,
           0.09309895833333333,
           0.09798177083333333,
           0.099609375,
           0.0966796875,
           0.10872395833333333,
           0.10807291666666667,
           0.10514322916666667,
           0.107421875,
           0.11360677083333333,
           0.12955729166666666,
           0.13411458333333334,
           0.13541666666666666,
           0.14388020833333334,
           0.14453125,
           0.140625,
           0.13704427083333334,
           0.1396484375,
           0.14518229166666666,
           0.14713541666666666,
           0.1396484375,
           0.1376953125,
           0.13541666666666666,
           0.13509114583333334,
           0.13151041666666666,
           0.130859375,
           0.13020833333333334,
           0.12923177083333334,
           0.1328125
          ],
          [
           0.09993489583333333,
           0.10026041666666667,
           0.10123697916666667,
           0.09798177083333333,
           0.11002604166666667,
           0.109375,
           0.11197916666666667,
           0.109375,
           0.10319010416666667,
           0.11165364583333333,
           0.11653645833333333,
           0.13151041666666666,
           0.13346354166666666,
           0.14388020833333334,
           0.14811197916666666,
           0.15006510416666666,
           0.1484375,
           0.14778645833333334,
           0.14713541666666666,
           0.146484375,
           0.14583333333333334,
           0.146484375,
           0.1435546875,
           0.13541666666666666,
           0.1337890625,
           0.13216145833333334,
           0.13313802083333334,
           0.1328125,
           0.13346354166666666,
           0.13606770833333334
          ],
          [
           0.08951822916666667,
           0.09114583333333333,
           0.10807291666666667,
           0.10904947916666667,
           0.11328125,
           0.12141927083333333,
           0.103515625,
           0.1025390625,
           0.10872395833333333,
           0.11328125,
           0.13216145833333334,
           0.13932291666666666,
           0.14225260416666666,
           0.15592447916666666,
           0.15885416666666666,
           0.16276041666666666,
           0.16178385416666666,
           0.15494791666666666,
           0.15592447916666666,
           0.15006510416666666,
           0.14908854166666666,
           0.14713541666666666,
           0.14453125,
           0.13834635416666666,
           0.14127604166666666,
           0.13802083333333334,
           0.13639322916666666,
           0.13444010416666666,
           0.1357421875,
           0.13639322916666666
          ],
          [
           0.08235677083333333,
           0.08561197916666667,
           0.0947265625,
           0.1025390625,
           0.115234375,
           0.11263020833333333,
           0.11165364583333333,
           0.11783854166666667,
           0.1298828125,
           0.138671875,
           0.14485677083333334,
           0.15397135416666666,
           0.158203125,
           0.1640625,
           0.16829427083333334,
           0.16438802083333334,
           0.16243489583333334,
           0.16178385416666666,
           0.15885416666666666,
           0.158203125,
           0.1552734375,
           0.1494140625,
           0.14778645833333334,
           0.13932291666666666,
           0.13671875,
           0.13639322916666666,
           0.1357421875,
           0.1337890625,
           0.13444010416666666,
           0.13509114583333334
          ],
          [
           0.09049479166666667,
           0.09016927083333333,
           0.09114583333333333,
           0.111328125,
           0.1279296875,
           0.142578125,
           0.14420572916666666,
           0.150390625,
           0.16080729166666666,
           0.16276041666666666,
           0.16731770833333334,
           0.16796875,
           0.17545572916666666,
           0.1826171875,
           0.17154947916666666,
           0.16666666666666666,
           0.16341145833333334,
           0.16276041666666666,
           0.16080729166666666,
           0.162109375,
           0.158203125,
           0.15559895833333334,
           0.14713541666666666,
           0.14225260416666666,
           0.13411458333333334,
           0.1328125,
           0.13313802083333334,
           0.1328125,
           0.13053385416666666,
           0.12890625
          ],
          [
           0.0947265625,
           0.08984375,
           0.09830729166666667,
           0.13118489583333334,
           0.1767578125,
           0.2021484375,
           0.21484375,
           0.21028645833333334,
           0.19759114583333334,
           0.19368489583333334,
           0.189453125,
           0.18977864583333334,
           0.1826171875,
           0.1806640625,
           0.17317708333333334,
           0.16959635416666666,
           0.16796875,
           0.1611328125,
           0.15885416666666666,
           0.15885416666666666,
           0.15559895833333334,
           0.15169270833333334,
           0.1484375,
           0.14095052083333334,
           0.138671875,
           0.1328125,
           0.13346354166666666,
           0.13248697916666666,
           0.13151041666666666,
           0.13216145833333334
          ],
          [
           0.0869140625,
           0.08561197916666667,
           0.11653645833333333,
           0.20279947916666666,
           0.2805989583333333,
           0.3225911458333333,
           0.3063151041666667,
           0.283203125,
           0.2646484375,
           0.24544270833333334,
           0.22493489583333334,
           0.21419270833333334,
           0.19759114583333334,
           0.18815104166666666,
           0.18294270833333334,
           0.17252604166666666,
           0.16731770833333334,
           0.16243489583333334,
           0.15462239583333334,
           0.15364583333333334,
           0.1533203125,
           0.1474609375,
           0.14973958333333334,
           0.1455078125,
           0.13802083333333334,
           0.13151041666666666,
           0.13313802083333334,
           0.13444010416666666,
           0.1298828125,
           0.1298828125
          ],
          [
           0.09049479166666667,
           0.10384114583333333,
           0.17154947916666666,
           0.3225911458333333,
           0.4449869791666667,
           0.4697265625,
           0.4410807291666667,
           0.3961588541666667,
           0.3424479166666667,
           0.2932942708333333,
           0.2688802083333333,
           0.2470703125,
           0.22037760416666666,
           0.20377604166666666,
           0.1953125,
           0.18587239583333334,
           0.16927083333333334,
           0.16373697916666666,
           0.1552734375,
           0.14908854166666666,
           0.15006510416666666,
           0.1494140625,
           0.14778645833333334,
           0.1455078125,
           0.14225260416666666,
           0.13899739583333334,
           0.138671875,
           0.134765625,
           0.13248697916666666,
           0.12955729166666666
          ],
          [
           0.09700520833333333,
           0.13151041666666666,
           0.2789713541666667,
           0.517578125,
           0.619140625,
           0.6129557291666666,
           0.5699869791666666,
           0.5042317708333334,
           0.439453125,
           0.3697916666666667,
           0.3180338541666667,
           0.2858072916666667,
           0.2451171875,
           0.22233072916666666,
           0.2080078125,
           0.19563802083333334,
           0.18294270833333334,
           0.16731770833333334,
           0.162109375,
           0.15690104166666666,
           0.1533203125,
           0.15494791666666666,
           0.15266927083333334,
           0.15169270833333334,
           0.14485677083333334,
           0.14095052083333334,
           0.13834635416666666,
           0.13118489583333334,
           0.13053385416666666,
           0.13053385416666666
          ],
          [
           0.0908203125,
           0.15983072916666666,
           0.4267578125,
           0.6682942708333334,
           0.7418619791666666,
           0.7177734375,
           0.6832682291666666,
           0.611328125,
           0.5279947916666666,
           0.4466145833333333,
           0.3828125,
           0.3232421875,
           0.2815755208333333,
           0.24772135416666666,
           0.21940104166666666,
           0.20377604166666666,
           0.19205729166666666,
           0.17545572916666666,
           0.1669921875,
           0.15983072916666666,
           0.15494791666666666,
           0.15201822916666666,
           0.14778645833333334,
           0.14388020833333334,
           0.1435546875,
           0.14290364583333334,
           0.13639322916666666,
           0.1328125,
           0.12727864583333334,
           0.12662760416666666
          ],
          [
           0.10091145833333333,
           0.21256510416666666,
           0.5364583333333334,
           0.7584635416666666,
           0.8063151041666666,
           0.7962239583333334,
           0.7496744791666666,
           0.6888020833333334,
           0.6097005208333334,
           0.5266927083333334,
           0.44140625,
           0.3818359375,
           0.3190104166666667,
           0.2659505208333333,
           0.23665364583333334,
           0.22037760416666666,
           0.20279947916666666,
           0.18489583333333334,
           0.1728515625,
           0.15852864583333334,
           0.15364583333333334,
           0.15234375,
           0.1494140625,
           0.146484375,
           0.1416015625,
           0.1376953125,
           0.13639322916666666,
           0.13053385416666666,
           0.12662760416666666,
           0.1259765625
          ],
          [
           0.1083984375,
           0.251953125,
           0.6087239583333334,
           0.7932942708333334,
           0.8382161458333334,
           0.83203125,
           0.798828125,
           0.7464192708333334,
           0.6829427083333334,
           0.6015625,
           0.5139973958333334,
           0.4290364583333333,
           0.3704427083333333,
           0.3072916666666667,
           0.2574869791666667,
           0.23567708333333334,
           0.2138671875,
           0.19368489583333334,
           0.181640625,
           0.16796875,
           0.15885416666666666,
           0.15266927083333334,
           0.14583333333333334,
           0.146484375,
           0.14453125,
           0.13802083333333334,
           0.1328125,
           0.12760416666666666,
           0.1259765625,
           0.12662760416666666
          ],
          [
           0.12337239583333333,
           0.2845052083333333,
           0.6142578125,
           0.7936197916666666,
           0.8489583333333334,
           0.8505859375,
           0.8307291666666666,
           0.7880859375,
           0.7262369791666666,
           0.6572265625,
           0.5738932291666666,
           0.4801432291666667,
           0.4134114583333333,
           0.3502604166666667,
           0.2903645833333333,
           0.24869791666666666,
           0.2236328125,
           0.2060546875,
           0.1865234375,
           0.17740885416666666,
           0.16373697916666666,
           0.1591796875,
           0.14778645833333334,
           0.14680989583333334,
           0.14518229166666666,
           0.14322916666666666,
           0.13541666666666666,
           0.13248697916666666,
           0.1240234375,
           0.1220703125
          ],
          [
           0.12727864583333334,
           0.2936197916666667,
           0.6041666666666666,
           0.7854817708333334,
           0.8463541666666666,
           0.8561197916666666,
           0.8453776041666666,
           0.814453125,
           0.759765625,
           0.6975911458333334,
           0.6217447916666666,
           0.5302734375,
           0.44921875,
           0.38671875,
           0.3212890625,
           0.2734375,
           0.240234375,
           0.21614583333333334,
           0.19401041666666666,
           0.18033854166666666,
           0.1708984375,
           0.16178385416666666,
           0.15364583333333334,
           0.146484375,
           0.14518229166666666,
           0.13736979166666666,
           0.13541666666666666,
           0.13053385416666666,
           0.125,
           0.1201171875
          ],
          [
           0.14127604166666666,
           0.2906901041666667,
           0.572265625,
           0.7578125,
           0.8291015625,
           0.8522135416666666,
           0.849609375,
           0.8323567708333334,
           0.7900390625,
           0.7229817708333334,
           0.6565755208333334,
           0.5735677083333334,
           0.4869791666666667,
           0.4124348958333333,
           0.3502604166666667,
           0.2939453125,
           0.2578125,
           0.22037760416666666,
           0.19921875,
           0.18391927083333334,
           0.171875,
           0.16341145833333334,
           0.158203125,
           0.1474609375,
           0.14420572916666666,
           0.13802083333333334,
           0.13411458333333334,
           0.13151041666666666,
           0.1259765625,
           0.12337239583333333
          ],
          [
           0.13997395833333334,
           0.2698567708333333,
           0.5263671875,
           0.7268880208333334,
           0.8125,
           0.8470052083333334,
           0.8489583333333334,
           0.8401692708333334,
           0.8050130208333334,
           0.751953125,
           0.6803385416666666,
           0.6080729166666666,
           0.5182291666666666,
           0.4423828125,
           0.3766276041666667,
           0.3157552083333333,
           0.2718098958333333,
           0.23502604166666666,
           0.20638020833333334,
           0.189453125,
           0.1748046875,
           0.16178385416666666,
           0.1552734375,
           0.14876302083333334,
           0.1435546875,
           0.14127604166666666,
           0.1328125,
           0.12825520833333334,
           0.1240234375,
           0.12239583333333333
          ],
          [
           0.1337890625,
           0.2421875,
           0.4755859375,
           0.6881510416666666,
           0.78515625,
           0.8310546875,
           0.8444010416666666,
           0.8362630208333334,
           0.8115234375,
           0.771484375,
           0.7034505208333334,
           0.634765625,
           0.5432942708333334,
           0.4684244791666667,
           0.3990885416666667,
           0.3372395833333333,
           0.2874348958333333,
           0.24837239583333334,
           0.220703125,
           0.19140625,
           0.1767578125,
           0.16438802083333334,
           0.1552734375,
           0.15234375,
           0.14225260416666666,
           0.1396484375,
           0.13216145833333334,
           0.12727864583333334,
           0.12239583333333333,
           0.12076822916666667
          ],
          [
           0.13216145833333334,
           0.21875,
           0.4143880208333333,
           0.6263020833333334,
           0.7503255208333334,
           0.802734375,
           0.8284505208333334,
           0.8274739583333334,
           0.8138020833333334,
           0.771484375,
           0.71875,
           0.6533203125,
           0.5699869791666666,
           0.4964192708333333,
           0.4186197916666667,
           0.3515625,
           0.298828125,
           0.2594401041666667,
           0.2275390625,
           0.2021484375,
           0.18326822916666666,
           0.16438802083333334,
           0.1572265625,
           0.15104166666666666,
           0.14225260416666666,
           0.138671875,
           0.13639322916666666,
           0.13053385416666666,
           0.12369791666666667,
           0.12044270833333333
          ],
          [
           0.13053385416666666,
           0.19401041666666666,
           0.3541666666666667,
           0.5563151041666666,
           0.7027994791666666,
           0.7744140625,
           0.8033854166666666,
           0.81640625,
           0.8089192708333334,
           0.7747395833333334,
           0.7268880208333334,
           0.6640625,
           0.5849609375,
           0.5107421875,
           0.4401041666666667,
           0.361328125,
           0.3079427083333333,
           0.2688802083333333,
           0.23404947916666666,
           0.208984375,
           0.18977864583333334,
           0.17643229166666666,
           0.16015625,
           0.15169270833333334,
           0.14811197916666666,
           0.14225260416666666,
           0.13606770833333334,
           0.13151041666666666,
           0.12467447916666667,
           0.11979166666666667
          ],
          [
           0.13411458333333334,
           0.17513020833333334,
           0.3004557291666667,
           0.4938151041666667,
           0.6507161458333334,
           0.73046875,
           0.7711588541666666,
           0.7936197916666666,
           0.7936197916666666,
           0.7633463541666666,
           0.7223307291666666,
           0.6692708333333334,
           0.5944010416666666,
           0.5224609375,
           0.4495442708333333,
           0.3740234375,
           0.314453125,
           0.2682291666666667,
           0.23893229166666666,
           0.21419270833333334,
           0.1982421875,
           0.18131510416666666,
           0.16764322916666666,
           0.15104166666666666,
           0.14973958333333334,
           0.14680989583333334,
           0.13606770833333334,
           0.13248697916666666,
           0.12760416666666666,
           0.123046875
          ],
          [
           0.13248697916666666,
           0.15657552083333334,
           0.2600911458333333,
           0.4306640625,
           0.5852864583333334,
           0.6806640625,
           0.7340494791666666,
           0.7620442708333334,
           0.7659505208333334,
           0.7477213541666666,
           0.7083333333333334,
           0.6624348958333334,
           0.5973307291666666,
           0.5266927083333334,
           0.453125,
           0.3857421875,
           0.3238932291666667,
           0.2776692708333333,
           0.24576822916666666,
           0.2236328125,
           0.20279947916666666,
           0.18424479166666666,
           0.17024739583333334,
           0.15787760416666666,
           0.150390625,
           0.14322916666666666,
           0.1396484375,
           0.1328125,
           0.1298828125,
           0.125
          ],
          [
           0.13151041666666666,
           0.14778645833333334,
           0.224609375,
           0.3658854166666667,
           0.5159505208333334,
           0.625,
           0.6907552083333334,
           0.7239583333333334,
           0.7379557291666666,
           0.7249348958333334,
           0.6940104166666666,
           0.6513671875,
           0.5963541666666666,
           0.5266927083333334,
           0.4641927083333333,
           0.3955078125,
           0.333984375,
           0.2805989583333333,
           0.2545572916666667,
           0.22428385416666666,
           0.2041015625,
           0.18880208333333334,
           0.1708984375,
           0.1650390625,
           0.15397135416666666,
           0.14518229166666666,
           0.13997395833333334,
           0.134765625,
           0.13151041666666666,
           0.12825520833333334
          ],
          [
           0.13639322916666666,
           0.1435546875,
           0.20377604166666666,
           0.3108723958333333,
           0.4391276041666667,
           0.5559895833333334,
           0.6311848958333334,
           0.6800130208333334,
           0.6927083333333334,
           0.6930338541666666,
           0.6731770833333334,
           0.6331380208333334,
           0.5826822916666666,
           0.5198567708333334,
           0.4606119791666667,
           0.3932291666666667,
           0.3346354166666667,
           0.2880859375,
           0.2610677083333333,
           0.22526041666666666,
           0.20475260416666666,
           0.18815104166666666,
           0.17545572916666666,
           0.16178385416666666,
           0.15625,
           0.1484375,
           0.13899739583333334,
           0.13313802083333334,
           0.1328125,
           0.1259765625
          ],
          [
           0.13802083333333334,
           0.13802083333333334,
           0.1826171875,
           0.2692057291666667,
           0.3805338541666667,
           0.486328125,
           0.5696614583333334,
           0.6223958333333334,
           0.64453125,
           0.6468098958333334,
           0.6432291666666666,
           0.6155598958333334,
           0.5625,
           0.5087890625,
           0.4501953125,
           0.400390625,
           0.3401692708333333,
           0.2890625,
           0.2565104166666667,
           0.228515625,
           0.20052083333333334,
           0.18717447916666666,
           0.171875,
           0.16015625,
           0.15201822916666666,
           0.1474609375,
           0.14029947916666666,
           0.13248697916666666,
           0.1298828125,
           0.126953125
          ],
          [
           0.13606770833333334,
           0.13606770833333334,
           0.16927083333333334,
           0.2333984375,
           0.318359375,
           0.4202473958333333,
           0.505859375,
           0.5696614583333334,
           0.6031901041666666,
           0.60546875,
           0.607421875,
           0.5823567708333334,
           0.5432942708333334,
           0.4970703125,
           0.4456380208333333,
           0.3929036458333333,
           0.3408203125,
           0.2936197916666667,
           0.24967447916666666,
           0.22819010416666666,
           0.2060546875,
           0.18326822916666666,
           0.1708984375,
           0.16243489583333334,
           0.15462239583333334,
           0.14680989583333334,
           0.1416015625,
           0.13444010416666666,
           0.12760416666666666,
           0.125
          ],
          [
           0.13216145833333334,
           0.1376953125,
           0.15592447916666666,
           0.20377604166666666,
           0.2721354166666667,
           0.3642578125,
           0.4375,
           0.5074869791666666,
           0.5537109375,
           0.5703125,
           0.5660807291666666,
           0.5501302083333334,
           0.5139973958333334,
           0.474609375,
           0.431640625,
           0.3841145833333333,
           0.3352864583333333,
           0.2893880208333333,
           0.24772135416666666,
           0.22330729166666666,
           0.20345052083333334,
           0.1826171875,
           0.17057291666666666,
           0.16178385416666666,
           0.15397135416666666,
           0.14485677083333334,
           0.13802083333333334,
           0.13411458333333334,
           0.12760416666666666,
           0.12565104166666666
          ],
          [
           0.13704427083333334,
           0.13932291666666666,
           0.1474609375,
           0.189453125,
           0.240234375,
           0.3128255208333333,
           0.3880208333333333,
           0.4475911458333333,
           0.49609375,
           0.5227864583333334,
           0.5218098958333334,
           0.513671875,
           0.4912109375,
           0.4573567708333333,
           0.4150390625,
           0.3743489583333333,
           0.3294270833333333,
           0.2897135416666667,
           0.24576822916666666,
           0.21875,
           0.19889322916666666,
           0.1826171875,
           0.1728515625,
           0.15755208333333334,
           0.15494791666666666,
           0.1474609375,
           0.13899739583333334,
           0.13346354166666666,
           0.12760416666666666,
           0.1240234375
          ],
          [
           0.13704427083333334,
           0.14095052083333334,
           0.14420572916666666,
           0.1728515625,
           0.21484375,
           0.2727864583333333,
           0.3336588541666667,
           0.39453125,
           0.4388020833333333,
           0.4661458333333333,
           0.4762369791666667,
           0.4752604166666667,
           0.4602864583333333,
           0.4300130208333333,
           0.3935546875,
           0.3587239583333333,
           0.3206380208333333,
           0.2858072916666667,
           0.24446614583333334,
           0.21549479166666666,
           0.19498697916666666,
           0.18294270833333334,
           0.171875,
           0.16048177083333334,
           0.150390625,
           0.146484375,
           0.14127604166666666,
           0.13509114583333334,
           0.13151041666666666,
           0.12532552083333334
          ],
          [
           0.14680989583333334,
           0.14485677083333334,
           0.14127604166666666,
           0.16145833333333334,
           0.1953125,
           0.236328125,
           0.2991536458333333,
           0.345703125,
           0.3981119791666667,
           0.4195963541666667,
           0.4388020833333333,
           0.439453125,
           0.4300130208333333,
           0.4033203125,
           0.373046875,
           0.3486328125,
           0.3069661458333333,
           0.2727864583333333,
           0.24446614583333334,
           0.21614583333333334,
           0.19205729166666666,
           0.17610677083333334,
           0.17122395833333334,
           0.15787760416666666,
           0.14908854166666666,
           0.14453125,
           0.1416015625,
           0.1337890625,
           0.13020833333333334,
           0.12727864583333334
          ]
         ]
        },
        {
         "line": {
          "color": "red",
          "width": 5
         },
         "marker": {
          "color": "red",
          "size": 3
         },
         "mode": "markers+lines",
         "name": "Optimization Path",
         "type": "scatter3d",
         "x": [
          2.8651297092437744,
          2.862889051437378,
          2.7269387245178223,
          2.589348554611206,
          2.443272113800049,
          2.2661454677581787,
          2.0855863094329834,
          2.0831522941589355,
          1.9221161603927612,
          1.7619915008544922,
          1.583661675453186,
          1.3714300394058228,
          1.1349982023239136,
          1.1313451528549194,
          0.9491747617721558,
          0.785714864730835,
          0.5814314484596252,
          0.3533664047718048,
          0.002258581342175603,
          0
         ],
         "y": [
          -0.8626056909561157,
          -0.8641723990440369,
          -0.9386139512062073,
          -0.9913923144340515,
          -1.032204270362854,
          -1.073932409286499,
          -1.0959573984146118,
          -1.0960382223129272,
          -1.0857738256454468,
          -1.0543742179870605,
          -1.0023611783981323,
          -0.9072180986404419,
          -0.7782759666442871,
          -0.7759643197059631,
          -0.672419548034668,
          -0.5827264189720154,
          -0.4402337670326233,
          -0.28422603011131287,
          -0.0018455195240676403,
          0
         ],
         "z": [
          0.12771353043342337,
          0.12782119889096874,
          0.1338240199894201,
          0.13844415163787616,
          0.14267923425336088,
          0.14935471563200867,
          0.15299248223891482,
          0.1530403444194235,
          0.15384286401020952,
          0.159426847927361,
          0.1712719246861525,
          0.19908133698793656,
          0.2451514068266584,
          0.2462418420306806,
          0.33147186747870394,
          0.4355363963741905,
          0.6255009085829701,
          0.7875454016175354,
          0.8394596008011823,
          0.8391229538690477
         ]
        }
       ],
       "layout": {
        "height": 800,
        "scene": {
         "aspectmode": "manual",
         "aspectratio": {
          "x": 1,
          "y": 1,
          "z": 0.6
         },
         "xaxis": {
          "range": [
           -0.5,
           3
          ],
          "title": {
           "text": "Pca 1 var 0.77"
          }
         },
         "yaxis": {
          "range": [
           -3,
           3
          ],
          "title": {
           "text": "Pca 2 var 0.08"
          }
         },
         "zaxis": {
          "range": [
           0.08235677083333333,
           0.8561197916666666
          ],
          "title": {
           "text": "Loss"
          }
         }
        },
        "template": {
         "data": {
          "bar": [
           {
            "error_x": {
             "color": "#2a3f5f"
            },
            "error_y": {
             "color": "#2a3f5f"
            },
            "marker": {
             "line": {
              "color": "#E5ECF6",
              "width": 0.5
             },
             "pattern": {
              "fillmode": "overlay",
              "size": 10,
              "solidity": 0.2
             }
            },
            "type": "bar"
           }
          ],
          "barpolar": [
           {
            "marker": {
             "line": {
              "color": "#E5ECF6",
              "width": 0.5
             },
             "pattern": {
              "fillmode": "overlay",
              "size": 10,
              "solidity": 0.2
             }
            },
            "type": "barpolar"
           }
          ],
          "carpet": [
           {
            "aaxis": {
             "endlinecolor": "#2a3f5f",
             "gridcolor": "white",
             "linecolor": "white",
             "minorgridcolor": "white",
             "startlinecolor": "#2a3f5f"
            },
            "baxis": {
             "endlinecolor": "#2a3f5f",
             "gridcolor": "white",
             "linecolor": "white",
             "minorgridcolor": "white",
             "startlinecolor": "#2a3f5f"
            },
            "type": "carpet"
           }
          ],
          "choropleth": [
           {
            "colorbar": {
             "outlinewidth": 0,
             "ticks": ""
            },
            "type": "choropleth"
           }
          ],
          "contour": [
           {
            "colorbar": {
             "outlinewidth": 0,
             "ticks": ""
            },
            "colorscale": [
             [
              0,
              "#0d0887"
             ],
             [
              0.1111111111111111,
              "#46039f"
             ],
             [
              0.2222222222222222,
              "#7201a8"
             ],
             [
              0.3333333333333333,
              "#9c179e"
             ],
             [
              0.4444444444444444,
              "#bd3786"
             ],
             [
              0.5555555555555556,
              "#d8576b"
             ],
             [
              0.6666666666666666,
              "#ed7953"
             ],
             [
              0.7777777777777778,
              "#fb9f3a"
             ],
             [
              0.8888888888888888,
              "#fdca26"
             ],
             [
              1,
              "#f0f921"
             ]
            ],
            "type": "contour"
           }
          ],
          "contourcarpet": [
           {
            "colorbar": {
             "outlinewidth": 0,
             "ticks": ""
            },
            "type": "contourcarpet"
           }
          ],
          "heatmap": [
           {
            "colorbar": {
             "outlinewidth": 0,
             "ticks": ""
            },
            "colorscale": [
             [
              0,
              "#0d0887"
             ],
             [
              0.1111111111111111,
              "#46039f"
             ],
             [
              0.2222222222222222,
              "#7201a8"
             ],
             [
              0.3333333333333333,
              "#9c179e"
             ],
             [
              0.4444444444444444,
              "#bd3786"
             ],
             [
              0.5555555555555556,
              "#d8576b"
             ],
             [
              0.6666666666666666,
              "#ed7953"
             ],
             [
              0.7777777777777778,
              "#fb9f3a"
             ],
             [
              0.8888888888888888,
              "#fdca26"
             ],
             [
              1,
              "#f0f921"
             ]
            ],
            "type": "heatmap"
           }
          ],
          "heatmapgl": [
           {
            "colorbar": {
             "outlinewidth": 0,
             "ticks": ""
            },
            "colorscale": [
             [
              0,
              "#0d0887"
             ],
             [
              0.1111111111111111,
              "#46039f"
             ],
             [
              0.2222222222222222,
              "#7201a8"
             ],
             [
              0.3333333333333333,
              "#9c179e"
             ],
             [
              0.4444444444444444,
              "#bd3786"
             ],
             [
              0.5555555555555556,
              "#d8576b"
             ],
             [
              0.6666666666666666,
              "#ed7953"
             ],
             [
              0.7777777777777778,
              "#fb9f3a"
             ],
             [
              0.8888888888888888,
              "#fdca26"
             ],
             [
              1,
              "#f0f921"
             ]
            ],
            "type": "heatmapgl"
           }
          ],
          "histogram": [
           {
            "marker": {
             "pattern": {
              "fillmode": "overlay",
              "size": 10,
              "solidity": 0.2
             }
            },
            "type": "histogram"
           }
          ],
          "histogram2d": [
           {
            "colorbar": {
             "outlinewidth": 0,
             "ticks": ""
            },
            "colorscale": [
             [
              0,
              "#0d0887"
             ],
             [
              0.1111111111111111,
              "#46039f"
             ],
             [
              0.2222222222222222,
              "#7201a8"
             ],
             [
              0.3333333333333333,
              "#9c179e"
             ],
             [
              0.4444444444444444,
              "#bd3786"
             ],
             [
              0.5555555555555556,
              "#d8576b"
             ],
             [
              0.6666666666666666,
              "#ed7953"
             ],
             [
              0.7777777777777778,
              "#fb9f3a"
             ],
             [
              0.8888888888888888,
              "#fdca26"
             ],
             [
              1,
              "#f0f921"
             ]
            ],
            "type": "histogram2d"
           }
          ],
          "histogram2dcontour": [
           {
            "colorbar": {
             "outlinewidth": 0,
             "ticks": ""
            },
            "colorscale": [
             [
              0,
              "#0d0887"
             ],
             [
              0.1111111111111111,
              "#46039f"
             ],
             [
              0.2222222222222222,
              "#7201a8"
             ],
             [
              0.3333333333333333,
              "#9c179e"
             ],
             [
              0.4444444444444444,
              "#bd3786"
             ],
             [
              0.5555555555555556,
              "#d8576b"
             ],
             [
              0.6666666666666666,
              "#ed7953"
             ],
             [
              0.7777777777777778,
              "#fb9f3a"
             ],
             [
              0.8888888888888888,
              "#fdca26"
             ],
             [
              1,
              "#f0f921"
             ]
            ],
            "type": "histogram2dcontour"
           }
          ],
          "mesh3d": [
           {
            "colorbar": {
             "outlinewidth": 0,
             "ticks": ""
            },
            "type": "mesh3d"
           }
          ],
          "parcoords": [
           {
            "line": {
             "colorbar": {
              "outlinewidth": 0,
              "ticks": ""
             }
            },
            "type": "parcoords"
           }
          ],
          "pie": [
           {
            "automargin": true,
            "type": "pie"
           }
          ],
          "scatter": [
           {
            "fillpattern": {
             "fillmode": "overlay",
             "size": 10,
             "solidity": 0.2
            },
            "type": "scatter"
           }
          ],
          "scatter3d": [
           {
            "line": {
             "colorbar": {
              "outlinewidth": 0,
              "ticks": ""
             }
            },
            "marker": {
             "colorbar": {
              "outlinewidth": 0,
              "ticks": ""
             }
            },
            "type": "scatter3d"
           }
          ],
          "scattercarpet": [
           {
            "marker": {
             "colorbar": {
              "outlinewidth": 0,
              "ticks": ""
             }
            },
            "type": "scattercarpet"
           }
          ],
          "scattergeo": [
           {
            "marker": {
             "colorbar": {
              "outlinewidth": 0,
              "ticks": ""
             }
            },
            "type": "scattergeo"
           }
          ],
          "scattergl": [
           {
            "marker": {
             "colorbar": {
              "outlinewidth": 0,
              "ticks": ""
             }
            },
            "type": "scattergl"
           }
          ],
          "scattermapbox": [
           {
            "marker": {
             "colorbar": {
              "outlinewidth": 0,
              "ticks": ""
             }
            },
            "type": "scattermapbox"
           }
          ],
          "scatterpolar": [
           {
            "marker": {
             "colorbar": {
              "outlinewidth": 0,
              "ticks": ""
             }
            },
            "type": "scatterpolar"
           }
          ],
          "scatterpolargl": [
           {
            "marker": {
             "colorbar": {
              "outlinewidth": 0,
              "ticks": ""
             }
            },
            "type": "scatterpolargl"
           }
          ],
          "scatterternary": [
           {
            "marker": {
             "colorbar": {
              "outlinewidth": 0,
              "ticks": ""
             }
            },
            "type": "scatterternary"
           }
          ],
          "surface": [
           {
            "colorbar": {
             "outlinewidth": 0,
             "ticks": ""
            },
            "colorscale": [
             [
              0,
              "#0d0887"
             ],
             [
              0.1111111111111111,
              "#46039f"
             ],
             [
              0.2222222222222222,
              "#7201a8"
             ],
             [
              0.3333333333333333,
              "#9c179e"
             ],
             [
              0.4444444444444444,
              "#bd3786"
             ],
             [
              0.5555555555555556,
              "#d8576b"
             ],
             [
              0.6666666666666666,
              "#ed7953"
             ],
             [
              0.7777777777777778,
              "#fb9f3a"
             ],
             [
              0.8888888888888888,
              "#fdca26"
             ],
             [
              1,
              "#f0f921"
             ]
            ],
            "type": "surface"
           }
          ],
          "table": [
           {
            "cells": {
             "fill": {
              "color": "#EBF0F8"
             },
             "line": {
              "color": "white"
             }
            },
            "header": {
             "fill": {
              "color": "#C8D4E3"
             },
             "line": {
              "color": "white"
             }
            },
            "type": "table"
           }
          ]
         },
         "layout": {
          "annotationdefaults": {
           "arrowcolor": "#2a3f5f",
           "arrowhead": 0,
           "arrowwidth": 1
          },
          "autotypenumbers": "strict",
          "coloraxis": {
           "colorbar": {
            "outlinewidth": 0,
            "ticks": ""
           }
          },
          "colorscale": {
           "diverging": [
            [
             0,
             "#8e0152"
            ],
            [
             0.1,
             "#c51b7d"
            ],
            [
             0.2,
             "#de77ae"
            ],
            [
             0.3,
             "#f1b6da"
            ],
            [
             0.4,
             "#fde0ef"
            ],
            [
             0.5,
             "#f7f7f7"
            ],
            [
             0.6,
             "#e6f5d0"
            ],
            [
             0.7,
             "#b8e186"
            ],
            [
             0.8,
             "#7fbc41"
            ],
            [
             0.9,
             "#4d9221"
            ],
            [
             1,
             "#276419"
            ]
           ],
           "sequential": [
            [
             0,
             "#0d0887"
            ],
            [
             0.1111111111111111,
             "#46039f"
            ],
            [
             0.2222222222222222,
             "#7201a8"
            ],
            [
             0.3333333333333333,
             "#9c179e"
            ],
            [
             0.4444444444444444,
             "#bd3786"
            ],
            [
             0.5555555555555556,
             "#d8576b"
            ],
            [
             0.6666666666666666,
             "#ed7953"
            ],
            [
             0.7777777777777778,
             "#fb9f3a"
            ],
            [
             0.8888888888888888,
             "#fdca26"
            ],
            [
             1,
             "#f0f921"
            ]
           ],
           "sequentialminus": [
            [
             0,
             "#0d0887"
            ],
            [
             0.1111111111111111,
             "#46039f"
            ],
            [
             0.2222222222222222,
             "#7201a8"
            ],
            [
             0.3333333333333333,
             "#9c179e"
            ],
            [
             0.4444444444444444,
             "#bd3786"
            ],
            [
             0.5555555555555556,
             "#d8576b"
            ],
            [
             0.6666666666666666,
             "#ed7953"
            ],
            [
             0.7777777777777778,
             "#fb9f3a"
            ],
            [
             0.8888888888888888,
             "#fdca26"
            ],
            [
             1,
             "#f0f921"
            ]
           ]
          },
          "colorway": [
           "#636efa",
           "#EF553B",
           "#00cc96",
           "#ab63fa",
           "#FFA15A",
           "#19d3f3",
           "#FF6692",
           "#B6E880",
           "#FF97FF",
           "#FECB52"
          ],
          "font": {
           "color": "#2a3f5f"
          },
          "geo": {
           "bgcolor": "white",
           "lakecolor": "white",
           "landcolor": "#E5ECF6",
           "showlakes": true,
           "showland": true,
           "subunitcolor": "white"
          },
          "hoverlabel": {
           "align": "left"
          },
          "hovermode": "closest",
          "mapbox": {
           "style": "light"
          },
          "paper_bgcolor": "white",
          "plot_bgcolor": "#E5ECF6",
          "polar": {
           "angularaxis": {
            "gridcolor": "white",
            "linecolor": "white",
            "ticks": ""
           },
           "bgcolor": "#E5ECF6",
           "radialaxis": {
            "gridcolor": "white",
            "linecolor": "white",
            "ticks": ""
           }
          },
          "scene": {
           "xaxis": {
            "backgroundcolor": "#E5ECF6",
            "gridcolor": "white",
            "gridwidth": 2,
            "linecolor": "white",
            "showbackground": true,
            "ticks": "",
            "zerolinecolor": "white"
           },
           "yaxis": {
            "backgroundcolor": "#E5ECF6",
            "gridcolor": "white",
            "gridwidth": 2,
            "linecolor": "white",
            "showbackground": true,
            "ticks": "",
            "zerolinecolor": "white"
           },
           "zaxis": {
            "backgroundcolor": "#E5ECF6",
            "gridcolor": "white",
            "gridwidth": 2,
            "linecolor": "white",
            "showbackground": true,
            "ticks": "",
            "zerolinecolor": "white"
           }
          },
          "shapedefaults": {
           "line": {
            "color": "#2a3f5f"
           }
          },
          "ternary": {
           "aaxis": {
            "gridcolor": "white",
            "linecolor": "white",
            "ticks": ""
           },
           "baxis": {
            "gridcolor": "white",
            "linecolor": "white",
            "ticks": ""
           },
           "bgcolor": "#E5ECF6",
           "caxis": {
            "gridcolor": "white",
            "linecolor": "white",
            "ticks": ""
           }
          },
          "title": {
           "x": 0.05
          },
          "xaxis": {
           "automargin": true,
           "gridcolor": "white",
           "linecolor": "white",
           "ticks": "",
           "title": {
            "standoff": 15
           },
           "zerolinecolor": "white",
           "zerolinewidth": 2
          },
          "yaxis": {
           "automargin": true,
           "gridcolor": "white",
           "linecolor": "white",
           "ticks": "",
           "title": {
            "standoff": 15
           },
           "zerolinecolor": "white",
           "zerolinewidth": 2
          }
         }
        },
        "width": 800
       }
      }
     },
     "metadata": {},
     "output_type": "display_data"
    }
   ],
   "source": [
    "plot_optimization_path_3d(accuracies.T, x_steps, y_steps, projected_dir_one, projected_dir_two, pca)"
   ]
  },
  {
   "cell_type": "code",
   "execution_count": 23,
   "metadata": {},
   "outputs": [
    {
     "data": {
      "application/vnd.plotly.v1+json": {
       "config": {
        "plotlyServerURL": "https://plot.ly"
       },
       "data": [
        {
         "colorscale": [
          [
           0,
           "#440154"
          ],
          [
           0.1111111111111111,
           "#482878"
          ],
          [
           0.2222222222222222,
           "#3e4989"
          ],
          [
           0.3333333333333333,
           "#31688e"
          ],
          [
           0.4444444444444444,
           "#26828e"
          ],
          [
           0.5555555555555556,
           "#1f9e89"
          ],
          [
           0.6666666666666666,
           "#35b779"
          ],
          [
           0.7777777777777778,
           "#6ece58"
          ],
          [
           0.8888888888888888,
           "#b5de2b"
          ],
          [
           1,
           "#fde725"
          ]
         ],
         "contours": {
          "z": {
           "color": "white",
           "end": 5.532189846038818,
           "show": true,
           "size": 0.1,
           "start": 0.5424166917800903
          }
         },
         "name": "Loss Landscape",
         "type": "surface",
         "x": [
          -0.5,
          -0.41025641025641024,
          -0.3205128205128205,
          -0.23076923076923078,
          -0.14102564102564102,
          -0.051282051282051266,
          0.038461538461538436,
          0.1282051282051282,
          0.21794871794871795,
          0.3076923076923077,
          0.39743589743589747,
          0.4871794871794872,
          0.5769230769230769,
          0.6666666666666667,
          0.7564102564102564,
          0.8461538461538463,
          0.9358974358974359,
          1.0256410256410255,
          1.1153846153846154,
          1.205128205128205,
          1.294871794871795,
          1.3846153846153846,
          1.4743589743589745,
          1.5641025641025643,
          1.6538461538461537,
          1.7435897435897436,
          1.8333333333333335,
          1.923076923076923,
          2.0128205128205128,
          2.1025641025641026,
          2.1923076923076925,
          2.282051282051282,
          2.371794871794872,
          2.4615384615384617,
          2.551282051282051,
          2.641025641025641,
          2.730769230769231,
          2.8205128205128207,
          2.91025641025641,
          3
         ],
         "y": [
          -3,
          -2.8461538461538463,
          -2.6923076923076925,
          -2.5384615384615383,
          -2.3846153846153846,
          -2.230769230769231,
          -2.0769230769230766,
          -1.923076923076923,
          -1.7692307692307692,
          -1.6153846153846154,
          -1.4615384615384615,
          -1.3076923076923075,
          -1.1538461538461537,
          -1,
          -0.8461538461538458,
          -0.6923076923076921,
          -0.5384615384615383,
          -0.3846153846153846,
          -0.23076923076923084,
          -0.07692307692307665,
          0.0769230769230771,
          0.23076923076923084,
          0.384615384615385,
          0.5384615384615388,
          0.6923076923076925,
          0.8461538461538463,
          1,
          1.1538461538461542,
          1.3076923076923084,
          1.4615384615384617,
          1.6153846153846159,
          1.7692307692307692,
          1.9230769230769234,
          2.0769230769230775,
          2.230769230769231,
          2.384615384615385,
          2.5384615384615383,
          2.6923076923076925,
          2.8461538461538467,
          3
         ],
         "z": [
          [
           3.599935531616211,
           3.7680394649505615,
           3.7660279273986816,
           4.105268955230713,
           4.029979228973389,
           4.292727947235107,
           4.349368572235107,
           4.5239362716674805,
           4.755217552185059,
           4.779095649719238,
           4.760546684265137,
           4.888341426849365,
           5.01640510559082,
           5.089975833892822,
           5.077939510345459,
           4.990139007568359,
           4.917896747589111,
           4.862267971038818,
           4.882174491882324,
           4.8921942710876465,
           4.901183605194092,
           4.942103385925293,
           5.008508682250977,
           5.072247505187988,
           5.134056091308594,
           5.186724662780762,
           5.225042819976807,
           5.254849433898926,
           5.271604061126709,
           5.292182922363281,
           5.310912132263184,
           5.337635040283203,
           5.374366283416748,
           5.410417556762695,
           5.439868450164795,
           5.465033054351807,
           5.482028007507324,
           5.498494625091553,
           5.513815402984619,
           5.532189846038818
          ],
          [
           3.5381431579589844,
           3.574228525161743,
           3.8363001346588135,
           4.042392253875732,
           4.031642436981201,
           4.0341291427612305,
           4.387850761413574,
           4.575058460235596,
           4.690760612487793,
           4.76636266708374,
           4.949026584625244,
           5.032861709594727,
           5.126496315002441,
           5.146448135375977,
           5.085201263427734,
           4.981544017791748,
           4.843954086303711,
           4.806151866912842,
           4.814608097076416,
           4.81777286529541,
           4.812313079833984,
           4.844444751739502,
           4.908642292022705,
           4.9659528732299805,
           5.021191596984863,
           5.074088096618652,
           5.113681793212891,
           5.142547607421875,
           5.166752338409424,
           5.199248313903809,
           5.233346939086914,
           5.269646167755127,
           5.303964138031006,
           5.33850622177124,
           5.366326332092285,
           5.390499591827393,
           5.409554481506348,
           5.431821346282959,
           5.448690891265869,
           5.4667816162109375
          ],
          [
           3.4129834175109863,
           3.53950572013855,
           3.868427276611328,
           3.9216318130493164,
           3.863966703414917,
           3.972247362136841,
           4.290470600128174,
           4.423274993896484,
           4.5847320556640625,
           4.922124862670898,
           5.00698709487915,
           5.055347919464111,
           5.085941791534424,
           5.116105079650879,
           5.017362117767334,
           4.882104873657227,
           4.815011501312256,
           4.786603927612305,
           4.7667059898376465,
           4.7621564865112305,
           4.7575788497924805,
           4.783432960510254,
           4.807419776916504,
           4.84538459777832,
           4.8891119956970215,
           4.939411163330078,
           4.981949329376221,
           5.020387649536133,
           5.060014724731445,
           5.09748649597168,
           5.133080959320068,
           5.163123607635498,
           5.199740409851074,
           5.236303806304932,
           5.27224063873291,
           5.302286624908447,
           5.32809591293335,
           5.353982448577881,
           5.377067565917969,
           5.39765739440918
          ],
          [
           3.6045072078704834,
           3.6091227531433105,
           3.875547170639038,
           3.9263815879821777,
           3.9853270053863525,
           3.932237148284912,
           4.233835697174072,
           4.330595970153809,
           4.6146697998046875,
           4.92887544631958,
           4.985598087310791,
           5.03308629989624,
           5.079379558563232,
           5.034329891204834,
           4.9395976066589355,
           4.845499515533447,
           4.775715351104736,
           4.737971305847168,
           4.7153706550598145,
           4.712038993835449,
           4.704427719116211,
           4.701620101928711,
           4.729353427886963,
           4.766708850860596,
           4.801814556121826,
           4.836882591247559,
           4.8825764656066895,
           4.933868408203125,
           4.98540735244751,
           5.019812107086182,
           5.050103187561035,
           5.082860946655273,
           5.119100093841553,
           5.157370090484619,
           5.197139263153076,
           5.2292656898498535,
           5.255152702331543,
           5.280763149261475,
           5.308566570281982,
           5.3394670486450195
          ],
          [
           3.5664331912994385,
           3.89725399017334,
           3.7746083736419678,
           3.8808975219726562,
           3.9266445636749268,
           3.927328586578369,
           4.165045738220215,
           4.392844200134277,
           4.63374137878418,
           4.878941059112549,
           4.95750617980957,
           4.960554122924805,
           4.899904727935791,
           4.847665786743164,
           4.80281925201416,
           4.726573944091797,
           4.637165069580078,
           4.611262321472168,
           4.605963706970215,
           4.579874515533447,
           4.572850704193115,
           4.596742153167725,
           4.62978982925415,
           4.6573004722595215,
           4.697977066040039,
           4.732565879821777,
           4.780637264251709,
           4.834335803985596,
           4.882761001586914,
           4.924713611602783,
           4.9621734619140625,
           5.0061354637146,
           5.048385143280029,
           5.0856757164001465,
           5.123558521270752,
           5.158337593078613,
           5.189955711364746,
           5.224392890930176,
           5.26138162612915,
           5.296943664550781
          ],
          [
           3.6687684059143066,
           3.952204942703247,
           3.7009570598602295,
           3.845012903213501,
           3.916881561279297,
           3.969841480255127,
           4.190822124481201,
           4.479958534240723,
           4.655502796173096,
           4.795071125030518,
           4.798891067504883,
           4.8124237060546875,
           4.770471572875977,
           4.738207817077637,
           4.686553955078125,
           4.5940704345703125,
           4.522813320159912,
           4.482882022857666,
           4.462092399597168,
           4.43836784362793,
           4.438802719116211,
           4.462617874145508,
           4.500207901000977,
           4.5502400398254395,
           4.597564697265625,
           4.6530256271362305,
           4.702995777130127,
           4.751729965209961,
           4.805594444274902,
           4.857547760009766,
           4.904871940612793,
           4.95408821105957,
           5.0000505447387695,
           5.044234752655029,
           5.0840020179748535,
           5.121513366699219,
           5.158761501312256,
           5.195986747741699,
           5.23057746887207,
           5.2662224769592285
          ],
          [
           3.762227773666382,
           3.804905652999878,
           3.7626583576202393,
           3.9068973064422607,
           4.009857654571533,
           4.007891654968262,
           4.222926139831543,
           4.477963447570801,
           4.622918605804443,
           4.6640825271606445,
           4.690317153930664,
           4.692103862762451,
           4.62231969833374,
           4.554095268249512,
           4.500021457672119,
           4.459167957305908,
           4.405468463897705,
           4.363470077514648,
           4.353519916534424,
           4.3659348487854,
           4.395596504211426,
           4.436539649963379,
           4.473962783813477,
           4.5255937576293945,
           4.578912258148193,
           4.637313365936279,
           4.688381671905518,
           4.736724853515625,
           4.791110515594482,
           4.842597961425781,
           4.892506122589111,
           4.941061973571777,
           4.987724304199219,
           5.030158996582031,
           5.069413661956787,
           5.109569072723389,
           5.146341323852539,
           5.1827073097229,
           5.218356132507324,
           5.251218795776367
          ],
          [
           3.597825288772583,
           3.735368251800537,
           3.8909387588500977,
           3.995068311691284,
           3.9952361583709717,
           4.041033744812012,
           4.153101921081543,
           4.211526870727539,
           4.334575653076172,
           4.45033073425293,
           4.475135326385498,
           4.450403213500977,
           4.40964937210083,
           4.3502726554870605,
           4.31676721572876,
           4.306467056274414,
           4.306726932525635,
           4.304037570953369,
           4.330204486846924,
           4.363632678985596,
           4.398337364196777,
           4.4500813484191895,
           4.4904303550720215,
           4.539124488830566,
           4.585278511047363,
           4.636894702911377,
           4.692044734954834,
           4.736477851867676,
           4.781979084014893,
           4.830732345581055,
           4.881141185760498,
           4.932949542999268,
           4.982417106628418,
           5.026340007781982,
           5.065161228179932,
           5.102842807769775,
           5.141739368438721,
           5.178003787994385,
           5.213046073913574,
           5.247431755065918
          ],
          [
           3.5933585166931152,
           3.571950674057007,
           3.9300739765167236,
           4.108555793762207,
           3.9155147075653076,
           3.9654810428619385,
           3.886312246322632,
           3.854144334793091,
           4.038525581359863,
           4.191277980804443,
           4.230443477630615,
           4.233676433563232,
           4.218649387359619,
           4.184808254241943,
           4.175776481628418,
           4.19601583480835,
           4.219381809234619,
           4.255899429321289,
           4.311214447021484,
           4.359322547912598,
           4.389571189880371,
           4.439014434814453,
           4.4940338134765625,
           4.550429344177246,
           4.603960037231445,
           4.652801990509033,
           4.701025009155273,
           4.734068393707275,
           4.772980690002441,
           4.819012641906738,
           4.864333629608154,
           4.913698196411133,
           4.961956024169922,
           5.008891582489014,
           5.054146766662598,
           5.098606586456299,
           5.140658378601074,
           5.180785655975342,
           5.217898368835449,
           5.253820896148682
          ],
          [
           3.582500696182251,
           3.5040059089660645,
           3.824746608734131,
           3.999408483505249,
           3.6508522033691406,
           3.560638904571533,
           3.4755218029022217,
           3.439750909805298,
           3.5829436779022217,
           3.7568469047546387,
           3.8885669708251953,
           3.9682977199554443,
           4.0439910888671875,
           4.0670390129089355,
           4.094051837921143,
           4.116971492767334,
           4.1622467041015625,
           4.210196018218994,
           4.278542518615723,
           4.333425045013428,
           4.37998628616333,
           4.427903652191162,
           4.499831199645996,
           4.56627082824707,
           4.62166166305542,
           4.6631760597229,
           4.700526714324951,
           4.730724811553955,
           4.76499605178833,
           4.803328990936279,
           4.845473766326904,
           4.8925089836120605,
           4.9413909912109375,
           4.988046169281006,
           5.035289287567139,
           5.081789970397949,
           5.128695011138916,
           5.174881935119629,
           5.215810298919678,
           5.25429105758667
          ],
          [
           3.5449624061584473,
           3.6567728519439697,
           3.7788169384002686,
           3.785555362701416,
           3.215022325515747,
           2.9406898021698,
           2.899160385131836,
           2.938652515411377,
           3.1120145320892334,
           3.269293785095215,
           3.4359090328216553,
           3.612203359603882,
           3.774362087249756,
           3.871678590774536,
           3.9598052501678467,
           4.025763988494873,
           4.083913326263428,
           4.13612699508667,
           4.202486515045166,
           4.271468639373779,
           4.3306474685668945,
           4.397615909576416,
           4.476305961608887,
           4.54567813873291,
           4.600695610046387,
           4.652101516723633,
           4.691657543182373,
           4.720224380493164,
           4.754494667053223,
           4.786865234375,
           4.823464393615723,
           4.865749835968018,
           4.915966033935547,
           4.965307712554932,
           5.012363433837891,
           5.0595221519470215,
           5.1065778732299805,
           5.154472827911377,
           5.203512191772461,
           5.248471260070801
          ],
          [
           3.56119441986084,
           3.646477222442627,
           3.6957602500915527,
           3.274035930633545,
           2.647993564605713,
           2.2917940616607666,
           2.2513582706451416,
           2.3834211826324463,
           2.6142685413360596,
           2.8333959579467773,
           3.027921199798584,
           3.2449138164520264,
           3.4540324211120605,
           3.616248369216919,
           3.7342400550842285,
           3.848935842514038,
           3.943490982055664,
           4.028800964355469,
           4.101965427398682,
           4.170020580291748,
           4.245602130889893,
           4.326322078704834,
           4.402754306793213,
           4.477268218994141,
           4.549450874328613,
           4.6116180419921875,
           4.6662278175354,
           4.706047534942627,
           4.738089084625244,
           4.773311614990234,
           4.810652256011963,
           4.849977016448975,
           4.892380714416504,
           4.941009998321533,
           4.99310827255249,
           5.038769245147705,
           5.085543155670166,
           5.135477066040039,
           5.191259384155273,
           5.242524147033691
          ],
          [
           3.6142489910125732,
           3.647814989089966,
           3.3904199600219727,
           2.7347896099090576,
           2.0351805686950684,
           1.6853537559509277,
           1.6890347003936768,
           1.882851004600525,
           2.124953031539917,
           2.3708062171936035,
           2.610067129135132,
           2.8629636764526367,
           3.114765167236328,
           3.335853338241577,
           3.5141918659210205,
           3.664055585861206,
           3.798786163330078,
           3.9215307235717773,
           4.016605377197266,
           4.089334487915039,
           4.1727070808410645,
           4.263213634490967,
           4.343578815460205,
           4.415172576904297,
           4.496214866638184,
           4.56951379776001,
           4.635190486907959,
           4.688111305236816,
           4.729722023010254,
           4.768136024475098,
           4.805699348449707,
           4.842817306518555,
           4.884029388427734,
           4.929222583770752,
           4.978542804718018,
           5.027582168579102,
           5.074219226837158,
           5.122133731842041,
           5.177032470703125,
           5.231304168701172
          ],
          [
           3.69756817817688,
           3.655672788619995,
           3.141853094100952,
           2.22304368019104,
           1.5203059911727905,
           1.2063517570495605,
           1.247687578201294,
           1.4341920614242554,
           1.6898820400238037,
           1.9590058326721191,
           2.2181313037872314,
           2.488842725753784,
           2.770970582962036,
           3.0554680824279785,
           3.277675151824951,
           3.472529888153076,
           3.6506245136260986,
           3.797879934310913,
           3.914964199066162,
           4.010834217071533,
           4.103821754455566,
           4.1999053955078125,
           4.282948017120361,
           4.368107795715332,
           4.457918643951416,
           4.534674167633057,
           4.604308128356934,
           4.67160701751709,
           4.7268147468566895,
           4.768871307373047,
           4.813414096832275,
           4.854736328125,
           4.892273902893066,
           4.929096698760986,
           4.9751386642456055,
           5.023472309112549,
           5.070601463317871,
           5.117903232574463,
           5.167357444763184,
           5.219402313232422
          ],
          [
           3.8102216720581055,
           3.7098042964935303,
           2.9056403636932373,
           1.8043099641799927,
           1.1418907642364502,
           0.9138608574867249,
           0.9358841180801392,
           1.080153465270996,
           1.3162223100662231,
           1.5961410999298096,
           1.8661242723464966,
           2.1456193923950195,
           2.433368444442749,
           2.7414019107818604,
           3.0228707790374756,
           3.261735439300537,
           3.47843861579895,
           3.6645119190216064,
           3.7990355491638184,
           3.9059934616088867,
           4.013669013977051,
           4.1167426109313965,
           4.208362102508545,
           4.306299209594727,
           4.40843391418457,
           4.505535125732422,
           4.580636501312256,
           4.648463726043701,
           4.712162017822266,
           4.763341903686523,
           4.810132026672363,
           4.855258941650391,
           4.896790981292725,
           4.93526029586792,
           4.976895809173584,
           5.021273612976074,
           5.067348003387451,
           5.116855621337891,
           5.1654534339904785,
           5.2152485847473145
          ],
          [
           3.9338009357452393,
           3.7354724407196045,
           2.671267032623291,
           1.5065269470214844,
           0.9204160571098328,
           0.7355247139930725,
           0.750941276550293,
           0.84478360414505,
           1.0375036001205444,
           1.2969707250595093,
           1.5729570388793945,
           1.8545109033584595,
           2.1393234729766846,
           2.437178134918213,
           2.754570722579956,
           3.03568696975708,
           3.282060146331787,
           3.503618001937866,
           3.672811508178711,
           3.800161838531494,
           3.918137550354004,
           4.031283855438232,
           4.136756896972656,
           4.243454456329346,
           4.352450370788574,
           4.458120822906494,
           4.5472941398620605,
           4.619513511657715,
           4.687490463256836,
           4.750097274780273,
           4.802153587341309,
           4.847829818725586,
           4.892155647277832,
           4.932615280151367,
           4.973701000213623,
           5.018746376037598,
           5.064486980438232,
           5.109179496765137,
           5.154353618621826,
           5.20166540145874
          ],
          [
           4.06938362121582,
           3.7657604217529297,
           2.5453946590423584,
           1.3210572004318237,
           0.8072233200073242,
           0.6499624252319336,
           0.645783543586731,
           0.6962283253669739,
           0.8478000164031982,
           1.061706781387329,
           1.329976201057434,
           1.6130350828170776,
           1.8973287343978882,
           2.191467523574829,
           2.5181398391723633,
           2.821103811264038,
           3.095088481903076,
           3.32741641998291,
           3.5244970321655273,
           3.686230421066284,
           3.8211936950683594,
           3.949432849884033,
           4.069698333740234,
           4.182688236236572,
           4.293961524963379,
           4.407424449920654,
           4.504970073699951,
           4.585709095001221,
           4.65439510345459,
           4.718219757080078,
           4.781550407409668,
           4.8372297286987305,
           4.885732173919678,
           4.926712512969971,
           4.969594955444336,
           5.01480770111084,
           5.064420700073242,
           5.113131999969482,
           5.156312465667725,
           5.199088096618652
          ],
          [
           4.131957054138184,
           3.7519826889038086,
           2.466691017150879,
           1.2722524404525757,
           0.7944230437278748,
           0.6196297407150269,
           0.6035130620002747,
           0.6264109015464783,
           0.713637113571167,
           0.8789364099502563,
           1.1239690780639648,
           1.4066755771636963,
           1.6983892917633057,
           1.9974757432937622,
           2.3191440105438232,
           2.6372599601745605,
           2.923509359359741,
           3.1708343029022217,
           3.377239465713501,
           3.565432071685791,
           3.7216835021972656,
           3.8614070415496826,
           3.9912662506103516,
           4.1174468994140625,
           4.236032009124756,
           4.355189800262451,
           4.463755130767822,
           4.554352283477783,
           4.6268310546875,
           4.690445899963379,
           4.754786014556885,
           4.8142924308776855,
           4.86956262588501,
           4.919337749481201,
           4.967046737670898,
           5.0151801109313965,
           5.064894676208496,
           5.1114044189453125,
           5.156211853027344,
           5.200019836425781
          ],
          [
           4.156777858734131,
           3.659721851348877,
           2.4624829292297363,
           1.3118923902511597,
           0.8194026350975037,
           0.6180551052093506,
           0.581123948097229,
           0.5805190205574036,
           0.6283566355705261,
           0.7506689429283142,
           0.956078052520752,
           1.2179920673370361,
           1.5104215145111084,
           1.8143701553344727,
           2.125765085220337,
           2.4529800415039062,
           2.751687526702881,
           3.018951416015625,
           3.2452383041381836,
           3.442598581314087,
           3.61775279045105,
           3.77319073677063,
           3.9123761653900146,
           4.043205738067627,
           4.169179439544678,
           4.292337417602539,
           4.409656524658203,
           4.5158185958862305,
           4.599592685699463,
           4.667665004730225,
           4.730876922607422,
           4.796457290649414,
           4.853548526763916,
           4.901610851287842,
           4.9516425132751465,
           5.006291389465332,
           5.058834075927734,
           5.108205318450928,
           5.155986785888672,
           5.200710773468018
          ],
          [
           4.074828624725342,
           3.5150585174560547,
           2.464993476867676,
           1.401718020439148,
           0.8572202920913696,
           0.6249076724052429,
           0.5642731785774231,
           0.5542881488800049,
           0.5788186192512512,
           0.6629266142845154,
           0.8321356177330017,
           1.0608501434326172,
           1.3388510942459106,
           1.6378192901611328,
           1.9419422149658203,
           2.2630960941314697,
           2.577418804168701,
           2.863121509552002,
           3.107421636581421,
           3.3236610889434814,
           3.5128211975097656,
           3.682082414627075,
           3.8287265300750732,
           3.9689273834228516,
           4.100047588348389,
           4.227819442749023,
           4.351262092590332,
           4.4681901931762695,
           4.568764686584473,
           4.650363445281982,
           4.717833518981934,
           4.778343677520752,
           4.83894157409668,
           4.890877723693848,
           4.938101768493652,
           4.988193511962891,
           5.043865203857422,
           5.099557876586914,
           5.1511712074279785,
           5.1980438232421875
          ],
          [
           4.003414154052734,
           3.4775257110595703,
           2.5161521434783936,
           1.534388542175293,
           0.9231289625167847,
           0.6566999554634094,
           0.563976526260376,
           0.5424166917800903,
           0.5508979558944702,
           0.6104047298431396,
           0.738854706287384,
           0.9335059523582458,
           1.185731291770935,
           1.4751389026641846,
           1.769055724143982,
           2.0780189037323,
           2.3919079303741455,
           2.691084861755371,
           2.9644010066986084,
           3.201235294342041,
           3.408546209335327,
           3.5912749767303467,
           3.747819423675537,
           3.9012765884399414,
           4.036163330078125,
           4.165831089019775,
           4.295999050140381,
           4.421658039093018,
           4.533358573913574,
           4.628060340881348,
           4.701253414154053,
           4.764056205749512,
           4.821287155151367,
           4.880226135253906,
           4.933566570281982,
           4.982386589050293,
           5.0330095291137695,
           5.085430145263672,
           5.1386284828186035,
           5.186626434326172
          ],
          [
           3.998749017715454,
           3.5226376056671143,
           2.612724542617798,
           1.692498803138733,
           1.0351601839065552,
           0.7170029878616333,
           0.5887925028800964,
           0.554732620716095,
           0.5530169606208801,
           0.5834148526191711,
           0.6732617020606995,
           0.8338278532028198,
           1.0648987293243408,
           1.3328951597213745,
           1.6166759729385376,
           1.9125953912734985,
           2.2172374725341797,
           2.5154714584350586,
           2.8031423091888428,
           3.069946765899658,
           3.303060293197632,
           3.499196767807007,
           3.6687324047088623,
           3.830287218093872,
           3.979093313217163,
           4.110650062561035,
           4.236464023590088,
           4.369346618652344,
           4.491458415985107,
           4.60065221786499,
           4.688317775726318,
           4.7575507164001465,
           4.816580772399902,
           4.869549751281738,
           4.9229302406311035,
           4.975612163543701,
           5.02528715133667,
           5.075047969818115,
           5.125214099884033,
           5.1743011474609375
          ],
          [
           4.058543682098389,
           3.5901479721069336,
           2.7583441734313965,
           1.8686355352401733,
           1.180845856666565,
           0.8028466105461121,
           0.6461917161941528,
           0.5861025452613831,
           0.57090824842453,
           0.5810279250144958,
           0.6394628286361694,
           0.765850841999054,
           0.962851345539093,
           1.2138170003890991,
           1.4843928813934326,
           1.7655029296875,
           2.0637118816375732,
           2.364844560623169,
           2.653339385986328,
           2.933103322982788,
           3.1892411708831787,
           3.4055850505828857,
           3.5860514640808105,
           3.754209280014038,
           3.9133639335632324,
           4.054959774017334,
           4.184279918670654,
           4.313144207000732,
           4.442983627319336,
           4.558359622955322,
           4.665111541748047,
           4.747933864593506,
           4.812779426574707,
           4.866907119750977,
           4.917659759521484,
           4.966440200805664,
           5.016798973083496,
           5.066226959228516,
           5.1161017417907715,
           5.1655097007751465
          ],
          [
           4.05621337890625,
           3.691531181335449,
           2.942160129547119,
           2.048790693283081,
           1.3437126874923706,
           0.9186521172523499,
           0.7220578789710999,
           0.6344533562660217,
           0.5934091210365295,
           0.5926356315612793,
           0.6281635761260986,
           0.7254754304885864,
           0.8931788802146912,
           1.1140434741973877,
           1.3685722351074219,
           1.6358450651168823,
           1.9284839630126953,
           2.234732151031494,
           2.524768114089966,
           2.8003036975860596,
           3.0683510303497314,
           3.3032119274139404,
           3.5031068325042725,
           3.681143283843994,
           3.8482253551483154,
           3.998542070388794,
           4.141091346740723,
           4.269541263580322,
           4.394763946533203,
           4.517806053161621,
           4.628512859344482,
           4.721665382385254,
           4.800971508026123,
           4.860456466674805,
           4.910619258880615,
           4.960577011108398,
           5.006797790527344,
           5.056225776672363,
           5.105439186096191,
           5.155559062957764
          ],
          [
           4.059586048126221,
           3.7773313522338867,
           3.1400790214538574,
           2.2541587352752686,
           1.527395486831665,
           1.0578190088272095,
           0.8109363317489624,
           0.6968401670455933,
           0.6372141242027283,
           0.6162070631980896,
           0.6368446946144104,
           0.711869478225708,
           0.8535889387130737,
           1.044316053390503,
           1.274381160736084,
           1.5282063484191895,
           1.817209005355835,
           2.120938301086426,
           2.4145705699920654,
           2.6912806034088135,
           2.9577083587646484,
           3.1999144554138184,
           3.413733959197998,
           3.605699300765991,
           3.7788546085357666,
           3.944044828414917,
           4.093068599700928,
           4.2291579246521,
           4.35291051864624,
           4.469696998596191,
           4.586746692657471,
           4.689018249511719,
           4.77292537689209,
           4.845468997955322,
           4.902965545654297,
           4.95301628112793,
           5.003254413604736,
           5.048681735992432,
           5.097540378570557,
           5.146512985229492
          ],
          [
           4.0550055503845215,
           3.8521976470947266,
           3.303041458129883,
           2.4732608795166016,
           1.7390860319137573,
           1.2135601043701172,
           0.920011043548584,
           0.7718611359596252,
           0.694579005241394,
           0.658549964427948,
           0.6637608408927917,
           0.7192298173904419,
           0.8381465673446655,
           1.0070281028747559,
           1.2118629217147827,
           1.4441429376602173,
           1.7258630990982056,
           2.0259652137756348,
           2.3214595317840576,
           2.597332715988159,
           2.8586552143096924,
           3.1068332195281982,
           3.3302173614501953,
           3.530592918395996,
           3.716418504714966,
           3.8859965801239014,
           4.042498588562012,
           4.184480667114258,
           4.313166618347168,
           4.4329609870910645,
           4.541331768035889,
           4.648346424102783,
           4.7403106689453125,
           4.814420223236084,
           4.884256362915039,
           4.942734241485596,
           4.994473457336426,
           5.0428619384765625,
           5.0911335945129395,
           5.137432098388672
          ],
          [
           4.058443069458008,
           3.908381700515747,
           3.4374001026153564,
           2.675929069519043,
           1.9708211421966553,
           1.3859210014343262,
           1.0467679500579834,
           0.8560375571250916,
           0.759809136390686,
           0.7084335684776306,
           0.7024233341217041,
           0.743115246295929,
           0.8429448008537292,
           0.9909976720809937,
           1.1795072555541992,
           1.3928414583206177,
           1.6505767107009888,
           1.9424598217010498,
           2.2380642890930176,
           2.517754554748535,
           2.780308246612549,
           3.0233747959136963,
           3.251847982406616,
           3.4608728885650635,
           3.6535487174987793,
           3.8300247192382812,
           3.992100954055786,
           4.136509418487549,
           4.269992351531982,
           4.390599727630615,
           4.5008392333984375,
           4.602736949920654,
           4.700834274291992,
           4.7849507331848145,
           4.857950687408447,
           4.92302942276001,
           4.982317924499512,
           5.03444242477417,
           5.084009170532227,
           5.131445407867432
          ],
          [
           4.122119903564453,
           3.9965980052948,
           3.561262845993042,
           2.8620593547821045,
           2.1947059631347656,
           1.58827805519104,
           1.1918487548828125,
           0.9597051739692688,
           0.8316038250923157,
           0.7633978724479675,
           0.7419019341468811,
           0.776921808719635,
           0.8625649213790894,
           0.9950107336044312,
           1.1637234687805176,
           1.3622127771377563,
           1.6017588376998901,
           1.8755176067352295,
           2.1569621562957764,
           2.4391677379608154,
           2.7078192234039307,
           2.955735921859741,
           3.1892988681793213,
           3.399181604385376,
           3.5949134826660156,
           3.773897647857666,
           3.9413092136383057,
           4.093029975891113,
           4.224546432495117,
           4.347988605499268,
           4.459660053253174,
           4.564308166503906,
           4.659382343292236,
           4.748122692108154,
           4.827714920043945,
           4.90055513381958,
           4.9642653465271,
           5.02263069152832,
           5.073719501495361,
           5.1222381591796875
          ],
          [
           4.177680492401123,
           4.073776721954346,
           3.7043943405151367,
           3.055593490600586,
           2.4021787643432617,
           1.8138290643692017,
           1.3536278009414673,
           1.084332823753357,
           0.9204652309417725,
           0.8278461694717407,
           0.7926177382469177,
           0.8151412606239319,
           0.8845579028129578,
           1.0085899829864502,
           1.1646121740341187,
           1.3512815237045288,
           1.5704474449157715,
           1.8261103630065918,
           2.0953824520111084,
           2.3682491779327393,
           2.638288974761963,
           2.8898792266845703,
           3.1313512325286865,
           3.3490705490112305,
           3.5455005168914795,
           3.7230143547058105,
           3.8916409015655518,
           4.046804428100586,
           4.1858062744140625,
           4.307595252990723,
           4.419766426086426,
           4.52577018737793,
           4.6251654624938965,
           4.710678577423096,
           4.79011869430542,
           4.8679375648498535,
           4.939894199371338,
           5.002739429473877,
           5.060169696807861,
           5.112095355987549
          ],
          [
           4.199067115783691,
           4.114748477935791,
           3.8128812313079834,
           3.249396800994873,
           2.601191520690918,
           2.0325005054473877,
           1.5388062000274658,
           1.2206337451934814,
           1.0285758972167969,
           0.911689043045044,
           0.8529192805290222,
           0.8624088764190674,
           0.9180043339729309,
           1.025614619255066,
           1.1768754720687866,
           1.3548389673233032,
           1.563711166381836,
           1.7928032875061035,
           2.0483057498931885,
           2.315030336380005,
           2.581895112991333,
           2.8353445529937744,
           3.07285213470459,
           3.299755573272705,
           3.5043463706970215,
           3.684312343597412,
           3.84877610206604,
           4.003818988800049,
           4.146583557128906,
           4.273604393005371,
           4.386168479919434,
           4.488408088684082,
           4.588828086853027,
           4.682546615600586,
           4.7613677978515625,
           4.835504055023193,
           4.908992767333984,
           4.976802825927734,
           5.04176139831543,
           5.0996904373168945
          ],
          [
           4.157688617706299,
           4.134286880493164,
           3.871600866317749,
           3.404679536819458,
           2.801285743713379,
           2.2432844638824463,
           1.749786138534546,
           1.3829426765441895,
           1.1538530588150024,
           1.0163222551345825,
           0.931965708732605,
           0.9172549843788147,
           0.962289035320282,
           1.056890606880188,
           1.199231505393982,
           1.369343638420105,
           1.564723253250122,
           1.7810845375061035,
           2.0224640369415283,
           2.2744009494781494,
           2.537227153778076,
           2.7874393463134766,
           3.0236804485321045,
           3.2505319118499756,
           3.462897539138794,
           3.650691270828247,
           3.8173811435699463,
           3.967352867126465,
           4.109396934509277,
           4.239920616149902,
           4.3527421951293945,
           4.458887577056885,
           4.555564880371094,
           4.650775909423828,
           4.737490653991699,
           4.812653064727783,
           4.8847503662109375,
           4.952756404876709,
           5.019430160522461,
           5.0814924240112305
          ],
          [
           4.128054141998291,
           4.138431072235107,
           3.9168074131011963,
           3.523298978805542,
           3.0049185752868652,
           2.4566941261291504,
           1.9751060009002686,
           1.5728530883789062,
           1.300913691520691,
           1.130814790725708,
           1.0321166515350342,
           0.9961822628974915,
           1.0240278244018555,
           1.102401852607727,
           1.2344350814819336,
           1.395031452178955,
           1.5775890350341797,
           1.7871495485305786,
           2.012565851211548,
           2.254326820373535,
           2.5033066272735596,
           2.753970146179199,
           2.985222339630127,
           3.2072837352752686,
           3.423109531402588,
           3.6190404891967773,
           3.7906076908111572,
           3.9406518936157227,
           4.07629919052124,
           4.206439971923828,
           4.325202465057373,
           4.4286956787109375,
           4.528140544891357,
           4.621829986572266,
           4.71024751663208,
           4.789900779724121,
           4.865333080291748,
           4.936040878295898,
           5.001466274261475,
           5.064525604248047
          ],
          [
           4.131487846374512,
           4.138258457183838,
           3.9539084434509277,
           3.622629165649414,
           3.175992012023926,
           2.6645565032958984,
           2.19295597076416,
           1.791025161743164,
           1.4763845205307007,
           1.264672875404358,
           1.1501790285110474,
           1.0972483158111572,
           1.1066848039627075,
           1.1659258604049683,
           1.279052734375,
           1.4312664270401,
           1.6019729375839233,
           1.8081012964248657,
           2.0225331783294678,
           2.2524683475494385,
           2.490602493286133,
           2.730149030685425,
           2.95998215675354,
           3.1772866249084473,
           3.386446475982666,
           3.585635185241699,
           3.76515793800354,
           3.9171535968780518,
           4.055115222930908,
           4.179466724395752,
           4.297226905822754,
           4.4055914878845215,
           4.503337383270264,
           4.597555637359619,
           4.683478832244873,
           4.765914440155029,
           4.8435821533203125,
           4.917885780334473,
           4.986244201660156,
           5.04800271987915
          ],
          [
           4.110833644866943,
           4.1315460205078125,
           3.9758036136627197,
           3.6972312927246094,
           3.317824125289917,
           2.861924171447754,
           2.407052993774414,
           2.009413242340088,
           1.6749956607818604,
           1.4230289459228516,
           1.277003526687622,
           1.2115706205368042,
           1.2070751190185547,
           1.248770833015442,
           1.3364790678024292,
           1.4774246215820312,
           1.6394644975662231,
           1.8328076601028442,
           2.0462372303009033,
           2.264312744140625,
           2.4914581775665283,
           2.718075752258301,
           2.945931911468506,
           3.1587350368499756,
           3.359125852584839,
           3.556365966796875,
           3.7382655143737793,
           3.896693706512451,
           4.036348342895508,
           4.163050174713135,
           4.277767181396484,
           4.383399963378906,
           4.480982780456543,
           4.57399320602417,
           4.661696434020996,
           4.742153644561768,
           4.820805072784424,
           4.897696018218994,
           4.968014240264893,
           5.032904624938965
          ],
          [
           4.075033187866211,
           4.123771667480469,
           3.979820966720581,
           3.7566888332366943,
           3.434791326522827,
           3.037919521331787,
           2.6114354133605957,
           2.2309484481811523,
           1.8805969953536987,
           1.6041511297225952,
           1.4260621070861816,
           1.3399436473846436,
           1.3188055753707886,
           1.3463032245635986,
           1.414888858795166,
           1.5354996919631958,
           1.6881037950515747,
           1.8670175075531006,
           2.0731821060180664,
           2.284209966659546,
           2.501210927963257,
           2.7223963737487793,
           2.9421682357788086,
           3.1515469551086426,
           3.347275733947754,
           3.5379981994628906,
           3.715583086013794,
           3.8781566619873047,
           4.018495082855225,
           4.14697790145874,
           4.264949798583984,
           4.368542671203613,
           4.464526653289795,
           4.554573059082031,
           4.64243221282959,
           4.7243146896362305,
           4.800434112548828,
           4.875184059143066,
           4.947417736053467,
           5.015709400177002
          ],
          [
           4.053111553192139,
           4.108189582824707,
           3.974492073059082,
           3.7986092567443848,
           3.52994704246521,
           3.2020816802978516,
           2.805765151977539,
           2.4483933448791504,
           2.0931620597839355,
           1.7963663339614868,
           1.5934438705444336,
           1.4779719114303589,
           1.440518856048584,
           1.4526138305664062,
           1.5085458755493164,
           1.6089565753936768,
           1.7453832626342773,
           1.9135963916778564,
           2.108170509338379,
           2.313401937484741,
           2.519648790359497,
           2.7302968502044678,
           2.9451992511749268,
           3.1509485244750977,
           3.346224069595337,
           3.5294430255889893,
           3.7047853469848633,
           3.864086151123047,
           4.007859706878662,
           4.132026195526123,
           4.246453285217285,
           4.353679656982422,
           4.450168132781982,
           4.5394086837768555,
           4.624382972717285,
           4.708134651184082,
           4.7853312492370605,
           4.856234550476074,
           4.928079128265381,
           4.9967756271362305
          ],
          [
           4.032106399536133,
           4.092404842376709,
           3.9635956287384033,
           3.8259809017181396,
           3.594447612762451,
           3.34291672706604,
           2.986405611038208,
           2.64705753326416,
           2.304049491882324,
           1.9964368343353271,
           1.772306203842163,
           1.629311442375183,
           1.5721443891525269,
           1.5673842430114746,
           1.6094512939453125,
           1.6930954456329346,
           1.8135381937026978,
           1.9702224731445312,
           2.147326707839966,
           2.346013069152832,
           2.5445539951324463,
           2.744562864303589,
           2.949345588684082,
           3.1520073413848877,
           3.348428964614868,
           3.5320286750793457,
           3.7037758827209473,
           3.858570098876953,
           4.000997543334961,
           4.127542972564697,
           4.237229347229004,
           4.339169025421143,
           4.434870719909668,
           4.525595188140869,
           4.6092305183410645,
           4.688645362854004,
           4.769752025604248,
           4.842297554016113,
           4.910073280334473,
           4.978774070739746
          ],
          [
           3.9962940216064453,
           4.064451217651367,
           3.9679501056671143,
           3.850851535797119,
           3.6576342582702637,
           3.4394543170928955,
           3.1383156776428223,
           2.8297736644744873,
           2.500779867172241,
           2.198610544204712,
           1.9549686908721924,
           1.7938538789749146,
           1.7074406147003174,
           1.6879059076309204,
           1.718822956085205,
           1.7824093103408813,
           1.8874776363372803,
           2.0282301902770996,
           2.192995548248291,
           2.379434108734131,
           2.570236921310425,
           2.7620606422424316,
           2.9584882259368896,
           3.1532554626464844,
           3.3497893810272217,
           3.5336382389068604,
           3.705528974533081,
           3.8607864379882812,
           3.9994864463806152,
           4.127068042755127,
           4.240604400634766,
           4.335452079772949,
           4.426207065582275,
           4.513919353485107,
           4.59954309463501,
           4.676591873168945,
           4.7529215812683105,
           4.827982425689697,
           4.897906303405762,
           4.96483850479126
          ],
          [
           3.9706220626831055,
           4.03226900100708,
           3.9734079837799072,
           3.8699698448181152,
           3.7120165824890137,
           3.506838798522949,
           3.27207612991333,
           2.994291305541992,
           2.685046672821045,
           2.3890771865844727,
           2.1436939239501953,
           1.9682406187057495,
           1.862426996231079,
           1.819262146949768,
           1.8317259550094604,
           1.8818079233169556,
           1.970645785331726,
           2.091425895690918,
           2.2442660331726074,
           2.413670063018799,
           2.5993058681488037,
           2.784773349761963,
           2.973684072494507,
           3.1640591621398926,
           3.3512508869171143,
           3.537876844406128,
           3.7102928161621094,
           3.866297721862793,
           4.005703449249268,
           4.131481170654297,
           4.245621204376221,
           4.343456745147705,
           4.427907466888428,
           4.512250900268555,
           4.59212064743042,
           4.6703200340271,
           4.742405414581299,
           4.814345359802246,
           4.885200023651123,
           4.9518046379089355
          ],
          [
           3.9673941135406494,
           4.015590667724609,
           3.977825164794922,
           3.8822245597839355,
           3.7515742778778076,
           3.5707225799560547,
           3.3840274810791016,
           3.132795572280884,
           2.8536300659179688,
           2.571281909942627,
           2.3263041973114014,
           2.1434550285339355,
           2.022242784500122,
           1.9587289094924927,
           1.9512418508529663,
           1.98720121383667,
           2.0567803382873535,
           2.1647722721099854,
           2.300482988357544,
           2.4567863941192627,
           2.6303350925445557,
           2.814103841781616,
           2.9958996772766113,
           3.179988384246826,
           3.361220121383667,
           3.5402982234954834,
           3.7140188217163086,
           3.873154878616333,
           4.016681671142578,
           4.141351699829102,
           4.254674911499023,
           4.355819225311279,
           4.437709331512451,
           4.516136169433594,
           4.594806671142578,
           4.66889762878418,
           4.739935398101807,
           4.807336807250977,
           4.875436305999756,
           4.941323280334473
          ]
         ]
        },
        {
         "line": {
          "color": "red",
          "width": 5
         },
         "marker": {
          "color": "red",
          "size": 3
         },
         "mode": "markers+lines",
         "name": "Optimization Path",
         "type": "scatter3d",
         "x": [
          2.8651297092437744,
          2.862888813018799,
          2.7269387245178223,
          2.589348554611206,
          2.443272113800049,
          2.2661454677581787,
          2.0855863094329834,
          2.0831522941589355,
          1.9221161603927612,
          1.7619913816452026,
          1.5836617946624756,
          1.3714300394058228,
          1.1349982023239136,
          1.1313451528549194,
          0.9491747617721558,
          0.785714864730835,
          0.58143150806427,
          0.3533663749694824,
          0.002258581342175603,
          0
         ],
         "y": [
          -0.8626060485839844,
          -0.8641729950904846,
          -0.9386143088340759,
          -0.9913924336433411,
          -1.032204270362854,
          -1.0739320516586304,
          -1.095956563949585,
          -1.0960373878479004,
          -1.0857727527618408,
          -1.0543732643127441,
          -1.002360224723816,
          -0.907217264175415,
          -0.7782753705978394,
          -0.775963306427002,
          -0.6724187731742859,
          -0.5827257633209229,
          -0.4402333199977875,
          -0.2842257022857666,
          -0.001845517777837813,
          0
         ],
         "z": [
          5.141220104886575,
          5.140026010800062,
          5.067336726804267,
          4.995517312218594,
          4.921628163768641,
          4.842429896488722,
          4.760456391072937,
          4.759315351612096,
          4.680241984452372,
          4.560454202870168,
          4.388403727466466,
          4.134607114039593,
          3.77117682118822,
          3.76409602644802,
          3.2920600593393523,
          2.6788081268211834,
          1.7850857914320533,
          0.9135463762594164,
          0.5885886313688147,
          0.5901110640593937
         ]
        }
       ],
       "layout": {
        "height": 800,
        "scene": {
         "aspectmode": "manual",
         "aspectratio": {
          "x": 1,
          "y": 1,
          "z": 0.6
         },
         "xaxis": {
          "range": [
           -0.5,
           3
          ],
          "title": {
           "text": "Pca 1 var 0.77"
          }
         },
         "yaxis": {
          "range": [
           -3,
           3
          ],
          "title": {
           "text": "Pca 2 var 0.08"
          }
         },
         "zaxis": {
          "range": [
           0.5424166917800903,
           5.532189846038818
          ],
          "title": {
           "text": "Loss"
          }
         }
        },
        "template": {
         "data": {
          "bar": [
           {
            "error_x": {
             "color": "#2a3f5f"
            },
            "error_y": {
             "color": "#2a3f5f"
            },
            "marker": {
             "line": {
              "color": "#E5ECF6",
              "width": 0.5
             },
             "pattern": {
              "fillmode": "overlay",
              "size": 10,
              "solidity": 0.2
             }
            },
            "type": "bar"
           }
          ],
          "barpolar": [
           {
            "marker": {
             "line": {
              "color": "#E5ECF6",
              "width": 0.5
             },
             "pattern": {
              "fillmode": "overlay",
              "size": 10,
              "solidity": 0.2
             }
            },
            "type": "barpolar"
           }
          ],
          "carpet": [
           {
            "aaxis": {
             "endlinecolor": "#2a3f5f",
             "gridcolor": "white",
             "linecolor": "white",
             "minorgridcolor": "white",
             "startlinecolor": "#2a3f5f"
            },
            "baxis": {
             "endlinecolor": "#2a3f5f",
             "gridcolor": "white",
             "linecolor": "white",
             "minorgridcolor": "white",
             "startlinecolor": "#2a3f5f"
            },
            "type": "carpet"
           }
          ],
          "choropleth": [
           {
            "colorbar": {
             "outlinewidth": 0,
             "ticks": ""
            },
            "type": "choropleth"
           }
          ],
          "contour": [
           {
            "colorbar": {
             "outlinewidth": 0,
             "ticks": ""
            },
            "colorscale": [
             [
              0,
              "#0d0887"
             ],
             [
              0.1111111111111111,
              "#46039f"
             ],
             [
              0.2222222222222222,
              "#7201a8"
             ],
             [
              0.3333333333333333,
              "#9c179e"
             ],
             [
              0.4444444444444444,
              "#bd3786"
             ],
             [
              0.5555555555555556,
              "#d8576b"
             ],
             [
              0.6666666666666666,
              "#ed7953"
             ],
             [
              0.7777777777777778,
              "#fb9f3a"
             ],
             [
              0.8888888888888888,
              "#fdca26"
             ],
             [
              1,
              "#f0f921"
             ]
            ],
            "type": "contour"
           }
          ],
          "contourcarpet": [
           {
            "colorbar": {
             "outlinewidth": 0,
             "ticks": ""
            },
            "type": "contourcarpet"
           }
          ],
          "heatmap": [
           {
            "colorbar": {
             "outlinewidth": 0,
             "ticks": ""
            },
            "colorscale": [
             [
              0,
              "#0d0887"
             ],
             [
              0.1111111111111111,
              "#46039f"
             ],
             [
              0.2222222222222222,
              "#7201a8"
             ],
             [
              0.3333333333333333,
              "#9c179e"
             ],
             [
              0.4444444444444444,
              "#bd3786"
             ],
             [
              0.5555555555555556,
              "#d8576b"
             ],
             [
              0.6666666666666666,
              "#ed7953"
             ],
             [
              0.7777777777777778,
              "#fb9f3a"
             ],
             [
              0.8888888888888888,
              "#fdca26"
             ],
             [
              1,
              "#f0f921"
             ]
            ],
            "type": "heatmap"
           }
          ],
          "heatmapgl": [
           {
            "colorbar": {
             "outlinewidth": 0,
             "ticks": ""
            },
            "colorscale": [
             [
              0,
              "#0d0887"
             ],
             [
              0.1111111111111111,
              "#46039f"
             ],
             [
              0.2222222222222222,
              "#7201a8"
             ],
             [
              0.3333333333333333,
              "#9c179e"
             ],
             [
              0.4444444444444444,
              "#bd3786"
             ],
             [
              0.5555555555555556,
              "#d8576b"
             ],
             [
              0.6666666666666666,
              "#ed7953"
             ],
             [
              0.7777777777777778,
              "#fb9f3a"
             ],
             [
              0.8888888888888888,
              "#fdca26"
             ],
             [
              1,
              "#f0f921"
             ]
            ],
            "type": "heatmapgl"
           }
          ],
          "histogram": [
           {
            "marker": {
             "pattern": {
              "fillmode": "overlay",
              "size": 10,
              "solidity": 0.2
             }
            },
            "type": "histogram"
           }
          ],
          "histogram2d": [
           {
            "colorbar": {
             "outlinewidth": 0,
             "ticks": ""
            },
            "colorscale": [
             [
              0,
              "#0d0887"
             ],
             [
              0.1111111111111111,
              "#46039f"
             ],
             [
              0.2222222222222222,
              "#7201a8"
             ],
             [
              0.3333333333333333,
              "#9c179e"
             ],
             [
              0.4444444444444444,
              "#bd3786"
             ],
             [
              0.5555555555555556,
              "#d8576b"
             ],
             [
              0.6666666666666666,
              "#ed7953"
             ],
             [
              0.7777777777777778,
              "#fb9f3a"
             ],
             [
              0.8888888888888888,
              "#fdca26"
             ],
             [
              1,
              "#f0f921"
             ]
            ],
            "type": "histogram2d"
           }
          ],
          "histogram2dcontour": [
           {
            "colorbar": {
             "outlinewidth": 0,
             "ticks": ""
            },
            "colorscale": [
             [
              0,
              "#0d0887"
             ],
             [
              0.1111111111111111,
              "#46039f"
             ],
             [
              0.2222222222222222,
              "#7201a8"
             ],
             [
              0.3333333333333333,
              "#9c179e"
             ],
             [
              0.4444444444444444,
              "#bd3786"
             ],
             [
              0.5555555555555556,
              "#d8576b"
             ],
             [
              0.6666666666666666,
              "#ed7953"
             ],
             [
              0.7777777777777778,
              "#fb9f3a"
             ],
             [
              0.8888888888888888,
              "#fdca26"
             ],
             [
              1,
              "#f0f921"
             ]
            ],
            "type": "histogram2dcontour"
           }
          ],
          "mesh3d": [
           {
            "colorbar": {
             "outlinewidth": 0,
             "ticks": ""
            },
            "type": "mesh3d"
           }
          ],
          "parcoords": [
           {
            "line": {
             "colorbar": {
              "outlinewidth": 0,
              "ticks": ""
             }
            },
            "type": "parcoords"
           }
          ],
          "pie": [
           {
            "automargin": true,
            "type": "pie"
           }
          ],
          "scatter": [
           {
            "fillpattern": {
             "fillmode": "overlay",
             "size": 10,
             "solidity": 0.2
            },
            "type": "scatter"
           }
          ],
          "scatter3d": [
           {
            "line": {
             "colorbar": {
              "outlinewidth": 0,
              "ticks": ""
             }
            },
            "marker": {
             "colorbar": {
              "outlinewidth": 0,
              "ticks": ""
             }
            },
            "type": "scatter3d"
           }
          ],
          "scattercarpet": [
           {
            "marker": {
             "colorbar": {
              "outlinewidth": 0,
              "ticks": ""
             }
            },
            "type": "scattercarpet"
           }
          ],
          "scattergeo": [
           {
            "marker": {
             "colorbar": {
              "outlinewidth": 0,
              "ticks": ""
             }
            },
            "type": "scattergeo"
           }
          ],
          "scattergl": [
           {
            "marker": {
             "colorbar": {
              "outlinewidth": 0,
              "ticks": ""
             }
            },
            "type": "scattergl"
           }
          ],
          "scattermapbox": [
           {
            "marker": {
             "colorbar": {
              "outlinewidth": 0,
              "ticks": ""
             }
            },
            "type": "scattermapbox"
           }
          ],
          "scatterpolar": [
           {
            "marker": {
             "colorbar": {
              "outlinewidth": 0,
              "ticks": ""
             }
            },
            "type": "scatterpolar"
           }
          ],
          "scatterpolargl": [
           {
            "marker": {
             "colorbar": {
              "outlinewidth": 0,
              "ticks": ""
             }
            },
            "type": "scatterpolargl"
           }
          ],
          "scatterternary": [
           {
            "marker": {
             "colorbar": {
              "outlinewidth": 0,
              "ticks": ""
             }
            },
            "type": "scatterternary"
           }
          ],
          "surface": [
           {
            "colorbar": {
             "outlinewidth": 0,
             "ticks": ""
            },
            "colorscale": [
             [
              0,
              "#0d0887"
             ],
             [
              0.1111111111111111,
              "#46039f"
             ],
             [
              0.2222222222222222,
              "#7201a8"
             ],
             [
              0.3333333333333333,
              "#9c179e"
             ],
             [
              0.4444444444444444,
              "#bd3786"
             ],
             [
              0.5555555555555556,
              "#d8576b"
             ],
             [
              0.6666666666666666,
              "#ed7953"
             ],
             [
              0.7777777777777778,
              "#fb9f3a"
             ],
             [
              0.8888888888888888,
              "#fdca26"
             ],
             [
              1,
              "#f0f921"
             ]
            ],
            "type": "surface"
           }
          ],
          "table": [
           {
            "cells": {
             "fill": {
              "color": "#EBF0F8"
             },
             "line": {
              "color": "white"
             }
            },
            "header": {
             "fill": {
              "color": "#C8D4E3"
             },
             "line": {
              "color": "white"
             }
            },
            "type": "table"
           }
          ]
         },
         "layout": {
          "annotationdefaults": {
           "arrowcolor": "#2a3f5f",
           "arrowhead": 0,
           "arrowwidth": 1
          },
          "autotypenumbers": "strict",
          "coloraxis": {
           "colorbar": {
            "outlinewidth": 0,
            "ticks": ""
           }
          },
          "colorscale": {
           "diverging": [
            [
             0,
             "#8e0152"
            ],
            [
             0.1,
             "#c51b7d"
            ],
            [
             0.2,
             "#de77ae"
            ],
            [
             0.3,
             "#f1b6da"
            ],
            [
             0.4,
             "#fde0ef"
            ],
            [
             0.5,
             "#f7f7f7"
            ],
            [
             0.6,
             "#e6f5d0"
            ],
            [
             0.7,
             "#b8e186"
            ],
            [
             0.8,
             "#7fbc41"
            ],
            [
             0.9,
             "#4d9221"
            ],
            [
             1,
             "#276419"
            ]
           ],
           "sequential": [
            [
             0,
             "#0d0887"
            ],
            [
             0.1111111111111111,
             "#46039f"
            ],
            [
             0.2222222222222222,
             "#7201a8"
            ],
            [
             0.3333333333333333,
             "#9c179e"
            ],
            [
             0.4444444444444444,
             "#bd3786"
            ],
            [
             0.5555555555555556,
             "#d8576b"
            ],
            [
             0.6666666666666666,
             "#ed7953"
            ],
            [
             0.7777777777777778,
             "#fb9f3a"
            ],
            [
             0.8888888888888888,
             "#fdca26"
            ],
            [
             1,
             "#f0f921"
            ]
           ],
           "sequentialminus": [
            [
             0,
             "#0d0887"
            ],
            [
             0.1111111111111111,
             "#46039f"
            ],
            [
             0.2222222222222222,
             "#7201a8"
            ],
            [
             0.3333333333333333,
             "#9c179e"
            ],
            [
             0.4444444444444444,
             "#bd3786"
            ],
            [
             0.5555555555555556,
             "#d8576b"
            ],
            [
             0.6666666666666666,
             "#ed7953"
            ],
            [
             0.7777777777777778,
             "#fb9f3a"
            ],
            [
             0.8888888888888888,
             "#fdca26"
            ],
            [
             1,
             "#f0f921"
            ]
           ]
          },
          "colorway": [
           "#636efa",
           "#EF553B",
           "#00cc96",
           "#ab63fa",
           "#FFA15A",
           "#19d3f3",
           "#FF6692",
           "#B6E880",
           "#FF97FF",
           "#FECB52"
          ],
          "font": {
           "color": "#2a3f5f"
          },
          "geo": {
           "bgcolor": "white",
           "lakecolor": "white",
           "landcolor": "#E5ECF6",
           "showlakes": true,
           "showland": true,
           "subunitcolor": "white"
          },
          "hoverlabel": {
           "align": "left"
          },
          "hovermode": "closest",
          "mapbox": {
           "style": "light"
          },
          "paper_bgcolor": "white",
          "plot_bgcolor": "#E5ECF6",
          "polar": {
           "angularaxis": {
            "gridcolor": "white",
            "linecolor": "white",
            "ticks": ""
           },
           "bgcolor": "#E5ECF6",
           "radialaxis": {
            "gridcolor": "white",
            "linecolor": "white",
            "ticks": ""
           }
          },
          "scene": {
           "xaxis": {
            "backgroundcolor": "#E5ECF6",
            "gridcolor": "white",
            "gridwidth": 2,
            "linecolor": "white",
            "showbackground": true,
            "ticks": "",
            "zerolinecolor": "white"
           },
           "yaxis": {
            "backgroundcolor": "#E5ECF6",
            "gridcolor": "white",
            "gridwidth": 2,
            "linecolor": "white",
            "showbackground": true,
            "ticks": "",
            "zerolinecolor": "white"
           },
           "zaxis": {
            "backgroundcolor": "#E5ECF6",
            "gridcolor": "white",
            "gridwidth": 2,
            "linecolor": "white",
            "showbackground": true,
            "ticks": "",
            "zerolinecolor": "white"
           }
          },
          "shapedefaults": {
           "line": {
            "color": "#2a3f5f"
           }
          },
          "ternary": {
           "aaxis": {
            "gridcolor": "white",
            "linecolor": "white",
            "ticks": ""
           },
           "baxis": {
            "gridcolor": "white",
            "linecolor": "white",
            "ticks": ""
           },
           "bgcolor": "#E5ECF6",
           "caxis": {
            "gridcolor": "white",
            "linecolor": "white",
            "ticks": ""
           }
          },
          "title": {
           "x": 0.05
          },
          "xaxis": {
           "automargin": true,
           "gridcolor": "white",
           "linecolor": "white",
           "ticks": "",
           "title": {
            "standoff": 15
           },
           "zerolinecolor": "white",
           "zerolinewidth": 2
          },
          "yaxis": {
           "automargin": true,
           "gridcolor": "white",
           "linecolor": "white",
           "ticks": "",
           "title": {
            "standoff": 15
           },
           "zerolinecolor": "white",
           "zerolinewidth": 2
          }
         }
        },
        "width": 800
       }
      }
     },
     "metadata": {},
     "output_type": "display_data"
    }
   ],
   "source": [
    "plot_optimization_path_3d(losses.T, x_steps, y_steps, projected_dir_one, projected_dir_two, pca)"
   ]
  },
  {
   "cell_type": "code",
   "execution_count": 112,
   "metadata": {},
   "outputs": [
    {
     "data": {
      "application/vnd.plotly.v1+json": {
       "config": {
        "plotlyServerURL": "https://plot.ly"
       },
       "data": [
        {
         "colorscale": [
          [
           0,
           "#440154"
          ],
          [
           0.1111111111111111,
           "#482878"
          ],
          [
           0.2222222222222222,
           "#3e4989"
          ],
          [
           0.3333333333333333,
           "#31688e"
          ],
          [
           0.4444444444444444,
           "#26828e"
          ],
          [
           0.5555555555555556,
           "#1f9e89"
          ],
          [
           0.6666666666666666,
           "#35b779"
          ],
          [
           0.7777777777777778,
           "#6ece58"
          ],
          [
           0.8888888888888888,
           "#b5de2b"
          ],
          [
           1,
           "#fde725"
          ]
         ],
         "contours": {
          "z": {
           "color": "white",
           "end": 6.533545017242432,
           "show": true,
           "size": 0.1,
           "start": 0.575017511844635
          }
         },
         "name": "Loss Landscape",
         "type": "surface",
         "x": [
          -3,
          -2.8974358974358974,
          -2.7948717948717947,
          -2.6923076923076925,
          -2.58974358974359,
          -2.4871794871794872,
          -2.3846153846153846,
          -2.282051282051282,
          -2.1794871794871797,
          -2.076923076923077,
          -1.9743589743589745,
          -1.8717948717948718,
          -1.7692307692307692,
          -1.6666666666666667,
          -1.564102564102564,
          -1.4615384615384617,
          -1.358974358974359,
          -1.2564102564102564,
          -1.153846153846154,
          -1.0512820512820513,
          -0.9487179487179489,
          -0.8461538461538463,
          -0.7435897435897436,
          -0.641025641025641,
          -0.5384615384615383,
          -0.4358974358974361,
          -0.3333333333333335,
          -0.23076923076923084,
          -0.1282051282051282,
          -0.02564102564102555,
          0.07692307692307665,
          0.1794871794871793,
          0.28205128205128194,
          0.3846153846153846,
          0.4871794871794872,
          0.5897435897435894,
          0.6923076923076921,
          0.7948717948717947,
          0.8974358974358974,
          1
         ],
         "y": [
          -3,
          -2.8974358974358974,
          -2.7948717948717947,
          -2.6923076923076925,
          -2.58974358974359,
          -2.4871794871794872,
          -2.3846153846153846,
          -2.282051282051282,
          -2.1794871794871797,
          -2.076923076923077,
          -1.9743589743589745,
          -1.8717948717948718,
          -1.7692307692307692,
          -1.6666666666666667,
          -1.564102564102564,
          -1.4615384615384617,
          -1.358974358974359,
          -1.2564102564102564,
          -1.153846153846154,
          -1.0512820512820513,
          -0.9487179487179489,
          -0.8461538461538463,
          -0.7435897435897436,
          -0.641025641025641,
          -0.5384615384615383,
          -0.4358974358974361,
          -0.3333333333333335,
          -0.23076923076923084,
          -0.1282051282051282,
          -0.02564102564102555,
          0.07692307692307665,
          0.1794871794871793,
          0.28205128205128194,
          0.3846153846153846,
          0.4871794871794872,
          0.5897435897435894,
          0.6923076923076921,
          0.7948717948717947,
          0.8974358974358974,
          1
         ],
         "z": [
          [
           4.431051254272461,
           4.337319850921631,
           4.243678092956543,
           4.1396050453186035,
           4.061902046203613,
           3.9889791011810303,
           3.9067435264587402,
           3.783161163330078,
           3.655559778213501,
           3.6316187381744385,
           3.5418384075164795,
           3.451028823852539,
           3.293888568878174,
           3.2290189266204834,
           3.2326107025146484,
           3.325985908508301,
           3.4751951694488525,
           3.5502941608428955,
           3.680609703063965,
           3.984482526779175,
           4.644641876220703,
           4.613702297210693,
           4.3223443031311035,
           4.116835117340088,
           3.9110500812530518,
           3.8281280994415283,
           3.9264116287231445,
           3.6250081062316895,
           3.3658535480499268,
           3.3249101638793945,
           3.4897289276123047,
           3.3587446212768555,
           3.7048451900482178,
           3.6725058555603027,
           3.855745792388916,
           4.534694194793701,
           5.017693996429443,
           5.439114570617676,
           5.948723793029785,
           6.533545017242432
          ],
          [
           4.432718753814697,
           4.334682941436768,
           4.237756729125977,
           4.143671035766602,
           4.044953346252441,
           3.9657108783721924,
           3.899038314819336,
           3.816804885864258,
           3.7000844478607178,
           3.5794124603271484,
           3.549185276031494,
           3.456418752670288,
           3.33385968208313,
           3.1984808444976807,
           3.1680994033813477,
           3.2233290672302246,
           3.39613938331604,
           3.528852701187134,
           3.611440420150757,
           3.8249850273132324,
           4.43533182144165,
           4.610872745513916,
           4.438559532165527,
           3.982297658920288,
           3.770462989807129,
           4.1313066482543945,
           3.8705079555511475,
           3.7146646976470947,
           3.3201305866241455,
           3.4715020656585693,
           3.434741258621216,
           3.326979637145996,
           3.66741943359375,
           3.54679536819458,
           3.833855628967285,
           4.491288661956787,
           4.906015396118164,
           5.324680328369141,
           5.810455322265625,
           6.405761241912842
          ],
          [
           4.427587985992432,
           4.331945896148682,
           4.23509407043457,
           4.143760681152344,
           4.047351360321045,
           3.9504430294036865,
           3.8669145107269287,
           3.813115119934082,
           3.732985258102417,
           3.618833065032959,
           3.5128538608551025,
           3.467557191848755,
           3.3743815422058105,
           3.214022636413574,
           3.1288256645202637,
           3.1327974796295166,
           3.260446548461914,
           3.469935655593872,
           3.576204776763916,
           3.6984806060791016,
           4.128274917602539,
           4.5900959968566895,
           4.481962203979492,
           4.040033340454102,
           3.9084901809692383,
           4.231822490692139,
           3.8967394828796387,
           3.733414649963379,
           3.442807674407959,
           3.3246185779571533,
           3.359450578689575,
           3.2734761238098145,
           3.6675267219543457,
           3.4522640705108643,
           3.819964647293091,
           4.415503025054932,
           4.798933506011963,
           5.2219953536987305,
           5.6903462409973145,
           6.293857574462891
          ],
          [
           4.397879600524902,
           4.315761566162109,
           4.227616786956787,
           4.132836818695068,
           4.044487953186035,
           3.9572908878326416,
           3.864617109298706,
           3.7798521518707275,
           3.72723126411438,
           3.660710334777832,
           3.5495800971984863,
           3.452754259109497,
           3.3914101123809814,
           3.267726421356201,
           3.1381654739379883,
           3.0658702850341797,
           3.14418363571167,
           3.315190553665161,
           3.5540356636047363,
           3.66239857673645,
           3.9193906784057617,
           4.549080848693848,
           4.580922603607178,
           3.920914649963379,
           3.9485421180725098,
           4.042929649353027,
           3.8697750568389893,
           3.7934467792510986,
           3.5967113971710205,
           3.2986819744110107,
           3.295663595199585,
           3.2196178436279297,
           3.626837968826294,
           3.427320718765259,
           3.8636975288391113,
           4.272164344787598,
           4.717118740081787,
           5.14838171005249,
           5.592106819152832,
           6.187649726867676
          ],
          [
           4.364900588989258,
           4.286654949188232,
           4.2014970779418945,
           4.117069721221924,
           4.029202938079834,
           3.943042755126953,
           3.8724007606506348,
           3.780412435531616,
           3.701162338256836,
           3.6499953269958496,
           3.587090253829956,
           3.489264488220215,
           3.406332015991211,
           3.332423686981201,
           3.1817245483398438,
           3.087864875793457,
           3.074728012084961,
           3.184380054473877,
           3.4289283752441406,
           3.579713821411133,
           3.758718490600586,
           4.2423248291015625,
           4.555032253265381,
           4.142017364501953,
           3.8390915393829346,
           3.923619270324707,
           4.136401176452637,
           4.028873920440674,
           3.6009371280670166,
           3.2038075923919678,
           3.2164626121520996,
           3.196714401245117,
           3.474656343460083,
           3.352389097213745,
           3.819161891937256,
           4.185976982116699,
           4.651595592498779,
           5.039315223693848,
           5.505156517028809,
           6.095714569091797
          ],
          [
           4.3408403396606445,
           4.251873016357422,
           4.170762062072754,
           4.088726997375488,
           4.000720500946045,
           3.929452896118164,
           3.8506383895874023,
           3.7848920822143555,
           3.6953234672546387,
           3.616830348968506,
           3.574725866317749,
           3.5178587436676025,
           3.4334123134613037,
           3.3781399726867676,
           3.2632346153259277,
           3.135141372680664,
           3.0627894401550293,
           3.085960626602173,
           3.2405123710632324,
           3.520421028137207,
           3.6334452629089355,
           3.9204211235046387,
           4.5383524894714355,
           4.4423370361328125,
           3.7383055686950684,
           3.8885161876678467,
           4.261913776397705,
           3.8552157878875732,
           3.8853306770324707,
           3.160609006881714,
           3.140369176864624,
           3.2619988918304443,
           3.463620662689209,
           3.4446959495544434,
           3.7518014907836914,
           4.126499176025391,
           4.552099227905273,
           4.925266742706299,
           5.411297798156738,
           6.002216815948486
          ],
          [
           4.3225507736206055,
           4.224410057067871,
           4.138580799102783,
           4.055501937866211,
           3.9805052280426025,
           3.8974268436431885,
           3.8279645442962646,
           3.7591536045074463,
           3.694758892059326,
           3.6163439750671387,
           3.5499069690704346,
           3.527430295944214,
           3.4596190452575684,
           3.384267568588257,
           3.3251490592956543,
           3.2038140296936035,
           3.0888500213623047,
           3.0721614360809326,
           3.113403081893921,
           3.323554277420044,
           3.5324413776397705,
           3.682164192199707,
           4.267777442932129,
           4.4544548988342285,
           4.095368385314941,
           3.8648734092712402,
           3.8620846271514893,
           3.575303077697754,
           3.6832239627838135,
           3.157348394393921,
           3.0272066593170166,
           3.2771363258361816,
           3.3955178260803223,
           3.377281665802002,
           3.7044119834899902,
           4.065886974334717,
           4.43472146987915,
           4.836025238037109,
           5.322593688964844,
           5.901231288909912
          ],
          [
           4.327520370483398,
           4.216687202453613,
           4.113948822021484,
           4.023720741271973,
           3.946343421936035,
           3.872607707977295,
           3.79838490486145,
           3.7238378524780273,
           3.6646857261657715,
           3.6011552810668945,
           3.5465879440307617,
           3.513584852218628,
           3.49005126953125,
           3.4224934577941895,
           3.3487343788146973,
           3.256613254547119,
           3.1547739505767822,
           3.0639185905456543,
           3.065298080444336,
           3.135920524597168,
           3.420741319656372,
           3.542327880859375,
           3.7703466415405273,
           4.391760349273682,
           4.209347248077393,
           3.8941667079925537,
           3.6741926670074463,
           3.6295359134674072,
           3.6149582862854004,
           3.300624370574951,
           2.980806350708008,
           3.279351234436035,
           3.364436626434326,
           3.351060152053833,
           3.655914306640625,
           3.987948417663574,
           4.324393272399902,
           4.699026584625244,
           5.25180196762085,
           5.773597717285156
          ],
          [
           4.332002639770508,
           4.222460746765137,
           4.117725849151611,
           4.013172626495361,
           3.9196817874908447,
           3.8402621746063232,
           3.7666358947753906,
           3.6991450786590576,
           3.627755641937256,
           3.5722575187683105,
           3.509140729904175,
           3.4998538494110107,
           3.4913837909698486,
           3.4668736457824707,
           3.3959951400756836,
           3.296997547149658,
           3.2082133293151855,
           3.111931562423706,
           3.057997703552246,
           3.065917491912842,
           3.2107276916503906,
           3.398432731628418,
           3.544116258621216,
           4.191587448120117,
           4.264633655548096,
           4.069326400756836,
           3.5452206134796143,
           3.757051944732666,
           3.620190143585205,
           3.266535997390747,
           2.946727991104126,
           3.279493808746338,
           3.34346866607666,
           3.3490495681762695,
           3.585630178451538,
           3.872131824493408,
           4.248048305511475,
           4.643952369689941,
           5.130275726318359,
           5.651780128479004
          ],
          [
           4.339474201202393,
           4.2288360595703125,
           4.120049476623535,
           4.017265319824219,
           3.9141924381256104,
           3.823345899581909,
           3.738987684249878,
           3.659937620162964,
           3.5996367931365967,
           3.534759759902954,
           3.485980272293091,
           3.4412105083465576,
           3.458514928817749,
           3.4699058532714844,
           3.436697483062744,
           3.3595709800720215,
           3.2420551776885986,
           3.144987106323242,
           3.072655439376831,
           3.05717134475708,
           3.0977067947387695,
           3.307692527770996,
           3.4815659523010254,
           3.6900696754455566,
           4.220221042633057,
           4.129144668579102,
           3.6838386058807373,
           3.5676772594451904,
           3.679028034210205,
           3.32043194770813,
           2.9225151538848877,
           3.2558865547180176,
           3.2422118186950684,
           3.292469024658203,
           3.5469462871551514,
           3.7255425453186035,
           4.160542964935303,
           4.604368686676025,
           5.029792308807373,
           5.51870059967041
          ],
          [
           4.3594536781311035,
           4.237383842468262,
           4.125331401824951,
           4.018737316131592,
           3.91728138923645,
           3.8203256130218506,
           3.728929042816162,
           3.6409566402435303,
           3.5601603984832764,
           3.5027225017547607,
           3.4423811435699463,
           3.400726079940796,
           3.386911153793335,
           3.4105284214019775,
           3.418682336807251,
           3.3911468982696533,
           3.315507173538208,
           3.1773362159729004,
           3.0805609226226807,
           3.044874668121338,
           3.0652451515197754,
           3.1326425075531006,
           3.3910276889801025,
           3.4818854331970215,
           4.017775535583496,
           4.088194847106934,
           3.8331615924835205,
           3.5036568641662598,
           3.630635976791382,
           3.546924114227295,
           2.8789024353027344,
           3.0593149662017822,
           3.221309185028076,
           3.254082679748535,
           3.562631845474243,
           3.6998097896575928,
           4.149109840393066,
           4.487556457519531,
           4.890603065490723,
           5.367499351501465
          ],
          [
           4.372585296630859,
           4.2551798820495605,
           4.136678695678711,
           4.021279335021973,
           3.9117472171783447,
           3.8128960132598877,
           3.7194602489471436,
           3.6298110485076904,
           3.549959421157837,
           3.4744229316711426,
           3.4098916053771973,
           3.3544862270355225,
           3.3317759037017822,
           3.326557159423828,
           3.3433070182800293,
           3.342047929763794,
           3.3407483100891113,
           3.2650551795959473,
           3.117696762084961,
           3.024351119995117,
           3.048128843307495,
           3.0767862796783447,
           3.244682788848877,
           3.53281569480896,
           3.673056125640869,
           4.008841037750244,
           3.8670456409454346,
           3.6394124031066895,
           3.583251476287842,
           3.7076196670532227,
           2.8906514644622803,
           3.01916766166687,
           3.165231466293335,
           3.2314577102661133,
           3.4356231689453125,
           3.6083567142486572,
           4.046884059906006,
           4.429368495941162,
           4.797479152679443,
           5.259838581085205
          ],
          [
           4.369341850280762,
           4.252048015594482,
           4.135164260864258,
           4.02168607711792,
           3.910583734512329,
           3.806091785430908,
           3.7067198753356934,
           3.6116926670074463,
           3.524977922439575,
           3.455078125,
           3.3905577659606934,
           3.3234660625457764,
           3.271062135696411,
           3.2581591606140137,
           3.2467334270477295,
           3.2476601600646973,
           3.2578585147857666,
           3.27746319770813,
           3.2073404788970947,
           3.0569539070129395,
           2.9914908409118652,
           3.087266206741333,
           3.130521774291992,
           3.4082369804382324,
           3.6150481700897217,
           3.996906042098999,
           3.991445302963257,
           3.743305206298828,
           3.636289358139038,
           3.6337218284606934,
           2.956418037414551,
           2.998220443725586,
           3.206529140472412,
           3.20483660697937,
           3.310187339782715,
           3.579291820526123,
           3.9315648078918457,
           4.347485542297363,
           4.7062296867370605,
           5.161884307861328
          ],
          [
           4.3621721267700195,
           4.244769096374512,
           4.130350112915039,
           4.017339706420898,
           3.905592203140259,
           3.800919771194458,
           3.700623035430908,
           3.605487585067749,
           3.5137012004852295,
           3.4306704998016357,
           3.3616766929626465,
           3.3001725673675537,
           3.236222505569458,
           3.198805809020996,
           3.175807237625122,
           3.1579713821411133,
           3.133711814880371,
           3.1705403327941895,
           3.2008135318756104,
           3.135411500930786,
           3.020289421081543,
           3.016918420791626,
           3.1915831565856934,
           3.292888641357422,
           3.623004674911499,
           3.8352067470550537,
           4.287214756011963,
           3.943573474884033,
           3.7393691539764404,
           3.7013821601867676,
           3.1942379474639893,
           2.940889596939087,
           3.085350513458252,
           3.1080410480499268,
           3.281965494155884,
           3.5590579509735107,
           3.867283344268799,
           4.248919486999512,
           4.622984886169434,
           5.079157829284668
          ],
          [
           4.356851577758789,
           4.240825176239014,
           4.127161979675293,
           4.016319274902344,
           3.9081544876098633,
           3.8023431301116943,
           3.700901985168457,
           3.603299617767334,
           3.5116140842437744,
           3.426941156387329,
           3.3462188243865967,
           3.277486562728882,
           3.212592124938965,
           3.151613473892212,
           3.1155948638916016,
           3.0928854942321777,
           3.063169240951538,
           3.0534496307373047,
           3.0752716064453125,
           3.112028121948242,
           3.0783238410949707,
           3.0111637115478516,
           3.179351329803467,
           3.329200506210327,
           3.5928571224212646,
           3.8543150424957275,
           4.246491432189941,
           3.9488487243652344,
           3.6457087993621826,
           3.6312663555145264,
           3.4407007694244385,
           2.9135046005249023,
           3.270930528640747,
           3.097660541534424,
           3.2684617042541504,
           3.5196545124053955,
           3.8341686725616455,
           4.179016590118408,
           4.564704418182373,
           4.9658026695251465
          ],
          [
           4.356194496154785,
           4.242586135864258,
           4.128825664520264,
           4.017699718475342,
           3.9117677211761475,
           3.8076303005218506,
           3.7085959911346436,
           3.6137444972991943,
           3.525177001953125,
           3.4408998489379883,
           3.354370594024658,
           3.2748160362243652,
           3.2080881595611572,
           3.1484129428863525,
           3.0918984413146973,
           3.04817533493042,
           3.0054385662078857,
           2.9759843349456787,
           2.973257303237915,
           3.0101566314697266,
           3.0542988777160645,
           3.0435335636138916,
           3.136568307876587,
           3.4610676765441895,
           3.592179775238037,
           3.960415840148926,
           4.121048450469971,
           3.964087724685669,
           3.8651816844940186,
           3.637442111968994,
           3.316348075866699,
           2.9096100330352783,
           3.22363018989563,
           3.0323333740234375,
           3.240924596786499,
           3.484480142593384,
           3.794337749481201,
           4.088954448699951,
           4.4936203956604,
           4.893503665924072
          ],
          [
           4.356217861175537,
           4.2493767738342285,
           4.142022132873535,
           4.032561302185059,
           3.9249937534332275,
           3.821389675140381,
           3.71941876411438,
           3.62388014793396,
           3.5367085933685303,
           3.4543404579162598,
           3.370347261428833,
           3.2870142459869385,
           3.206303358078003,
           3.141680955886841,
           3.0840182304382324,
           3.0308122634887695,
           2.9719886779785156,
           2.913569450378418,
           2.8867619037628174,
           2.8979859352111816,
           2.9405713081359863,
           2.991870880126953,
           3.0730278491973877,
           3.3819377422332764,
           3.716813564300537,
           3.9196317195892334,
           4.3431243896484375,
           4.196864604949951,
           3.850548505783081,
           3.5333149433135986,
           3.280379295349121,
           2.8976924419403076,
           3.0155231952667236,
           3.000709056854248,
           3.2121481895446777,
           3.4555468559265137,
           3.7458391189575195,
           4.057746410369873,
           4.4434638023376465,
           4.883436679840088
          ],
          [
           4.352565288543701,
           4.24993371963501,
           4.14869499206543,
           4.046354293823242,
           3.9439406394958496,
           3.840049982070923,
           3.7388417720794678,
           3.6401190757751465,
           3.545198917388916,
           3.457491397857666,
           3.374863624572754,
           3.2936625480651855,
           3.216301918029785,
           3.143070697784424,
           3.07664155960083,
           3.0118460655212402,
           2.9587388038635254,
           2.8971927165985107,
           2.834817409515381,
           2.8305647373199463,
           2.8575491905212402,
           2.916334867477417,
           2.985656499862671,
           3.1833276748657227,
           3.719749689102173,
           4.017468452453613,
           4.371138572692871,
           4.1443376541137695,
           3.9654061794281006,
           3.5634355545043945,
           3.2070791721343994,
           2.886793851852417,
           2.9760382175445557,
           3.0843374729156494,
           3.186317205429077,
           3.41872501373291,
           3.7039079666137695,
           4.021618366241455,
           4.345129489898682,
           4.796050548553467
          ],
          [
           4.349514007568359,
           4.248272895812988,
           4.149322509765625,
           4.053627014160156,
           3.958134174346924,
           3.8610215187072754,
           3.7625668048858643,
           3.666045665740967,
           3.5704848766326904,
           3.474393129348755,
           3.381023645401001,
           3.2952451705932617,
           3.2210445404052734,
           3.154978036880493,
           3.0868537425994873,
           3.0191807746887207,
           2.950941801071167,
           2.885082483291626,
           2.8370180130004883,
           2.8230485916137695,
           2.840254306793213,
           2.8940982818603516,
           2.9388976097106934,
           3.021482467651367,
           3.4370384216308594,
           4.025123119354248,
           4.392007350921631,
           4.222122669219971,
           3.9364726543426514,
           3.6418662071228027,
           3.5438499450683594,
           3.104156255722046,
           2.9448583126068115,
           3.1451423168182373,
           3.14387845993042,
           3.380727529525757,
           3.6613540649414062,
           3.9717068672180176,
           4.250495433807373,
           4.744771480560303
          ],
          [
           4.347509384155273,
           4.247612476348877,
           4.151867866516113,
           4.057400226593018,
           3.9647104740142822,
           3.873396396636963,
           3.782168388366699,
           3.690901279449463,
           3.598053216934204,
           3.5038135051727295,
           3.407884359359741,
           3.310917854309082,
           3.226109504699707,
           3.1531715393066406,
           3.0898005962371826,
           3.024251937866211,
           2.954900026321411,
           2.8908841609954834,
           2.8411176204681396,
           2.82907772064209,
           2.853379726409912,
           2.8782055377960205,
           2.8878326416015625,
           2.932600498199463,
           3.1394948959350586,
           3.662243604660034,
           4.142754077911377,
           4.374934196472168,
           3.978177785873413,
           3.791033983230591,
           3.5086286067962646,
           3.0221855640411377,
           2.9097533226013184,
           3.0478322505950928,
           3.1375834941864014,
           3.3549516201019287,
           3.6206116676330566,
           3.910168409347534,
           4.194070816040039,
           4.590586185455322
          ],
          [
           4.344905853271484,
           4.248094081878662,
           4.1542649269104,
           4.063416004180908,
           3.9741570949554443,
           3.8838295936584473,
           3.7944769859313965,
           3.7067630290985107,
           3.618831157684326,
           3.528919219970703,
           3.434842348098755,
           3.3387298583984375,
           3.250955820083618,
           3.1700010299682617,
           3.093318462371826,
           3.022709369659424,
           2.953098773956299,
           2.8828179836273193,
           2.830976963043213,
           2.811854839324951,
           2.813779354095459,
           2.8207764625549316,
           2.843446969985962,
           2.844486713409424,
           2.9547457695007324,
           3.3276314735412598,
           4.023270606994629,
           4.485361576080322,
           4.051205635070801,
           3.96988582611084,
           3.5618741512298584,
           2.874807357788086,
           2.942389488220215,
           2.9483752250671387,
           3.129847764968872,
           3.3529868125915527,
           3.5615627765655518,
           3.8441216945648193,
           4.147744655609131,
           4.517741680145264
          ],
          [
           4.343641757965088,
           4.24864387512207,
           4.157578468322754,
           4.069681644439697,
           3.9832327365875244,
           3.896132469177246,
           3.80786395072937,
           3.720386505126953,
           3.6322007179260254,
           3.5435731410980225,
           3.451688528060913,
           3.363288402557373,
           3.2757420539855957,
           3.188746452331543,
           3.1010513305664062,
           3.015575408935547,
           2.937091827392578,
           2.866093873977661,
           2.802241802215576,
           2.774087429046631,
           2.7517502307891846,
           2.7325632572174072,
           2.7349843978881836,
           2.7530009746551514,
           2.7924418449401855,
           3.007406711578369,
           3.6413042545318604,
           4.6584978103637695,
           4.337945938110352,
           4.059247970581055,
           3.550435781478882,
           3.0606861114501953,
           2.9771728515625,
           2.9679479598999023,
           3.0914320945739746,
           3.327023506164551,
           3.5020341873168945,
           3.765718936920166,
           4.125654697418213,
           4.45965576171875
          ],
          [
           4.343704700469971,
           4.2496657371521,
           4.1591057777404785,
           4.072635173797607,
           3.9880893230438232,
           3.9034628868103027,
           3.817350387573242,
           3.730538845062256,
           3.643340826034546,
           3.553840398788452,
           3.4632163047790527,
           3.3749425411224365,
           3.287933588027954,
           3.20218563079834,
           3.1100568771362305,
           3.0148253440856934,
           2.92521595954895,
           2.84472393989563,
           2.782320022583008,
           2.734679937362671,
           2.6917784214019775,
           2.654247522354126,
           2.6358187198638916,
           2.6188478469848633,
           2.612675428390503,
           2.723947525024414,
           3.137117624282837,
           4.0475382804870605,
           4.535041332244873,
           4.5999650955200195,
           3.6294426918029785,
           3.228339433670044,
           2.916443109512329,
           2.9181153774261475,
           3.137530565261841,
           3.285454273223877,
           3.4919469356536865,
           3.7377867698669434,
           4.055462837219238,
           4.408562183380127
          ],
          [
           4.345009803771973,
           4.250918865203857,
           4.161181926727295,
           4.075841903686523,
           3.9912426471710205,
           3.907252788543701,
           3.822863817214966,
           3.737185001373291,
           3.650251865386963,
           3.5642993450164795,
           3.4756741523742676,
           3.385557174682617,
           3.2970798015594482,
           3.207113265991211,
           3.1127359867095947,
           3.0136725902557373,
           2.9153800010681152,
           2.829385995864868,
           2.761716842651367,
           2.703279495239258,
           2.6442508697509766,
           2.584030866622925,
           2.5272557735443115,
           2.4543681144714355,
           2.3832287788391113,
           2.395984411239624,
           2.589881658554077,
           3.274334669113159,
           4.307620048522949,
           4.852316379547119,
           3.7071549892425537,
           3.2665152549743652,
           2.859889268875122,
           2.890641927719116,
           3.120703935623169,
           3.285430669784546,
           3.4728188514709473,
           3.713454008102417,
           4.0146098136901855,
           4.376031875610352
          ],
          [
           4.345048904418945,
           4.252126693725586,
           4.162550926208496,
           4.07661247253418,
           3.9928698539733887,
           3.9095261096954346,
           3.826659917831421,
           3.7429678440093994,
           3.6576719284057617,
           3.5723671913146973,
           3.482586622238159,
           3.3897080421447754,
           3.2976932525634766,
           3.2047247886657715,
           3.1061036586761475,
           3.005160093307495,
           2.9060168266296387,
           2.816498041152954,
           2.7403039932250977,
           2.674751043319702,
           2.595160722732544,
           2.51389741897583,
           2.403285264968872,
           2.259665012359619,
           2.1151654720306396,
           2.001483201980591,
           1.978256106376648,
           2.316408634185791,
           3.4620583057403564,
           4.837095737457275,
           4.0976715087890625,
           3.269094705581665,
           2.885887861251831,
           2.8991403579711914,
           3.0588796138763428,
           3.335690975189209,
           3.443249225616455,
           3.6627516746520996,
           3.9701571464538574,
           4.320547580718994
          ],
          [
           4.3418755531311035,
           4.249741554260254,
           4.162047863006592,
           4.077390670776367,
           3.994117021560669,
           3.9121274948120117,
           3.8297979831695557,
           3.746105432510376,
           3.660679578781128,
           3.573138952255249,
           3.482379674911499,
           3.3905954360961914,
           3.2978405952453613,
           3.2033421993255615,
           3.102051258087158,
           2.998790740966797,
           2.8977129459381104,
           2.804227590560913,
           2.7147324085235596,
           2.636272430419922,
           2.540543794631958,
           2.4205634593963623,
           2.264676809310913,
           2.069162368774414,
           1.8531895875930786,
           1.6381840705871582,
           1.477663278579712,
           1.4667859077453613,
           1.8730981349945068,
           4.0587310791015625,
           4.313251972198486,
           3.5260515213012695,
           2.883892297744751,
           2.917640447616577,
           2.997527837753296,
           3.2858357429504395,
           3.4631881713867188,
           3.637962818145752,
           3.875880718231201,
           4.227711200714111
          ],
          [
           4.337306976318359,
           4.2459516525268555,
           4.15773344039917,
           4.072399616241455,
           3.9901986122131348,
           3.9084219932556152,
           3.8256149291992188,
           3.7410502433776855,
           3.6553657054901123,
           3.567803144454956,
           3.4788265228271484,
           3.387399196624756,
           3.2936336994171143,
           3.197089195251465,
           3.0945992469787598,
           2.987593650817871,
           2.8838589191436768,
           2.7794268131256104,
           2.6828126907348633,
           2.5852012634277344,
           2.465059518814087,
           2.3097150325775146,
           2.1111748218536377,
           1.8756306171417236,
           1.6149877309799194,
           1.3594673871994019,
           1.1411181688308716,
           1.0022144317626953,
           0.9865760803222656,
           2.17811918258667,
           4.040993690490723,
           3.758514404296875,
           2.9679131507873535,
           2.931058406829834,
           3.1246302127838135,
           3.3652195930480957,
           3.393598794937134,
           3.652618408203125,
           3.846449613571167,
           4.182633399963379
          ],
          [
           4.329181671142578,
           4.236780166625977,
           4.148428916931152,
           4.0624775886535645,
           3.9782767295837402,
           3.8960134983062744,
           3.8126535415649414,
           3.7283616065979004,
           3.643167734146118,
           3.5573549270629883,
           3.4692037105560303,
           3.3792784214019775,
           3.284907579421997,
           3.186302661895752,
           3.084017276763916,
           2.974975109100342,
           2.864833354949951,
           2.7552220821380615,
           2.6446151733398438,
           2.524120807647705,
           2.3779988288879395,
           2.1887917518615723,
           1.9638057947158813,
           1.7020381689071655,
           1.42742121219635,
           1.1746364831924438,
           0.9546052813529968,
           0.7940451502799988,
           0.6876294612884521,
           0.8715380430221558,
           3.88136625289917,
           3.898306369781494,
           3.1374430656433105,
           2.900963068008423,
           3.088407278060913,
           3.2264175415039062,
           3.321657419204712,
           3.5862953662872314,
           3.835670232772827,
           4.167440414428711
          ],
          [
           4.320213317871094,
           4.227640628814697,
           4.137582302093506,
           4.050267696380615,
           3.964704751968384,
           3.879437208175659,
           3.795799970626831,
           3.7121965885162354,
           3.626314163208008,
           3.538519859313965,
           3.4508121013641357,
           3.362800359725952,
           3.2703747749328613,
           3.1712517738342285,
           3.068544626235962,
           2.9586899280548096,
           2.846339464187622,
           2.729856014251709,
           2.6002612113952637,
           2.456287384033203,
           2.2881836891174316,
           2.076080560684204,
           1.8290045261383057,
           1.556874394416809,
           1.2898879051208496,
           1.062354564666748,
           0.861651599407196,
           0.7130420804023743,
           0.5987160801887512,
           0.6143680810928345,
           3.050846815109253,
           3.9038963317871094,
           3.2229199409484863,
           2.8809659481048584,
           3.070176362991333,
           3.1441609859466553,
           3.3907015323638916,
           3.5581700801849365,
           3.7798140048980713,
           4.131793022155762
          ],
          [
           4.310061454772949,
           4.216487884521484,
           4.125147342681885,
           4.035928249359131,
           3.949065685272217,
           3.8631832599639893,
           3.77803635597229,
           3.69329833984375,
           3.6068453788757324,
           3.5198161602020264,
           3.432310104370117,
           3.344897508621216,
           3.2529492378234863,
           3.1549553871154785,
           3.0497140884399414,
           2.9388439655303955,
           2.8250296115875244,
           2.699937105178833,
           2.5561070442199707,
           2.393869161605835,
           2.2063539028167725,
           1.9764721393585205,
           1.717919111251831,
           1.4482223987579346,
           1.199459433555603,
           0.9955164790153503,
           0.8171038627624512,
           0.6816744804382324,
           0.5816423892974854,
           0.575017511844635,
           2.025712251663208,
           4.224165439605713,
           3.3612430095672607,
           2.8842344284057617,
           3.0644948482513428,
           3.1587841510772705,
           3.415675640106201,
           3.5604820251464844,
           3.763664484024048,
           4.121527194976807
          ],
          [
           4.297008514404297,
           4.203314781188965,
           4.111290454864502,
           4.020369529724121,
           3.932046890258789,
           3.8450422286987305,
           3.7587063312530518,
           3.672349691390991,
           3.586465358734131,
           3.499647617340088,
           3.412587881088257,
           3.324101209640503,
           3.2308995723724365,
           3.131096363067627,
           3.023979663848877,
           2.915658712387085,
           2.7993998527526855,
           2.664473295211792,
           2.509387493133545,
           2.3347206115722656,
           2.1329591274261475,
           1.8961784839630127,
           1.6344733238220215,
           1.3743655681610107,
           1.143099069595337,
           0.9561675190925598,
           0.7947413325309753,
           0.6753302216529846,
           0.5952876806259155,
           0.60419100522995,
           1.5140137672424316,
           4.421135902404785,
           3.713870048522949,
           2.870537519454956,
           3.044534921646118,
           3.1827049255371094,
           3.299237012863159,
           3.602423667907715,
           3.7172045707702637,
           3.9852681159973145
          ],
          [
           4.285953998565674,
           4.190467357635498,
           4.096443176269531,
           4.0043134689331055,
           3.9136481285095215,
           3.8247501850128174,
           3.737543821334839,
           3.6512391567230225,
           3.565216541290283,
           3.4784159660339355,
           3.390223741531372,
           3.299398422241211,
           3.2036755084991455,
           3.105050802230835,
           3.000589609146118,
           2.8917133808135986,
           2.7682511806488037,
           2.624514579772949,
           2.462161064147949,
           2.2798912525177,
           2.0693328380584717,
           1.8277819156646729,
           1.5694379806518555,
           1.3229129314422607,
           1.1105725765228271,
           0.9358800053596497,
           0.7871708869934082,
           0.6832430958747864,
           0.6253135800361633,
           0.6622143983840942,
           1.4204961061477661,
           4.5207953453063965,
           3.664015293121338,
           2.881629467010498,
           3.0150442123413086,
           3.1928906440734863,
           3.2878119945526123,
           3.5678069591522217,
           3.81355357170105,
           3.956390857696533
          ],
          [
           4.276021480560303,
           4.177986145019531,
           4.082435131072998,
           3.9883997440338135,
           3.895185947418213,
           3.8045406341552734,
           3.7168667316436768,
           3.630422830581665,
           3.54380464553833,
           3.4561145305633545,
           3.3651204109191895,
           3.27176833152771,
           3.1764628887176514,
           3.0795235633850098,
           2.9759738445281982,
           2.8630056381225586,
           2.7331886291503906,
           2.585641622543335,
           2.4180705547332764,
           2.228344202041626,
           2.0127902030944824,
           1.7718253135681152,
           1.521552324295044,
           1.2912352085113525,
           1.095383882522583,
           0.9292822480201721,
           0.792848527431488,
           0.700347363948822,
           0.6627863049507141,
           0.7310981750488281,
           1.5211176872253418,
           4.404796600341797,
           3.5826892852783203,
           2.815582513809204,
           3.0004067420959473,
           3.160677671432495,
           3.3646061420440674,
           3.476199150085449,
           3.8316707611083984,
           3.924163341522217
          ],
          [
           4.2659831047058105,
           4.1660308837890625,
           4.068515300750732,
           3.972093105316162,
           3.8778045177459717,
           3.7861721515655518,
           3.696324586868286,
           3.607760429382324,
           3.5192368030548096,
           3.4306952953338623,
           3.341106414794922,
           3.250922679901123,
           3.157288074493408,
           3.059560775756836,
           2.9532976150512695,
           2.8348796367645264,
           2.699982166290283,
           2.548299551010132,
           2.3751604557037354,
           2.179227352142334,
           1.9631929397583008,
           1.7259044647216797,
           1.4893888235092163,
           1.2757683992385864,
           1.0934314727783203,
           0.9354365468025208,
           0.8074057698249817,
           0.725000262260437,
           0.7048256397247314,
           0.801352858543396,
           1.6400530338287354,
           4.260462760925293,
           3.801396131515503,
           3.079345226287842,
           2.9793148040771484,
           3.217212438583374,
           3.346734046936035,
           3.609443426132202,
           3.918215751647949,
           3.947291612625122
          ],
          [
           4.2559309005737305,
           4.153058052062988,
           4.053597450256348,
           3.9563190937042236,
           3.861546039581299,
           3.76802134513855,
           3.6762404441833496,
           3.5860157012939453,
           3.496964931488037,
           3.408362627029419,
           3.322942018508911,
           3.2340574264526367,
           3.141159772872925,
           3.040830612182617,
           2.9315643310546875,
           2.8088271617889404,
           2.6706228256225586,
           2.5131924152374268,
           2.3331735134124756,
           2.1357643604278564,
           1.9210796356201172,
           1.6920629739761353,
           1.4713683128356934,
           1.2742458581924438,
           1.1007980108261108,
           0.950013279914856,
           0.8308891654014587,
           0.7574923634529114,
           0.7512556910514832,
           0.875535786151886,
           1.7515501976013184,
           4.1848978996276855,
           3.6627438068389893,
           2.9847617149353027,
           2.956212282180786,
           3.1779985427856445,
           3.3612024784088135,
           3.59553599357605,
           3.8143630027770996,
           3.9498677253723145
          ],
          [
           4.246753215789795,
           4.1420183181762695,
           4.040580749511719,
           3.9418063163757324,
           3.8445539474487305,
           3.748725652694702,
           3.6548943519592285,
           3.5640835762023926,
           3.476238965988159,
           3.3914971351623535,
           3.306849479675293,
           3.2186882495880127,
           3.124552011489868,
           3.023043394088745,
           2.91115140914917,
           2.7856569290161133,
           2.6418769359588623,
           2.4788975715637207,
           2.29593563079834,
           2.0994577407836914,
           1.890150547027588,
           1.6728345155715942,
           1.4663232564926147,
           1.2814879417419434,
           1.1157243251800537,
           0.9731558561325073,
           0.8616177439689636,
           0.7967133522033691,
           0.8017198443412781,
           0.9603132009506226,
           1.8563613891601562,
           4.126188278198242,
           3.6682872772216797,
           3.158216953277588,
           2.9324350357055664,
           3.139526128768921,
           3.359363317489624,
           3.6519975662231445,
           3.8031585216522217,
           4.105340480804443
          ],
          [
           4.237648963928223,
           4.130326747894287,
           4.026049613952637,
           3.92423152923584,
           3.8249928951263428,
           3.7280309200286865,
           3.634150266647339,
           3.5444374084472656,
           3.4588568210601807,
           3.376098871231079,
           3.2920265197753906,
           3.2026681900024414,
           3.1083600521087646,
           3.0052618980407715,
           2.8903145790100098,
           2.760176181793213,
           2.6127145290374756,
           2.445405960083008,
           2.263719081878662,
           2.07088041305542,
           1.86858332157135,
           1.6644232273101807,
           1.4708428382873535,
           1.2961018085479736,
           1.1374956369400024,
           1.0035700798034668,
           0.9002205729484558,
           0.8431110382080078,
           0.8617027997970581,
           1.0620019435882568,
           1.9677647352218628,
           4.025175094604492,
           3.4812512397766113,
           3.16874361038208,
           2.913378953933716,
           3.0975773334503174,
           3.287234306335449,
           3.629948139190674,
           3.7559423446655273,
           4.03980827331543
          ],
          [
           4.225619316101074,
           4.116432189941406,
           4.009909629821777,
           3.9060561656951904,
           3.805448055267334,
           3.7086846828460693,
           3.6169309616088867,
           3.5295817852020264,
           3.4459028244018555,
           3.362804412841797,
           3.277456760406494,
           3.1885900497436523,
           3.0926196575164795,
           2.987053155899048,
           2.867947578430176,
           2.7331700325012207,
           2.583040714263916,
           2.4153387546539307,
           2.23669171333313,
           2.04937744140625,
           1.8571970462799072,
           1.6640828847885132,
           1.4838664531707764,
           1.3173860311508179,
           1.1663626432418823,
           1.0410809516906738,
           0.9452224969863892,
           0.8971843123435974,
           0.9323106408119202,
           1.176721215248108,
           2.09104061126709,
           3.8624155521392822,
           3.419271230697632,
           3.2127044200897217,
           2.938593864440918,
           3.0437002182006836,
           3.2404673099517822,
           3.5194835662841797,
           3.7491261959075928,
           4.009083271026611
          ],
          [
           4.213161945343018,
           4.102283954620361,
           3.994375228881836,
           3.889963388442993,
           3.7899203300476074,
           3.6946349143981934,
           3.6043126583099365,
           3.517651081085205,
           3.4340593814849854,
           3.3504676818847656,
           3.264979362487793,
           3.1743545532226562,
           3.0759642124176025,
           2.9674458503723145,
           2.8448498249053955,
           2.7077996730804443,
           2.5550785064697266,
           2.389436960220337,
           2.2156150341033936,
           2.0367205142974854,
           1.8531593084335327,
           1.6719927787780762,
           1.5021653175354004,
           1.3438509702682495,
           1.2014726400375366,
           1.0834462642669678,
           0.9956972002983093,
           0.9577407240867615,
           1.01413893699646,
           1.303626537322998,
           2.2026801109313965,
           3.73290753364563,
           3.410656690597534,
           3.0778088569641113,
           2.893584966659546,
           3.066664934158325,
           3.2790908813476562,
           3.446963310241699,
           3.8376505374908447,
           3.987241268157959
          ],
          [
           4.200873374938965,
           4.088737964630127,
           3.980532646179199,
           3.877326011657715,
           3.7778260707855225,
           3.6830689907073975,
           3.593480348587036,
           3.5078916549682617,
           3.4235763549804688,
           3.3393142223358154,
           3.2517433166503906,
           3.158454656600952,
           3.0588138103485107,
           2.9485692977905273,
           2.8238799571990967,
           2.6846024990081787,
           2.532141923904419,
           2.3695554733276367,
           2.2022814750671387,
           2.031069755554199,
           1.8566638231277466,
           1.6871395111083984,
           1.525715947151184,
           1.3764710426330566,
           1.242429494857788,
           1.1303699016571045,
           1.0514206886291504,
           1.0239734649658203,
           1.10355806350708,
           1.4340908527374268,
           2.3094241619110107,
           3.647455930709839,
           3.3549187183380127,
           3.081624984741211,
           2.9299933910369873,
           3.0562973022460938,
           3.1748197078704834,
           3.4816627502441406,
           3.648433208465576,
           3.9560232162475586
          ]
         ]
        },
        {
         "line": {
          "color": "red",
          "width": 5
         },
         "marker": {
          "color": "red",
          "size": 3
         },
         "mode": "markers+lines",
         "name": "Optimization Path",
         "type": "scatter3d",
         "x": [
          -2.9435923099517822,
          -2.816354274749756,
          -2.697927951812744,
          -2.6961069107055664,
          -2.5547001361846924,
          -2.4133481979370117,
          -2.2871482372283936,
          -2.162243127822876,
          -2.0435874462127686,
          -2.0423412322998047,
          -1.9044777154922485,
          -1.75849187374115,
          -1.6233683824539185,
          -1.5016204118728638,
          -1.3763536214828491,
          -1.3742177486419678,
          -1.2381623983383179,
          -1.1115374565124512,
          -0.9879730343818665,
          -0.855355441570282,
          -0.7390199899673462,
          -0.7373071908950806,
          -0.6151681542396545,
          -0.47994866967201233,
          -0.3381234407424927,
          -0.1901179999113083,
          -0.001452469965443015,
          0
         ],
         "y": [
          -0.8970102071762085,
          -0.8737413287162781,
          -0.863321840763092,
          -0.863565981388092,
          -0.8724969625473022,
          -0.8868792653083801,
          -0.8574747443199158,
          -0.8299862742424011,
          -0.8046125173568726,
          -0.8041818141937256,
          -0.8059737086296082,
          -0.8006493449211121,
          -0.7854821085929871,
          -0.7322179079055786,
          -0.6894086599349976,
          -0.688957691192627,
          -0.6750144362449646,
          -0.6405376195907593,
          -0.5828987956047058,
          -0.5277133584022522,
          -0.4565582871437073,
          -0.45553863048553467,
          -0.44445160031318665,
          -0.37322819232940674,
          -0.28048592805862427,
          -0.17341767251491547,
          -0.0007539074867963791,
          0
         ],
         "z": [
          4.291938979960051,
          4.17634010733223,
          4.073449380636333,
          4.071873844724934,
          3.9503129315747,
          3.827276328553186,
          3.7232417353125378,
          3.619055865282131,
          3.5178671100921406,
          3.5167937740999378,
          3.396023368212955,
          3.2721728844016376,
          3.1596143949075355,
          3.052338780811219,
          2.9352040752951325,
          2.9332947331798067,
          2.8224293819316912,
          2.7375089774034507,
          2.6390221237876363,
          2.5148806118965408,
          2.2861995395744965,
          2.282423114290843,
          2.0306018753679194,
          1.5776270417204252,
          1.0552913654634808,
          0.7034369874210332,
          0.7966676032739916,
          0.8097665756940841
         ]
        }
       ],
       "layout": {
        "height": 800,
        "scene": {
         "aspectmode": "manual",
         "aspectratio": {
          "x": 1,
          "y": 1,
          "z": 0.6
         },
         "xaxis": {
          "range": [
           -3,
           1
          ],
          "title": {
           "text": "Pca 1 var 0.86"
          }
         },
         "yaxis": {
          "range": [
           -3,
           1
          ],
          "title": {
           "text": "Pca 2 var 0.07"
          }
         },
         "zaxis": {
          "range": [
           0.575017511844635,
           6.533545017242432
          ],
          "title": {
           "text": "Loss"
          }
         }
        },
        "template": {
         "data": {
          "bar": [
           {
            "error_x": {
             "color": "#2a3f5f"
            },
            "error_y": {
             "color": "#2a3f5f"
            },
            "marker": {
             "line": {
              "color": "#E5ECF6",
              "width": 0.5
             },
             "pattern": {
              "fillmode": "overlay",
              "size": 10,
              "solidity": 0.2
             }
            },
            "type": "bar"
           }
          ],
          "barpolar": [
           {
            "marker": {
             "line": {
              "color": "#E5ECF6",
              "width": 0.5
             },
             "pattern": {
              "fillmode": "overlay",
              "size": 10,
              "solidity": 0.2
             }
            },
            "type": "barpolar"
           }
          ],
          "carpet": [
           {
            "aaxis": {
             "endlinecolor": "#2a3f5f",
             "gridcolor": "white",
             "linecolor": "white",
             "minorgridcolor": "white",
             "startlinecolor": "#2a3f5f"
            },
            "baxis": {
             "endlinecolor": "#2a3f5f",
             "gridcolor": "white",
             "linecolor": "white",
             "minorgridcolor": "white",
             "startlinecolor": "#2a3f5f"
            },
            "type": "carpet"
           }
          ],
          "choropleth": [
           {
            "colorbar": {
             "outlinewidth": 0,
             "ticks": ""
            },
            "type": "choropleth"
           }
          ],
          "contour": [
           {
            "colorbar": {
             "outlinewidth": 0,
             "ticks": ""
            },
            "colorscale": [
             [
              0,
              "#0d0887"
             ],
             [
              0.1111111111111111,
              "#46039f"
             ],
             [
              0.2222222222222222,
              "#7201a8"
             ],
             [
              0.3333333333333333,
              "#9c179e"
             ],
             [
              0.4444444444444444,
              "#bd3786"
             ],
             [
              0.5555555555555556,
              "#d8576b"
             ],
             [
              0.6666666666666666,
              "#ed7953"
             ],
             [
              0.7777777777777778,
              "#fb9f3a"
             ],
             [
              0.8888888888888888,
              "#fdca26"
             ],
             [
              1,
              "#f0f921"
             ]
            ],
            "type": "contour"
           }
          ],
          "contourcarpet": [
           {
            "colorbar": {
             "outlinewidth": 0,
             "ticks": ""
            },
            "type": "contourcarpet"
           }
          ],
          "heatmap": [
           {
            "colorbar": {
             "outlinewidth": 0,
             "ticks": ""
            },
            "colorscale": [
             [
              0,
              "#0d0887"
             ],
             [
              0.1111111111111111,
              "#46039f"
             ],
             [
              0.2222222222222222,
              "#7201a8"
             ],
             [
              0.3333333333333333,
              "#9c179e"
             ],
             [
              0.4444444444444444,
              "#bd3786"
             ],
             [
              0.5555555555555556,
              "#d8576b"
             ],
             [
              0.6666666666666666,
              "#ed7953"
             ],
             [
              0.7777777777777778,
              "#fb9f3a"
             ],
             [
              0.8888888888888888,
              "#fdca26"
             ],
             [
              1,
              "#f0f921"
             ]
            ],
            "type": "heatmap"
           }
          ],
          "heatmapgl": [
           {
            "colorbar": {
             "outlinewidth": 0,
             "ticks": ""
            },
            "colorscale": [
             [
              0,
              "#0d0887"
             ],
             [
              0.1111111111111111,
              "#46039f"
             ],
             [
              0.2222222222222222,
              "#7201a8"
             ],
             [
              0.3333333333333333,
              "#9c179e"
             ],
             [
              0.4444444444444444,
              "#bd3786"
             ],
             [
              0.5555555555555556,
              "#d8576b"
             ],
             [
              0.6666666666666666,
              "#ed7953"
             ],
             [
              0.7777777777777778,
              "#fb9f3a"
             ],
             [
              0.8888888888888888,
              "#fdca26"
             ],
             [
              1,
              "#f0f921"
             ]
            ],
            "type": "heatmapgl"
           }
          ],
          "histogram": [
           {
            "marker": {
             "pattern": {
              "fillmode": "overlay",
              "size": 10,
              "solidity": 0.2
             }
            },
            "type": "histogram"
           }
          ],
          "histogram2d": [
           {
            "colorbar": {
             "outlinewidth": 0,
             "ticks": ""
            },
            "colorscale": [
             [
              0,
              "#0d0887"
             ],
             [
              0.1111111111111111,
              "#46039f"
             ],
             [
              0.2222222222222222,
              "#7201a8"
             ],
             [
              0.3333333333333333,
              "#9c179e"
             ],
             [
              0.4444444444444444,
              "#bd3786"
             ],
             [
              0.5555555555555556,
              "#d8576b"
             ],
             [
              0.6666666666666666,
              "#ed7953"
             ],
             [
              0.7777777777777778,
              "#fb9f3a"
             ],
             [
              0.8888888888888888,
              "#fdca26"
             ],
             [
              1,
              "#f0f921"
             ]
            ],
            "type": "histogram2d"
           }
          ],
          "histogram2dcontour": [
           {
            "colorbar": {
             "outlinewidth": 0,
             "ticks": ""
            },
            "colorscale": [
             [
              0,
              "#0d0887"
             ],
             [
              0.1111111111111111,
              "#46039f"
             ],
             [
              0.2222222222222222,
              "#7201a8"
             ],
             [
              0.3333333333333333,
              "#9c179e"
             ],
             [
              0.4444444444444444,
              "#bd3786"
             ],
             [
              0.5555555555555556,
              "#d8576b"
             ],
             [
              0.6666666666666666,
              "#ed7953"
             ],
             [
              0.7777777777777778,
              "#fb9f3a"
             ],
             [
              0.8888888888888888,
              "#fdca26"
             ],
             [
              1,
              "#f0f921"
             ]
            ],
            "type": "histogram2dcontour"
           }
          ],
          "mesh3d": [
           {
            "colorbar": {
             "outlinewidth": 0,
             "ticks": ""
            },
            "type": "mesh3d"
           }
          ],
          "parcoords": [
           {
            "line": {
             "colorbar": {
              "outlinewidth": 0,
              "ticks": ""
             }
            },
            "type": "parcoords"
           }
          ],
          "pie": [
           {
            "automargin": true,
            "type": "pie"
           }
          ],
          "scatter": [
           {
            "fillpattern": {
             "fillmode": "overlay",
             "size": 10,
             "solidity": 0.2
            },
            "type": "scatter"
           }
          ],
          "scatter3d": [
           {
            "line": {
             "colorbar": {
              "outlinewidth": 0,
              "ticks": ""
             }
            },
            "marker": {
             "colorbar": {
              "outlinewidth": 0,
              "ticks": ""
             }
            },
            "type": "scatter3d"
           }
          ],
          "scattercarpet": [
           {
            "marker": {
             "colorbar": {
              "outlinewidth": 0,
              "ticks": ""
             }
            },
            "type": "scattercarpet"
           }
          ],
          "scattergeo": [
           {
            "marker": {
             "colorbar": {
              "outlinewidth": 0,
              "ticks": ""
             }
            },
            "type": "scattergeo"
           }
          ],
          "scattergl": [
           {
            "marker": {
             "colorbar": {
              "outlinewidth": 0,
              "ticks": ""
             }
            },
            "type": "scattergl"
           }
          ],
          "scattermapbox": [
           {
            "marker": {
             "colorbar": {
              "outlinewidth": 0,
              "ticks": ""
             }
            },
            "type": "scattermapbox"
           }
          ],
          "scatterpolar": [
           {
            "marker": {
             "colorbar": {
              "outlinewidth": 0,
              "ticks": ""
             }
            },
            "type": "scatterpolar"
           }
          ],
          "scatterpolargl": [
           {
            "marker": {
             "colorbar": {
              "outlinewidth": 0,
              "ticks": ""
             }
            },
            "type": "scatterpolargl"
           }
          ],
          "scatterternary": [
           {
            "marker": {
             "colorbar": {
              "outlinewidth": 0,
              "ticks": ""
             }
            },
            "type": "scatterternary"
           }
          ],
          "surface": [
           {
            "colorbar": {
             "outlinewidth": 0,
             "ticks": ""
            },
            "colorscale": [
             [
              0,
              "#0d0887"
             ],
             [
              0.1111111111111111,
              "#46039f"
             ],
             [
              0.2222222222222222,
              "#7201a8"
             ],
             [
              0.3333333333333333,
              "#9c179e"
             ],
             [
              0.4444444444444444,
              "#bd3786"
             ],
             [
              0.5555555555555556,
              "#d8576b"
             ],
             [
              0.6666666666666666,
              "#ed7953"
             ],
             [
              0.7777777777777778,
              "#fb9f3a"
             ],
             [
              0.8888888888888888,
              "#fdca26"
             ],
             [
              1,
              "#f0f921"
             ]
            ],
            "type": "surface"
           }
          ],
          "table": [
           {
            "cells": {
             "fill": {
              "color": "#EBF0F8"
             },
             "line": {
              "color": "white"
             }
            },
            "header": {
             "fill": {
              "color": "#C8D4E3"
             },
             "line": {
              "color": "white"
             }
            },
            "type": "table"
           }
          ]
         },
         "layout": {
          "annotationdefaults": {
           "arrowcolor": "#2a3f5f",
           "arrowhead": 0,
           "arrowwidth": 1
          },
          "autotypenumbers": "strict",
          "coloraxis": {
           "colorbar": {
            "outlinewidth": 0,
            "ticks": ""
           }
          },
          "colorscale": {
           "diverging": [
            [
             0,
             "#8e0152"
            ],
            [
             0.1,
             "#c51b7d"
            ],
            [
             0.2,
             "#de77ae"
            ],
            [
             0.3,
             "#f1b6da"
            ],
            [
             0.4,
             "#fde0ef"
            ],
            [
             0.5,
             "#f7f7f7"
            ],
            [
             0.6,
             "#e6f5d0"
            ],
            [
             0.7,
             "#b8e186"
            ],
            [
             0.8,
             "#7fbc41"
            ],
            [
             0.9,
             "#4d9221"
            ],
            [
             1,
             "#276419"
            ]
           ],
           "sequential": [
            [
             0,
             "#0d0887"
            ],
            [
             0.1111111111111111,
             "#46039f"
            ],
            [
             0.2222222222222222,
             "#7201a8"
            ],
            [
             0.3333333333333333,
             "#9c179e"
            ],
            [
             0.4444444444444444,
             "#bd3786"
            ],
            [
             0.5555555555555556,
             "#d8576b"
            ],
            [
             0.6666666666666666,
             "#ed7953"
            ],
            [
             0.7777777777777778,
             "#fb9f3a"
            ],
            [
             0.8888888888888888,
             "#fdca26"
            ],
            [
             1,
             "#f0f921"
            ]
           ],
           "sequentialminus": [
            [
             0,
             "#0d0887"
            ],
            [
             0.1111111111111111,
             "#46039f"
            ],
            [
             0.2222222222222222,
             "#7201a8"
            ],
            [
             0.3333333333333333,
             "#9c179e"
            ],
            [
             0.4444444444444444,
             "#bd3786"
            ],
            [
             0.5555555555555556,
             "#d8576b"
            ],
            [
             0.6666666666666666,
             "#ed7953"
            ],
            [
             0.7777777777777778,
             "#fb9f3a"
            ],
            [
             0.8888888888888888,
             "#fdca26"
            ],
            [
             1,
             "#f0f921"
            ]
           ]
          },
          "colorway": [
           "#636efa",
           "#EF553B",
           "#00cc96",
           "#ab63fa",
           "#FFA15A",
           "#19d3f3",
           "#FF6692",
           "#B6E880",
           "#FF97FF",
           "#FECB52"
          ],
          "font": {
           "color": "#2a3f5f"
          },
          "geo": {
           "bgcolor": "white",
           "lakecolor": "white",
           "landcolor": "#E5ECF6",
           "showlakes": true,
           "showland": true,
           "subunitcolor": "white"
          },
          "hoverlabel": {
           "align": "left"
          },
          "hovermode": "closest",
          "mapbox": {
           "style": "light"
          },
          "paper_bgcolor": "white",
          "plot_bgcolor": "#E5ECF6",
          "polar": {
           "angularaxis": {
            "gridcolor": "white",
            "linecolor": "white",
            "ticks": ""
           },
           "bgcolor": "#E5ECF6",
           "radialaxis": {
            "gridcolor": "white",
            "linecolor": "white",
            "ticks": ""
           }
          },
          "scene": {
           "xaxis": {
            "backgroundcolor": "#E5ECF6",
            "gridcolor": "white",
            "gridwidth": 2,
            "linecolor": "white",
            "showbackground": true,
            "ticks": "",
            "zerolinecolor": "white"
           },
           "yaxis": {
            "backgroundcolor": "#E5ECF6",
            "gridcolor": "white",
            "gridwidth": 2,
            "linecolor": "white",
            "showbackground": true,
            "ticks": "",
            "zerolinecolor": "white"
           },
           "zaxis": {
            "backgroundcolor": "#E5ECF6",
            "gridcolor": "white",
            "gridwidth": 2,
            "linecolor": "white",
            "showbackground": true,
            "ticks": "",
            "zerolinecolor": "white"
           }
          },
          "shapedefaults": {
           "line": {
            "color": "#2a3f5f"
           }
          },
          "ternary": {
           "aaxis": {
            "gridcolor": "white",
            "linecolor": "white",
            "ticks": ""
           },
           "baxis": {
            "gridcolor": "white",
            "linecolor": "white",
            "ticks": ""
           },
           "bgcolor": "#E5ECF6",
           "caxis": {
            "gridcolor": "white",
            "linecolor": "white",
            "ticks": ""
           }
          },
          "title": {
           "x": 0.05
          },
          "xaxis": {
           "automargin": true,
           "gridcolor": "white",
           "linecolor": "white",
           "ticks": "",
           "title": {
            "standoff": 15
           },
           "zerolinecolor": "white",
           "zerolinewidth": 2
          },
          "yaxis": {
           "automargin": true,
           "gridcolor": "white",
           "linecolor": "white",
           "ticks": "",
           "title": {
            "standoff": 15
           },
           "zerolinecolor": "white",
           "zerolinewidth": 2
          }
         }
        },
        "width": 800
       }
      }
     },
     "metadata": {},
     "output_type": "display_data"
    }
   ],
   "source": [
    "plot_optimization_path_3d(losses.T, x_steps, y_steps, projected_dir_one, projected_dir_two, pca)"
   ]
  },
  {
   "cell_type": "code",
   "execution_count": null,
   "metadata": {},
   "outputs": [],
   "source": []
  }
 ],
 "metadata": {
  "kernelspec": {
   "display_name": "base",
   "language": "python",
   "name": "python3"
  },
  "language_info": {
   "codemirror_mode": {
    "name": "ipython",
    "version": 3
   },
   "file_extension": ".py",
   "mimetype": "text/x-python",
   "name": "python",
   "nbconvert_exporter": "python",
   "pygments_lexer": "ipython3",
   "version": "3.9.13"
  }
 },
 "nbformat": 4,
 "nbformat_minor": 2
}
